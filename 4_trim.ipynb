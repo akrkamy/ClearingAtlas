{
 "cells": [
  {
   "cell_type": "code",
   "execution_count": 10,
   "metadata": {},
   "outputs": [],
   "source": [
    "import reset\n",
    "from pathlib import Path\n",
    "import numpy as np\n",
    "import tifffile\n",
    "import pandas as pd"
   ]
  },
  {
   "cell_type": "code",
   "execution_count": 14,
   "metadata": {},
   "outputs": [],
   "source": [
    "# Assign variables from reset\n",
    "animal_loc = reset.animal_loc\n",
    "animal_id = reset.animal_id\n",
    "hemi = reset.hemi\n",
    "divisor = reset.divisor\n",
    "down_x = reset.down_x\n",
    "down_y = reset.down_y\n",
    "loc_max = reset.loc_max\n",
    "grid = reset.grid\n",
    "frame_len = reset.frame_len"
   ]
  },
  {
   "cell_type": "code",
   "execution_count": 15,
   "metadata": {},
   "outputs": [],
   "source": [
    "# Define paths for input and output images\n",
    "image_loc = animal_loc / \"concatenated\" / hemi\n",
    "save_loc = animal_loc / \"trimmed\" / hemi\n",
    "\n",
    "# Ensure save location exists\n",
    "save_loc.mkdir(parents=True, exist_ok=True)"
   ]
  },
  {
   "cell_type": "code",
   "execution_count": 16,
   "metadata": {},
   "outputs": [],
   "source": [
    "# Initialize DataFrame for tracking\n",
    "df = pd.DataFrame(columns=[\"Location\", \"Initial Length\", \"First Frame\", \"Last Frame\"])"
   ]
  },
  {
   "cell_type": "code",
   "execution_count": null,
   "metadata": {},
   "outputs": [],
   "source": [
    "# Loop over each location\n",
    "for loc in range(1, loc_max + 1):\n",
    "    # Construct file paths\n",
    "    image_name = f\"{animal_id}_{hemi}_{loc}.tif\"\n",
    "    image_path = image_loc / image_name\n",
    "    save_path = save_loc / image_name\n",
    "\n",
    "    # Load image\n",
    "    image_array = tifffile.imread(image_path)\n",
    "    xsize = int(down_x / grid)\n",
    "    ysize = int(down_y / grid)\n",
    "\n",
    "    # Initialize comparison sets\n",
    "    old_set = set()\n",
    "    start_trim = False\n",
    "    f1 = None  # Start frame for trimming\n",
    "\n",
    "    # Compare consecutive frames to detect trimming start\n",
    "    for i in range(len(image_array) - 1):\n",
    "        diff_md_list = []\n",
    "        \n",
    "        # Extract consecutive frames\n",
    "        tdframe1 = image_array[i]\n",
    "        tdframe2 = image_array[i + 1]\n",
    "\n",
    "        # Compute median differences within grid blocks\n",
    "        for y in range(grid):\n",
    "            for x in range(grid):\n",
    "                rect1 = tdframe1[y * ysize:(y + 1) * ysize, x * xsize:(x + 1) * xsize]\n",
    "                rect2 = tdframe2[y * ysize:(y + 1) * ysize, x * xsize:(x + 1) * xsize]\n",
    "                diff_md = np.median(np.abs(rect1 - rect2).flatten())\n",
    "                diff_md_list.append(diff_md)\n",
    "\n",
    "        # Compare sets of median differences\n",
    "        new_set = set(diff_md_list)\n",
    "\n",
    "        # Detect trimming start\n",
    "        if i > 0 and old_set != new_set:\n",
    "            start_trim = True\n",
    "            f1 = i + 1  # Record start frame\n",
    "            break\n",
    "\n",
    "        # Update old set\n",
    "        old_set = new_set\n",
    "\n",
    "    # Perform trimming if necessary\n",
    "    if start_trim and f1 is not None:\n",
    "        last_frame = min(f1 + frame_len - 1, len(image_array) - 1)\n",
    "\n",
    "        # Identify frames to delete\n",
    "        delf_list = list(range(f1 - 1)) + list(range(last_frame + 1, len(image_array)))\n",
    "\n",
    "        # Trim and save image array\n",
    "        new_image_array = np.delete(image_array, delf_list, axis=0)\n",
    "        tifffile.imwrite(save_path, new_image_array)\n",
    "    else:\n",
    "        print(f\"Less than {frame_len} frames available to trim or no start found for location {loc}.\")\n",
    "\n",
    "    # Update DataFrame with trim information\n",
    "    df.loc[len(df.index)] = [str(loc), len(image_array), f1, last_frame if start_trim else \"N/A\"]"
   ]
  },
  {
   "cell_type": "code",
   "execution_count": 18,
   "metadata": {},
   "outputs": [
    {
     "name": "stdout",
     "output_type": "stream",
     "text": [
      "Trimming info saved to /Volumes/BaffaloSSDPUTU3C1TB/rbak_data/rbak006/trimmed/l/rbak006_l_trim.xlsx\n"
     ]
    }
   ],
   "source": [
    "# Save DataFrame to Excel\n",
    "excel_path = save_loc / f\"{animal_id}_{hemi}_trim.xlsx\"\n",
    "df.to_excel(excel_path, index=False)\n",
    "print(f\"Trimming info saved to {excel_path}\")"
   ]
  },
  {
   "cell_type": "code",
   "execution_count": 19,
   "metadata": {},
   "outputs": [
    {
     "name": "stdout",
     "output_type": "stream",
     "text": [
      "    Location  Initial Length  First Frame  Last Frame\n",
      "0          1              67            3          64\n",
      "1          2              66            4          65\n",
      "2          3              66            3          64\n",
      "3          4              66            2          63\n",
      "4          5              68            4          65\n",
      "5          6              69            4          65\n",
      "6          7              65            4          64\n",
      "7          8              75            4          65\n",
      "8          9              69            5          66\n",
      "9         10              65            4          64\n",
      "10        11              69            3          64\n",
      "11        12              67            4          65\n",
      "12        13              65            3          64\n",
      "13        14              66            5          65\n",
      "14        15              67           20          66\n",
      "15        16              68            5          66\n",
      "16        17              66            4          65\n",
      "17        18              66            6          65\n"
     ]
    }
   ],
   "source": [
    "# Verify Excel contents\n",
    "print(pd.read_excel(excel_path))"
   ]
  }
 ],
 "metadata": {
  "colab": {
   "provenance": []
  },
  "kernelspec": {
   "display_name": "Long-Evans_Atlas",
   "language": "python",
   "name": "python3"
  },
  "language_info": {
   "codemirror_mode": {
    "name": "ipython",
    "version": 3
   },
   "file_extension": ".py",
   "mimetype": "text/x-python",
   "name": "python",
   "nbconvert_exporter": "python",
   "pygments_lexer": "ipython3",
   "version": "3.11.9"
  }
 },
 "nbformat": 4,
 "nbformat_minor": 0
}
