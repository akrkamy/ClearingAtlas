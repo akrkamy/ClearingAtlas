{
 "cells": [
  {
   "cell_type": "code",
   "execution_count": 6,
   "metadata": {},
   "outputs": [],
   "source": [
    "import numpy as np\n",
    "import tifffile as tiff\n",
    "import matplotlib.pyplot as plt\n",
    "import reset\n",
    "from pathlib import Path"
   ]
  },
  {
   "cell_type": "code",
   "execution_count": 7,
   "metadata": {},
   "outputs": [
    {
     "name": "stdout",
     "output_type": "stream",
     "text": [
      "Reference image: /Volumes/BaffaloSSDPUTU3C1TB/rbak_data/ffc/target.tif\n",
      "Sample image: /Volumes/BaffaloSSDPUTU3C1TB/rbak_data/rbak006/trimmed/l/rbak006_l_1.tif\n",
      "Normalized stack saved to /Volumes/BaffaloSSDPUTU3C1TB/rbak_data/rbak006/ffc/l/rbak006_l_1.tif\n",
      "Reference image: /Volumes/BaffaloSSDPUTU3C1TB/rbak_data/ffc/target.tif\n",
      "Sample image: /Volumes/BaffaloSSDPUTU3C1TB/rbak_data/rbak006/trimmed/l/rbak006_l_2.tif\n",
      "Normalized stack saved to /Volumes/BaffaloSSDPUTU3C1TB/rbak_data/rbak006/ffc/l/rbak006_l_2.tif\n",
      "Reference image: /Volumes/BaffaloSSDPUTU3C1TB/rbak_data/ffc/target.tif\n",
      "Sample image: /Volumes/BaffaloSSDPUTU3C1TB/rbak_data/rbak006/trimmed/l/rbak006_l_3.tif\n",
      "Normalized stack saved to /Volumes/BaffaloSSDPUTU3C1TB/rbak_data/rbak006/ffc/l/rbak006_l_3.tif\n",
      "Reference image: /Volumes/BaffaloSSDPUTU3C1TB/rbak_data/ffc/target.tif\n",
      "Sample image: /Volumes/BaffaloSSDPUTU3C1TB/rbak_data/rbak006/trimmed/l/rbak006_l_4.tif\n",
      "Normalized stack saved to /Volumes/BaffaloSSDPUTU3C1TB/rbak_data/rbak006/ffc/l/rbak006_l_4.tif\n",
      "Reference image: /Volumes/BaffaloSSDPUTU3C1TB/rbak_data/ffc/target.tif\n",
      "Sample image: /Volumes/BaffaloSSDPUTU3C1TB/rbak_data/rbak006/trimmed/l/rbak006_l_5.tif\n",
      "Normalized stack saved to /Volumes/BaffaloSSDPUTU3C1TB/rbak_data/rbak006/ffc/l/rbak006_l_5.tif\n",
      "Reference image: /Volumes/BaffaloSSDPUTU3C1TB/rbak_data/ffc/target.tif\n",
      "Sample image: /Volumes/BaffaloSSDPUTU3C1TB/rbak_data/rbak006/trimmed/l/rbak006_l_6.tif\n",
      "Normalized stack saved to /Volumes/BaffaloSSDPUTU3C1TB/rbak_data/rbak006/ffc/l/rbak006_l_6.tif\n",
      "Reference image: /Volumes/BaffaloSSDPUTU3C1TB/rbak_data/ffc/target.tif\n",
      "Sample image: /Volumes/BaffaloSSDPUTU3C1TB/rbak_data/rbak006/trimmed/l/rbak006_l_7.tif\n",
      "Normalized stack saved to /Volumes/BaffaloSSDPUTU3C1TB/rbak_data/rbak006/ffc/l/rbak006_l_7.tif\n",
      "Reference image: /Volumes/BaffaloSSDPUTU3C1TB/rbak_data/ffc/target.tif\n",
      "Sample image: /Volumes/BaffaloSSDPUTU3C1TB/rbak_data/rbak006/trimmed/l/rbak006_l_8.tif\n",
      "Normalized stack saved to /Volumes/BaffaloSSDPUTU3C1TB/rbak_data/rbak006/ffc/l/rbak006_l_8.tif\n",
      "Reference image: /Volumes/BaffaloSSDPUTU3C1TB/rbak_data/ffc/target.tif\n",
      "Sample image: /Volumes/BaffaloSSDPUTU3C1TB/rbak_data/rbak006/trimmed/l/rbak006_l_9.tif\n",
      "Normalized stack saved to /Volumes/BaffaloSSDPUTU3C1TB/rbak_data/rbak006/ffc/l/rbak006_l_9.tif\n",
      "Reference image: /Volumes/BaffaloSSDPUTU3C1TB/rbak_data/ffc/target.tif\n",
      "Sample image: /Volumes/BaffaloSSDPUTU3C1TB/rbak_data/rbak006/trimmed/l/rbak006_l_10.tif\n",
      "Normalized stack saved to /Volumes/BaffaloSSDPUTU3C1TB/rbak_data/rbak006/ffc/l/rbak006_l_10.tif\n",
      "Reference image: /Volumes/BaffaloSSDPUTU3C1TB/rbak_data/ffc/target.tif\n",
      "Sample image: /Volumes/BaffaloSSDPUTU3C1TB/rbak_data/rbak006/trimmed/l/rbak006_l_11.tif\n",
      "Normalized stack saved to /Volumes/BaffaloSSDPUTU3C1TB/rbak_data/rbak006/ffc/l/rbak006_l_11.tif\n",
      "Reference image: /Volumes/BaffaloSSDPUTU3C1TB/rbak_data/ffc/target.tif\n",
      "Sample image: /Volumes/BaffaloSSDPUTU3C1TB/rbak_data/rbak006/trimmed/l/rbak006_l_12.tif\n",
      "Normalized stack saved to /Volumes/BaffaloSSDPUTU3C1TB/rbak_data/rbak006/ffc/l/rbak006_l_12.tif\n",
      "Reference image: /Volumes/BaffaloSSDPUTU3C1TB/rbak_data/ffc/target.tif\n",
      "Sample image: /Volumes/BaffaloSSDPUTU3C1TB/rbak_data/rbak006/trimmed/l/rbak006_l_13.tif\n",
      "Normalized stack saved to /Volumes/BaffaloSSDPUTU3C1TB/rbak_data/rbak006/ffc/l/rbak006_l_13.tif\n",
      "Reference image: /Volumes/BaffaloSSDPUTU3C1TB/rbak_data/ffc/target.tif\n",
      "Sample image: /Volumes/BaffaloSSDPUTU3C1TB/rbak_data/rbak006/trimmed/l/rbak006_l_14.tif\n",
      "Normalized stack saved to /Volumes/BaffaloSSDPUTU3C1TB/rbak_data/rbak006/ffc/l/rbak006_l_14.tif\n",
      "Reference image: /Volumes/BaffaloSSDPUTU3C1TB/rbak_data/ffc/target.tif\n",
      "Sample image: /Volumes/BaffaloSSDPUTU3C1TB/rbak_data/rbak006/trimmed/l/rbak006_l_15.tif\n",
      "Normalized stack saved to /Volumes/BaffaloSSDPUTU3C1TB/rbak_data/rbak006/ffc/l/rbak006_l_15.tif\n",
      "Reference image: /Volumes/BaffaloSSDPUTU3C1TB/rbak_data/ffc/target.tif\n",
      "Sample image: /Volumes/BaffaloSSDPUTU3C1TB/rbak_data/rbak006/trimmed/l/rbak006_l_16.tif\n",
      "Normalized stack saved to /Volumes/BaffaloSSDPUTU3C1TB/rbak_data/rbak006/ffc/l/rbak006_l_16.tif\n",
      "Reference image: /Volumes/BaffaloSSDPUTU3C1TB/rbak_data/ffc/target.tif\n",
      "Sample image: /Volumes/BaffaloSSDPUTU3C1TB/rbak_data/rbak006/trimmed/l/rbak006_l_17.tif\n",
      "Normalized stack saved to /Volumes/BaffaloSSDPUTU3C1TB/rbak_data/rbak006/ffc/l/rbak006_l_17.tif\n",
      "Reference image: /Volumes/BaffaloSSDPUTU3C1TB/rbak_data/ffc/target.tif\n",
      "Sample image: /Volumes/BaffaloSSDPUTU3C1TB/rbak_data/rbak006/trimmed/l/rbak006_l_18.tif\n",
      "Normalized stack saved to /Volumes/BaffaloSSDPUTU3C1TB/rbak_data/rbak006/ffc/l/rbak006_l_18.tif\n"
     ]
    }
   ],
   "source": [
    "ref_path = \"/Volumes/BaffaloSSDPUTU3C1TB/rbak_data/ffc/target.tif\"\n",
    "\n",
    "# Select sample stack\n",
    "sample_loc = [f\"{reset.animal_loc}/trimmed/{reset.hemi}/{reset.animal_id}_{reset.hemi}_{n}.tif\" for n in range (1,reset.loc_max+1)]\n",
    "\n",
    "for sample_path in sample_loc:\n",
    "\n",
    "    print(f\"Reference image: {ref_path}\")\n",
    "    print(f\"Sample image: {sample_path}\")\n",
    "\n",
    "    # Load reference image and compute median array\n",
    "    ref_image = tiff.imread(ref_path)\n",
    "    sampl_image = tiff.imread(sample_path)\n",
    "    corrected_stack =  sampl_image * ref_image\n",
    "    final_array = corrected_stack\n",
    "\n",
    "    # Save the corrected image stack\n",
    "    sample_path = Path(sample_path)\n",
    "    save_path = Path(reset.animal_loc) / \"ffc\" / reset.hemi / sample_path.name\n",
    "    tiff.imwrite(save_path, final_array.astype(np.uint8))\n",
    "    print(f\"Normalized stack saved to {save_path}\")\n"
   ]
  }
 ],
 "metadata": {
  "kernelspec": {
   "display_name": "Long-Evans_Atlas",
   "language": "python",
   "name": "python3"
  },
  "language_info": {
   "codemirror_mode": {
    "name": "ipython",
    "version": 3
   },
   "file_extension": ".py",
   "mimetype": "text/x-python",
   "name": "python",
   "nbconvert_exporter": "python",
   "pygments_lexer": "ipython3",
   "version": "3.11.9"
  }
 },
 "nbformat": 4,
 "nbformat_minor": 2
}
