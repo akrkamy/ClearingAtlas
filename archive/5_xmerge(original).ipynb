{
 "cells": [
  {
   "cell_type": "code",
   "execution_count": 1,
   "metadata": {},
   "outputs": [],
   "source": [
    "import reset\n",
    "from pathlib import Path\n",
    "import numpy as np\n",
    "import scipy as sp\n",
    "import tifffile\n",
    "import math\n",
    "import matplotlib.pyplot as plt"
   ]
  },
  {
   "cell_type": "code",
   "execution_count": 2,
   "metadata": {},
   "outputs": [],
   "source": [
    "# Assign variables from reset\n",
    "animal_loc = reset.animal_loc\n",
    "animal_id = reset.animal_id\n",
    "hemi = reset.hemi\n",
    "divisor = reset.divisor\n",
    "down_x = reset.down_x\n",
    "down_y = reset.down_y\n",
    "loc_max = reset.loc_max\n",
    "grid = reset.grid\n",
    "frame_len = reset.frame_len"
   ]
  },
  {
   "cell_type": "code",
   "execution_count": 3,
   "metadata": {},
   "outputs": [],
   "source": [
    "# Create list of locations as strings\n",
    "loc_list = [str(n+1) for n in range(loc_max)]\n",
    "\n",
    "# Define paths for input and output images\n",
    "image_loc = animal_loc / \"trimmed\" / hemi\n",
    "save_loc = animal_loc / \"xmerge\" / hemi\n",
    "\n",
    "# Ensure save location exists\n",
    "save_loc.mkdir(parents=True, exist_ok=True)\n",
    "\n",
    "image_path_list = [f\"{image_loc}/{animal_id}_{hemi}_{loc}.tif\" for loc in loc_list]"
   ]
  },
  {
   "cell_type": "code",
   "execution_count": 4,
   "metadata": {},
   "outputs": [],
   "source": [
    "\n",
    "# Define function for aligning x positions based on maximum correlation\n",
    "def x_connector(fn, path_num1, path_num2, max_list, start_x_list, rect_x, rect_x_move, rect_x_start):\n",
    "    # Load and extract frames from both images\n",
    "    im1 = tifffile.imread(image_path_list[path_num1 - 1])\n",
    "    im1_f = im1[fn, :, :]\n",
    "    del im1\n",
    "\n",
    "    im2 = tifffile.imread(image_path_list[path_num2 - 1])\n",
    "    im2_f = im2[fn, :, :]\n",
    "    del im2\n",
    "\n",
    "    # Calculate correlations over specified range\n",
    "    cor = [\n",
    "        np.corrcoef(\n",
    "            im1_f[:, :rect_x].ravel(),\n",
    "            im2_f[:, i:i + rect_x].ravel()\n",
    "        )[0, 1]\n",
    "        for i in range(rect_x_start, rect_x_start + rect_x_move)\n",
    "    ]\n",
    "\n",
    "    # Determine start position with max correlation\n",
    "    start_x = np.argmax(cor) + rect_x\n",
    "    max_list.append(max(cor))\n",
    "    start_x_list.append(start_x)\n",
    "\n",
    "def three_sections(f1, f2, f3, frame_name, rect_x, rect_x_move, rect_x_start):\n",
    "    global max1_list, max2_list, start_x1_list, start_x2_list\n",
    "\n",
    "    max1_list, max2_list = [], []\n",
    "    start_x1_list, start_x2_list = [], []\n",
    "\n",
    "    # Loop over frames and call x_connector for all frames\n",
    "    for fn in range(frame_len):\n",
    "        x_connector(fn, f1, f2, max1_list, start_x1_list, rect_x, rect_x_move, rect_x_start)\n",
    "        x_connector(fn, f2, f3, max2_list, start_x2_list, rect_x, rect_x_move, rect_x_start)\n",
    "\n",
    "    # Find target frames and starting x positions for maximum correlations\n",
    "    target1_fn = np.argmax(max1_list)\n",
    "    target1_start_x = start_x1_list[target1_fn]\n",
    "    target2_fn = np.argmax(max2_list)\n",
    "    target2_start_x = start_x2_list[target2_fn]\n",
    "    print(\"First section target frame and start x:\", target1_fn, target1_start_x)\n",
    "    print(\"Second section target frame and start x:\", target2_fn, target2_start_x)\n",
    "\n",
    "    # Load and align images in frame_name for all frames\n",
    "    for fn in range(frame_len):\n",
    "        im1 = tifffile.imread(image_path_list[f1 - 1])\n",
    "        rot_im1 = im1[fn, ::-1, ::-1]\n",
    "        frame_name[fn, :, :width] = rot_im1\n",
    "        del im1\n",
    "\n",
    "        im2 = tifffile.imread(image_path_list[f2 - 1])\n",
    "        rot_im2 = im2[fn, ::-1, ::-1]\n",
    "        frame_name[fn, :, width:2 * width - target1_start_x] = rot_im2[:, target1_start_x:]\n",
    "        del im2\n",
    "\n",
    "        im3 = tifffile.imread(image_path_list[f3 - 1])\n",
    "        rot_im3 = im3[fn, ::-1, ::-1]\n",
    "        frame_name[fn, :, 2 * width - target1_start_x:3 * width - target1_start_x - target2_start_x] = rot_im3[:, target2_start_x:]\n",
    "        del im3"
   ]
  },
  {
   "cell_type": "code",
   "execution_count": 5,
   "metadata": {},
   "outputs": [],
   "source": [
    "rect_x = 35\n",
    "rect_x_move = 100\n",
    "rect_x_start = down_x - rect_x - rect_x_move\n",
    "\n",
    "width = down_x\n",
    "frame_height = down_y\n",
    "frame_width = 3 * width\n",
    "\n",
    "# Initialize frames for top, middle, and bottom sections\n",
    "frame_top = np.zeros((frame_len, frame_height, frame_width))\n",
    "frame_middle = np.zeros((frame_len, frame_height, frame_width))\n",
    "frame_bottom = np.zeros((frame_len, frame_height, frame_width))"
   ]
  },
  {
   "cell_type": "code",
   "execution_count": 6,
   "metadata": {},
   "outputs": [
    {
     "name": "stdout",
     "output_type": "stream",
     "text": [
      "First section target frame and start x: 26 130\n",
      "Second section target frame and start x: 19 87\n",
      "Aligned image saved to /Volumes/BaffaloSSDPUTU3C1TB/rbak_data/rbak006/xmerge/l/rbak006_l_789.tif\n"
     ]
    }
   ],
   "source": [
    "# Run alignment on specified sections\n",
    "three_sections(7, 8, 9, frame_top, rect_x, rect_x_move, rect_x_start)\n",
    "# Save the aligned image\n",
    "save_path = save_loc / f\"{animal_id}_{hemi}_789.tif\"\n",
    "tifffile.imwrite(save_path, frame_top)\n",
    "print(f\"Aligned image saved to {save_path}\")"
   ]
  },
  {
   "cell_type": "code",
   "execution_count": 7,
   "metadata": {},
   "outputs": [
    {
     "name": "stdout",
     "output_type": "stream",
     "text": [
      "First section target frame and start x: 60 126\n",
      "Second section target frame and start x: 6 39\n",
      "Aligned image saved to /Volumes/BaffaloSSDPUTU3C1TB/rbak_data/rbak006/xmerge/l/rbak006_l_123.tif\n"
     ]
    }
   ],
   "source": [
    "three_sections(1, 2, 3, frame_top, rect_x, rect_x_move, rect_x_start)\n",
    "save_path = save_loc / f\"{animal_id}_{hemi}_123.tif\"\n",
    "tifffile.imwrite(save_path, frame_top)\n",
    "print(f\"Aligned image saved to {save_path}\")"
   ]
  },
  {
   "cell_type": "code",
   "execution_count": 8,
   "metadata": {},
   "outputs": [
    {
     "name": "stdout",
     "output_type": "stream",
     "text": [
      "First section target frame and start x: 26 87\n",
      "Second section target frame and start x: 60 129\n",
      "Aligned image saved to /Volumes/BaffaloSSDPUTU3C1TB/rbak_data/rbak006/xmerge/l/rbak006_l_654.tif\n"
     ]
    }
   ],
   "source": [
    "three_sections(6, 5, 4, frame_top, rect_x, rect_x_move, rect_x_start)\n",
    "save_path = save_loc / f\"{animal_id}_{hemi}_654.tif\"\n",
    "tifffile.imwrite(save_path, frame_top)\n",
    "print(f\"Aligned image saved to {save_path}\")"
   ]
  },
  {
   "cell_type": "code",
   "execution_count": null,
   "metadata": {},
   "outputs": [],
   "source": [
    "# Display the aligned image\n",
    "plt.imshow(frame_top[0,:,:])\n",
    "plt.show()"
   ]
  },
  {
   "cell_type": "code",
   "execution_count": null,
   "metadata": {},
   "outputs": [],
   "source": []
  }
 ],
 "metadata": {
  "kernelspec": {
   "display_name": "Long-Evans_Atlas",
   "language": "python",
   "name": "python3"
  },
  "language_info": {
   "codemirror_mode": {
    "name": "ipython",
    "version": 3
   },
   "file_extension": ".py",
   "mimetype": "text/x-python",
   "name": "python",
   "nbconvert_exporter": "python",
   "pygments_lexer": "ipython3",
   "version": "3.11.9"
  }
 },
 "nbformat": 4,
 "nbformat_minor": 2
}
