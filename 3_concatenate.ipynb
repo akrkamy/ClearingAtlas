{
 "cells": [
  {
   "cell_type": "code",
   "execution_count": 1,
   "metadata": {},
   "outputs": [],
   "source": [
    "import reset\n",
    "from pathlib import Path\n",
    "import tifffile\n",
    "import numpy as np"
   ]
  },
  {
   "cell_type": "code",
   "execution_count": null,
   "metadata": {},
   "outputs": [],
   "source": [
    "animal_id = reset.animal_id\n",
    "animal_loc = reset.animal_loc\n",
    "hemi = reset.hemi"
   ]
  },
  {
   "cell_type": "code",
   "execution_count": null,
   "metadata": {},
   "outputs": [],
   "source": [
    "# Construct folder locations\n",
    "folder_loc = animal_loc / \"downsample\" / hemi\n",
    "save_loc = animal_loc / \"concatenated\" / hemi\n",
    "\n",
    "# Ensure the save directory exists\n",
    "save_loc.mkdir(parents=True, exist_ok=True)"
   ]
  },
  {
   "cell_type": "code",
   "execution_count": null,
   "metadata": {},
   "outputs": [
    {
     "name": "stdout",
     "output_type": "stream",
     "text": [
      "Saved concatenated image: /Volumes/BaffaloSSDPUTU3C1TB/rbak_data/rbak006/concatenated/l/rbak006_l_1.tif\n",
      "Saved concatenated image: /Volumes/BaffaloSSDPUTU3C1TB/rbak_data/rbak006/concatenated/l/rbak006_l_2.tif\n",
      "Saved concatenated image: /Volumes/BaffaloSSDPUTU3C1TB/rbak_data/rbak006/concatenated/l/rbak006_l_3.tif\n",
      "Saved concatenated image: /Volumes/BaffaloSSDPUTU3C1TB/rbak_data/rbak006/concatenated/l/rbak006_l_4.tif\n",
      "Saved concatenated image: /Volumes/BaffaloSSDPUTU3C1TB/rbak_data/rbak006/concatenated/l/rbak006_l_5.tif\n",
      "Saved concatenated image: /Volumes/BaffaloSSDPUTU3C1TB/rbak_data/rbak006/concatenated/l/rbak006_l_6.tif\n",
      "Saved concatenated image: /Volumes/BaffaloSSDPUTU3C1TB/rbak_data/rbak006/concatenated/l/rbak006_l_7.tif\n",
      "Saved concatenated image: /Volumes/BaffaloSSDPUTU3C1TB/rbak_data/rbak006/concatenated/l/rbak006_l_8.tif\n",
      "Saved concatenated image: /Volumes/BaffaloSSDPUTU3C1TB/rbak_data/rbak006/concatenated/l/rbak006_l_9.tif\n",
      "Saved concatenated image: /Volumes/BaffaloSSDPUTU3C1TB/rbak_data/rbak006/concatenated/l/rbak006_l_10.tif\n",
      "Saved concatenated image: /Volumes/BaffaloSSDPUTU3C1TB/rbak_data/rbak006/concatenated/l/rbak006_l_11.tif\n",
      "Saved concatenated image: /Volumes/BaffaloSSDPUTU3C1TB/rbak_data/rbak006/concatenated/l/rbak006_l_12.tif\n",
      "Saved concatenated image: /Volumes/BaffaloSSDPUTU3C1TB/rbak_data/rbak006/concatenated/l/rbak006_l_13.tif\n",
      "Saved concatenated image: /Volumes/BaffaloSSDPUTU3C1TB/rbak_data/rbak006/concatenated/l/rbak006_l_14.tif\n",
      "Saved concatenated image: /Volumes/BaffaloSSDPUTU3C1TB/rbak_data/rbak006/concatenated/l/rbak006_l_15.tif\n",
      "Saved concatenated image: /Volumes/BaffaloSSDPUTU3C1TB/rbak_data/rbak006/concatenated/l/rbak006_l_16.tif\n",
      "Saved concatenated image: /Volumes/BaffaloSSDPUTU3C1TB/rbak_data/rbak006/concatenated/l/rbak006_l_17.tif\n",
      "Saved concatenated image: /Volumes/BaffaloSSDPUTU3C1TB/rbak_data/rbak006/concatenated/l/rbak006_l_18.tif\n"
     ]
    }
   ],
   "source": [
    "for i in range(1, 1 + reset.loc_max):\n",
    "    # Construct file names\n",
    "    image1_name = f\"{animal_id}_{hemi}_{i}_0.tif\"\n",
    "    image1_path = folder_loc / image1_name\n",
    "\n",
    "    image2_name = f\"{animal_id}_{hemi}_{i}_1.tif\"\n",
    "    image2_path = folder_loc / image2_name\n",
    "\n",
    "    save_name = f\"{animal_id}_{hemi}_{i}.tif\"\n",
    "    save_path = save_loc / save_name\n",
    "\n",
    "    # Check if both images exist\n",
    "    if image1_path.exists() and image2_path.exists():\n",
    "        # Load images and concatenate\n",
    "        im1 = tifffile.imread(image1_path)\n",
    "        im2 = tifffile.imread(image2_path)\n",
    "        im3 = np.concatenate((im1, im2), axis=0)\n",
    "\n",
    "        # Save the concatenated image\n",
    "        tifffile.imwrite(save_path, im3)\n",
    "        print(f\"Saved concatenated image: {save_path}\")\n",
    "    else:\n",
    "        print(f\"Missing files for location {i}: {image1_name} or {image2_name}\")"
   ]
  }
 ],
 "metadata": {
  "kernelspec": {
   "display_name": "Long-Evans_Atlas",
   "language": "python",
   "name": "python3"
  },
  "language_info": {
   "codemirror_mode": {
    "name": "ipython",
    "version": 3
   },
   "file_extension": ".py",
   "mimetype": "text/x-python",
   "name": "python",
   "nbconvert_exporter": "python",
   "pygments_lexer": "ipython3",
   "version": "3.11.9"
  }
 },
 "nbformat": 4,
 "nbformat_minor": 2
}
