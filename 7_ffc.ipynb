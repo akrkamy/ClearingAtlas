{
 "cells": [
  {
   "cell_type": "code",
   "execution_count": 6,
   "metadata": {},
   "outputs": [
    {
     "name": "stdout",
     "output_type": "stream",
     "text": [
      "Reference image: /Volumes/BaffaloSSDPUTU3C1TB/rbak_data/ffc/target.tif\n",
      "Sample image: /Volumes/BaffaloSSDPUTU3C1TB/rbak_data/rbak006/ymerged/l/rbak006_l_2.tif\n",
      "Calculating medians...\n",
      "Calculating normalization values...\n",
      "Preparing normalization image...\n",
      "Applying normalization...\n",
      "Normalized stack saved to /Volumes/BaffaloSSDPUTU3C1TB/rbak_data/rbak006/ffc/l/rbak006_l_2.tif\n"
     ]
    }
   ],
   "source": [
    "import numpy as np\n",
    "import tifffile as tiff\n",
    "from tkinter import Tk, filedialog\n",
    "from PIL import Image\n",
    "import os\n",
    "import reset\n",
    "from pathlib import Path\n",
    "\n",
    "def get_median_array(image):\n",
    "    \"\"\"Calculate the median values along the y-direction for each row.\"\"\"\n",
    "    h, w = image.shape\n",
    "    median_array = np.median(image, axis=1)\n",
    "    return median_array\n",
    "\n",
    "def get_normalizing_values(median_array):\n",
    "    \"\"\"Calculate normalizing coefficients to scale each median value to the maximum median.\"\"\"\n",
    "    max_median = np.max(median_array)\n",
    "    norm_values = max_median / median_array\n",
    "    return norm_values\n",
    "\n",
    "def make_norm_image(image_stack, norm_values):\n",
    "    \"\"\"Create a normalization image stack based on the norm_values.\"\"\"\n",
    "    norm_image_stack = np.array([\n",
    "        np.tile(norm_values, (image_stack.shape[2], 1)).T\n",
    "        for _ in range(image_stack.shape[0])\n",
    "    ], dtype=np.float32)\n",
    "    return norm_image_stack\n",
    "\n",
    "def main():\n",
    "    # Select reference image\n",
    "    Tk().withdraw()  # Hide Tkinter root window\n",
    "    ref_path = filedialog.askopenfilename(title=\"Select a reference image\", filetypes=[(\"TIFF files\", \"*.tif *.tiff\")])\n",
    "    if not ref_path:\n",
    "        print(\"Reference image not selected.\")\n",
    "        return\n",
    "\n",
    "    # Select sample stack\n",
    "    sample_path = filedialog.askopenfilename(title=\"Select a sample image\", filetypes=[(\"TIFF files\", \"*.tif *.tiff\")])\n",
    "    if not sample_path:\n",
    "        print(\"Sample image not selected.\")\n",
    "        return\n",
    "\n",
    "    print(f\"Reference image: {ref_path}\")\n",
    "    print(f\"Sample image: {sample_path}\")\n",
    "\n",
    "    # Load reference image and compute median array\n",
    "    ref_image = np.array(Image.open(ref_path))\n",
    "    print(\"Calculating medians...\")\n",
    "    median_array = get_median_array(ref_image)\n",
    "\n",
    "    # Calculate normalization coefficients\n",
    "    print(\"Calculating normalization values...\")\n",
    "    norm_values = get_normalizing_values(median_array)\n",
    "\n",
    "    # Prepare normalization image based on sample stack dimensions\n",
    "    print(\"Preparing normalization image...\")\n",
    "    sample_stack = tiff.imread(sample_path)\n",
    "    norm_image_stack = make_norm_image(sample_stack, norm_values)\n",
    "\n",
    "    # Apply normalization by multiplying each slice of the sample stack\n",
    "    print(\"Applying normalization...\")\n",
    "    corrected_stack = sample_stack * norm_image_stack\n",
    "\n",
    "    # Save the corrected image stack\n",
    "    sample_path = Path(sample_path)\n",
    "    save_path = Path(reset.animal_loc) / \"ffc\" / \"l\" / sample_path.name\n",
    "    tiff.imwrite(save_path, corrected_stack.astype(np.uint8), photometric='minisblack')\n",
    "    print(f\"Normalized stack saved to {save_path}\")\n",
    "\n",
    "if __name__ == \"__main__\":\n",
    "    main()\n"
   ]
  }
 ],
 "metadata": {
  "kernelspec": {
   "display_name": "Long-Evans_Atlas",
   "language": "python",
   "name": "python3"
  },
  "language_info": {
   "codemirror_mode": {
    "name": "ipython",
    "version": 3
   },
   "file_extension": ".py",
   "mimetype": "text/x-python",
   "name": "python",
   "nbconvert_exporter": "python",
   "pygments_lexer": "ipython3",
   "version": "3.11.9"
  }
 },
 "nbformat": 4,
 "nbformat_minor": 2
}
