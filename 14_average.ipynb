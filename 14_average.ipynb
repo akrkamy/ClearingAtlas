{
 "cells": [
  {
   "cell_type": "code",
   "execution_count": 1,
   "metadata": {},
   "outputs": [],
   "source": [
    "import numpy as np\n",
    "import tifffile as tiff"
   ]
  },
  {
   "cell_type": "code",
   "execution_count": 2,
   "metadata": {},
   "outputs": [],
   "source": [
    "img1path = '/Volumes/BaffaloSSDPUTU3C1TB/rbak_data/scaled/rbak006_l.tif'\n",
    "img2path = '/Volumes/BaffaloSSDPUTU3C1TB/rbak_data/kptransformed/rbak002_l.tif'\n",
    "img1 = tiff.imread(img1path)\n",
    "img2 = tiff.imread(img2path)"
   ]
  },
  {
   "cell_type": "code",
   "execution_count": 3,
   "metadata": {},
   "outputs": [],
   "source": [
    "avrg = (img1 + img2)/2\n",
    "tiff.imwrite('/Volumes/BaffaloSSDPUTU3C1TB/rbak_data/average/average_2_6.tif', avrg.astype('uint8'))"
   ]
  }
 ],
 "metadata": {
  "kernelspec": {
   "display_name": "Long-Evans_Atlas",
   "language": "python",
   "name": "python3"
  },
  "language_info": {
   "codemirror_mode": {
    "name": "ipython",
    "version": 3
   },
   "file_extension": ".py",
   "mimetype": "text/x-python",
   "name": "python",
   "nbconvert_exporter": "python",
   "pygments_lexer": "ipython3",
   "version": "3.11.9"
  }
 },
 "nbformat": 4,
 "nbformat_minor": 2
}
