{
 "cells": [
  {
   "cell_type": "code",
   "execution_count": 17,
   "metadata": {},
   "outputs": [],
   "source": [
    "import reset\n",
    "from pathlib import Path\n",
    "import numpy as np\n",
    "import tifffile"
   ]
  },
  {
   "cell_type": "code",
   "execution_count": 18,
   "metadata": {},
   "outputs": [],
   "source": [
    "# Assign variables from reset\n",
    "animal_loc = reset.animal_loc\n",
    "animal_id = reset.animal_id\n",
    "hemi = reset.hemi\n",
    "frame_len = reset.frame_len"
   ]
  },
  {
   "cell_type": "code",
   "execution_count": 19,
   "metadata": {},
   "outputs": [],
   "source": [
    "# Define paths for input and output images\n",
    "image_loc = animal_loc / \"ymerged\" / hemi\n",
    "save_loc = animal_loc / \"zmerged\"\n",
    "\n",
    "# Ensure save location exists\n",
    "save_loc.mkdir(parents=True, exist_ok=True)\n",
    "\n",
    "image_path_list = [f\"{image_loc}/{animal_id}_{hemi}_{n}.tif\" for n in range(1,3)]"
   ]
  },
  {
   "cell_type": "code",
   "execution_count": 22,
   "metadata": {},
   "outputs": [
    {
     "name": "stdout",
     "output_type": "stream",
     "text": [
      "Image 1: frame 47\n",
      "Image 2: frame 48\n"
     ]
    }
   ],
   "source": [
    "corr_list = []\n",
    "max_corr_list = []\n",
    "im1_max_corr_list = []\n",
    "im2_max_corr_list = []\n",
    "for fn1 in range (47,frame_len):\n",
    "    im1 = tifffile.imread(image_path_list[0])\n",
    "    im1_f = im1[fn1, :, :]\n",
    "    im2 = tifffile.imread(image_path_list[1])\n",
    "    for fn2 in range (47,frame_len):\n",
    "        im2_f = im2[fn2, :, ::-1]\n",
    "        corr = np.corrcoef(im1_f,im2_f)[0, 1]\n",
    "        corr_list.append(corr)\n",
    "    max_corr_list = max(corr_list)\n",
    "    im2_max_corr = np.argmax(corr_list) + 47\n",
    "    im2_max_corr_list.append(im2_max_corr+1)\n",
    "    im1_max_corr_list.append(fn1)\n",
    "corr_frames = np.argmax(max_corr_list)\n",
    "im1_corr = im1_max_corr_list[corr_frames]\n",
    "im2_corr = im2_max_corr_list[corr_frames]\n",
    "print(f\"Image 1: frame {im1_corr}\\nImage 2: frame {im2_corr}\")"
   ]
  },
  {
   "cell_type": "code",
   "execution_count": 23,
   "metadata": {},
   "outputs": [
    {
     "name": "stdout",
     "output_type": "stream",
     "text": [
      "Saved image: /Volumes/BaffaloSSDPUTU3C1TB/rbak_data/rbak006/zmerged/rbak006_l.tif\n"
     ]
    }
   ],
   "source": [
    "image1 = tifffile.imread(image_path_list[0])\n",
    "im1 = image1[:im1_corr,:,:]\n",
    "del image1\n",
    "image2 = tifffile.imread(image_path_list[1])\n",
    "im2 = image2[:im2_corr,:,:]\n",
    "del image2\n",
    "rot2 = im2[::-1,:,::-1]\n",
    "del im2\n",
    "img = np.concatenate((im1, rot2), axis=0)\n",
    "save_path = save_loc / f\"{animal_id}_{hemi}.tif\"\n",
    "tifffile.imwrite(save_path, img)\n",
    "print(f\"Saved image: {save_path}\")"
   ]
  }
 ],
 "metadata": {
  "kernelspec": {
   "display_name": "Long-Evans_Atlas",
   "language": "python",
   "name": "python3"
  },
  "language_info": {
   "codemirror_mode": {
    "name": "ipython",
    "version": 3
   },
   "file_extension": ".py",
   "mimetype": "text/x-python",
   "name": "python",
   "nbconvert_exporter": "python",
   "pygments_lexer": "ipython3",
   "version": "3.11.9"
  }
 },
 "nbformat": 4,
 "nbformat_minor": 2
}
