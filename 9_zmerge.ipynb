{
 "cells": [
  {
   "cell_type": "code",
   "execution_count": null,
   "metadata": {},
   "outputs": [
    {
     "ename": "",
     "evalue": "",
     "output_type": "error",
     "traceback": [
      "\u001b[1;31mFailed to start the Kernel. \n",
      "\u001b[1;31mThe kernel died. Error: ... View Jupyter <a href='command:jupyter.viewOutput'>log</a> for further details."
     ]
    }
   ],
   "source": [
    "import numpy as np\n",
    "from scipy.fft import fft2, ifft2, fftshift\n",
    "from scipy.ndimage import shift"
   ]
  },
  {
   "cell_type": "code",
   "execution_count": null,
   "metadata": {
    "id": "k43GQdMQbb0_"
   },
   "outputs": [],
   "source": [
    "# poc registration (class definition)\n",
    "\n",
    "def poc_reg(image_series, mag, cut, target):\n",
    "    \"\"\"\n",
    "    Register a series of images using Phase Only Correlation (POC).\n",
    "\n",
    "    Parameters:\n",
    "    image_series : np.ndarray\n",
    "        3D numpy array of the images to be registered (height x width x num_images)\n",
    "    mag : int\n",
    "        Magnification factor for the upsampling of the correlation.\n",
    "    cut : int\n",
    "        Number of pixels to cut from the borders.\n",
    "    target : np.ndarray, optional\n",
    "        Target image for the registration. If not provided, the mean image will be used.\n",
    "\n",
    "    Returns:\n",
    "    regged_image_series : np.ndarray\n",
    "        Registered image series.\n",
    "    dif_y : np.ndarray\n",
    "        Displacement along y axis for each image.\n",
    "    dif_x : np.ndarray\n",
    "        Displacement along x axis for each image.\n",
    "    \"\"\"\n",
    "\n",
    "    debug = False\n",
    "    debug_itr = []\n",
    "\n",
    "    # Subset the image series (cut the borders)\n",
    "    if cut == 0:\n",
    "     subset = image_series  # 全体を選択\n",
    "    else:\n",
    "     subset = image_series[cut:-cut, cut:-cut, :]\n",
    "\n",
    "    # Compute the target/mean image\n",
    "    if target is not None:\n",
    "        mean_image = target\n",
    "    else:\n",
    "        mean_image = np.mean(subset, axis=2)\n",
    "\n",
    "    #plt.imshow(mean_image)\n",
    "    # Image dimensions\n",
    "    w_row, w_col, n_im = subset.shape\n",
    "\n",
    "    # 2D Hanning window\n",
    "    wx, wy = np.meshgrid(\n",
    "        0.5 - 0.5 * np.cos(2 * np.pi / mean_image.shape[1] * np.linspace(0, mean_image.shape[1], mean_image.shape[1])),\n",
    "        0.5 - 0.5 * np.cos(2 * np.pi / mean_image.shape[0] * np.linspace(0, mean_image.shape[0], mean_image.shape[0]))\n",
    "    )\n",
    "    mean_image *= wx * wy\n",
    "\n",
    "    # FFT of the mean image\n",
    "    ft_mean = fft2(mean_image)\n",
    "\n",
    "    dif_y = np.zeros(n_im)\n",
    "    dif_x = np.zeros(n_im)\n",
    "\n",
    "    def process_image(i):\n",
    "        nonlocal debug\n",
    "        if i in debug_itr:\n",
    "            debug = True\n",
    "        else:\n",
    "            debug = False\n",
    "\n",
    "        temp = subset[:, :, i].astype(float)\n",
    "#        temp *= wx * wy\n",
    "        ft_temp = fft2(temp)\n",
    "\n",
    "        # Phase-only cross-power spectrum\n",
    "        factorial = ft_temp * np.conj(ft_mean) / np.sqrt(np.abs(ft_mean) * np.abs(ft_temp))\n",
    "\n",
    "        if mag != 1:\n",
    "            zeros_ft = np.zeros_like(factorial)\n",
    "            factorial = np.vstack((\n",
    "                np.hstack((factorial[:w_row//2, :w_col//2], np.tile(zeros_ft[:w_row//2, :w_col], (1, mag-1)), factorial[:w_row//2, w_col//2:])),\n",
    "                np.tile(zeros_ft, (mag-1, mag)),\n",
    "                np.hstack((factorial[w_row//2:, :w_col//2], np.tile(zeros_ft[w_row//2:, :w_col], (1, mag-1)), factorial[w_row//2:, w_col//2:]))\n",
    "            ))\n",
    "\n",
    "        # Inverse FFT and correlation peak detection\n",
    "        c = fftshift(np.real(ifft2(factorial)))\n",
    "        c1 = np.max(c, axis=0)\n",
    "        i1 = np.argmax(c, axis=0)\n",
    "        i2 = np.argmax(c1)\n",
    "\n",
    "        # Sub-pixel displacement calculation\n",
    "        val_y = (c[i1[i2]-1, i2] - c[i1[i2]+1, i2]) / (2 * (c[i1[i2]-1, i2] + c[i1[i2]+1, i2] - 2 * c[i1[i2], i2])) + i1[i2]\n",
    "        val_x = (c[i1[i2], i2-1] - c[i1[i2], i2+1]) / (2 * (c[i1[i2], i2-1] + c[i1[i2], i2+1] - 2 * c[i1[i2], i2])) + i2\n",
    "\n",
    "        dif_y[i] = -(val_y - (w_row // 2 * mag + 1)) / mag\n",
    "        dif_x[i] = -(val_x - (w_col // 2 * mag + 1)) / mag\n",
    "\n",
    "        # Handle large displacements\n",
    "        if abs(dif_y[i]) > 2000:\n",
    "            dif_y[i] = np.finfo(float).eps\n",
    "            print(f\"A displacement > 100 pixels was detected in frame {i} and was assumed as eps\")\n",
    "        # if abs(dif_x[i]) > 2000:\n",
    "        #     dif_x[i] = np.finfo(float).eps\n",
    "        #     print(f\"A displacement > 100 pixels was detected in frame {i} and was assumed as eps\")\n",
    "\n",
    "        return dif_y[i], dif_x[i]\n",
    "\n",
    "    # Use multiprocessing to parallelize the process\n",
    "    for i in range(n_im):\n",
    "     dif_y[i], dif_x[i] = process_image(i)\n",
    "\n",
    "    dif_y, dif_x = np.array(dif_y), np.array(dif_x)\n",
    "\n",
    "    # Apply the translation to the image series\n",
    "    #regged_image_series = np.array([shift(image_series[:, :, i], (dif_y[i], dif_x[i])) for i in range(n_im)])\n",
    "\n",
    "    #return regged_image_series.astype(np.uint16), dif_y, dif_x\n",
    "    return dif_y, dif_x\n"
   ]
  },
  {
   "cell_type": "code",
   "execution_count": null,
   "metadata": {},
   "outputs": [],
   "source": [
    "import reset\n",
    "from pathlib import Path\n",
    "import numpy as np\n",
    "import tifffile\n",
    "import plotly.graph_objects as go"
   ]
  },
  {
   "cell_type": "code",
   "execution_count": null,
   "metadata": {},
   "outputs": [],
   "source": [
    "# Assign variables from reset\n",
    "animal_loc = reset.animal_loc\n",
    "animal_id = reset.animal_id\n",
    "hemi = reset.hemi\n",
    "frame_len = reset.frame_len"
   ]
  },
  {
   "cell_type": "code",
   "execution_count": null,
   "metadata": {},
   "outputs": [],
   "source": [
    "# Define paths for input and output images\n",
    "image_loc = animal_loc / \"padding\" / hemi\n",
    "save_loc = animal_loc / \"zmerged\"\n",
    "\n",
    "# Ensure save location exists\n",
    "save_loc.mkdir(parents=True, exist_ok=True)\n",
    "\n",
    "image_path_list = [f\"{image_loc}/{animal_id}_{hemi}_{n}.tif\" for n in range(1,3)]"
   ]
  },
  {
   "cell_type": "code",
   "execution_count": null,
   "metadata": {},
   "outputs": [],
   "source": [
    "image_path1 = image_path_list[0]\n",
    "targetimage = tifffile.imread(image_path1).astype('float64')\n",
    "meantargetimage = np.mean(targetimage, axis=0)"
   ]
  },
  {
   "cell_type": "code",
   "execution_count": null,
   "metadata": {
    "colab": {
     "base_uri": "https://localhost:8080/"
    },
    "id": "kAJGAYEhgfGo",
    "outputId": "b7ca18ba-813b-4c14-d11c-f37dedd1c6bf"
   },
   "outputs": [],
   "source": [
    "image_path2 = image_path_list[1]\n",
    "print(image_path2)\n",
    "# .tifファイルを読み込み、3次元のnumpy配列に変換\n",
    "image_series = tifffile.imread(image_path2)\n",
    "image_series = np.transpose(image_series, (1, 2, 0))\n",
    "# image_seriesは高さ x 幅 x フレーム数 の3次元numpy配列になります\n",
    "print(image_series.shape)"
   ]
  },
  {
   "cell_type": "code",
   "execution_count": null,
   "metadata": {
    "colab": {
     "base_uri": "https://localhost:8080/"
    },
    "id": "FXyk6NGebefn",
    "outputId": "a46a8181-6b43-49c5-b69c-b15ca48140b6"
   },
   "outputs": [],
   "source": [
    "dif_y, dif_x =poc_reg(image_series,1,0,meantargetimage)"
   ]
  },
  {
   "cell_type": "code",
   "execution_count": null,
   "metadata": {
    "id": "DJSSms-3IvxJ"
   },
   "outputs": [],
   "source": [
    "w_row, w_col, n_im = image_series.shape\n",
    "regged_image_series = np.array([shift(image_series[:, :, i], (dif_y[i], dif_x[i])) for i in range(n_im)])"
   ]
  },
  {
   "cell_type": "code",
   "execution_count": null,
   "metadata": {},
   "outputs": [],
   "source": [
    "approx_start = 37\n",
    "approx_end = 38"
   ]
  },
  {
   "cell_type": "code",
   "execution_count": null,
   "metadata": {},
   "outputs": [],
   "source": [
    "corr_list = []\n",
    "for fn1 in range(approx_start,approx_end):\n",
    "    corr = abs(np.corrcoef(targetimage[fn1],regged_image_series[0])[0,1])\n",
    "    corr_list.append(corr)\n",
    "\n",
    "corr_max = np.argmax(corr_list)\n",
    "f1_max = corr_max // (approx_end-approx_start) + approx_start\n",
    "f2_max = corr_max % (frame_len)\n",
    "print(max(corr_list), f1_max, f2_max)"
   ]
  },
  {
   "cell_type": "markdown",
   "metadata": {},
   "source": [
    "Manually assign f1_max (the end of the first set)"
   ]
  },
  {
   "cell_type": "code",
   "execution_count": null,
   "metadata": {},
   "outputs": [],
   "source": [
    "f1_max = 38"
   ]
  },
  {
   "cell_type": "code",
   "execution_count": null,
   "metadata": {},
   "outputs": [],
   "source": [
    "print(max(corr_list), f1_max, f2_max)"
   ]
  },
  {
   "cell_type": "code",
   "execution_count": null,
   "metadata": {},
   "outputs": [],
   "source": [
    "poc_reg_y = dif_y[f2_max]\n",
    "poc_reg_x = dif_x[f2_max]\n",
    "\n",
    "new_dif_y = np.full(frame_len, poc_reg_y)\n",
    "new_dif_x = np.full(frame_len, poc_reg_x)"
   ]
  },
  {
   "cell_type": "code",
   "execution_count": null,
   "metadata": {},
   "outputs": [],
   "source": [
    "newtargetimage = targetimage[f1_max]"
   ]
  },
  {
   "cell_type": "code",
   "execution_count": null,
   "metadata": {},
   "outputs": [],
   "source": [
    "dif_y, dif_x =poc_reg(image_series,1,0,newtargetimage)"
   ]
  },
  {
   "cell_type": "code",
   "execution_count": null,
   "metadata": {},
   "outputs": [],
   "source": [
    "poc_reg_y = dif_y[f2_max]\n",
    "poc_reg_x = dif_x[f2_max]\n",
    "\n",
    "new_dif_y = np.full(frame_len, poc_reg_y)\n",
    "new_dif_x = np.full(frame_len, poc_reg_x)"
   ]
  },
  {
   "cell_type": "code",
   "execution_count": null,
   "metadata": {},
   "outputs": [],
   "source": [
    "print(poc_reg_y, poc_reg_x)"
   ]
  },
  {
   "cell_type": "code",
   "execution_count": null,
   "metadata": {},
   "outputs": [],
   "source": [
    "w_row, w_col, n_im = image_series.shape\n",
    "new_regged_image_series = np.array([shift(image_series[:, :, i], (new_dif_y[i], new_dif_x[i])) for i in range(n_im)])"
   ]
  },
  {
   "cell_type": "code",
   "execution_count": null,
   "metadata": {},
   "outputs": [],
   "source": [
    "im1 = targetimage[:f1_max]\n",
    "new_regged_image_series = new_regged_image_series[f2_max:]"
   ]
  },
  {
   "cell_type": "code",
   "execution_count": null,
   "metadata": {},
   "outputs": [],
   "source": [
    "img = np.concatenate((im1, new_regged_image_series), axis = 0)"
   ]
  },
  {
   "cell_type": "code",
   "execution_count": null,
   "metadata": {},
   "outputs": [],
   "source": [
    "print(img.shape)"
   ]
  },
  {
   "cell_type": "code",
   "execution_count": null,
   "metadata": {},
   "outputs": [],
   "source": [
    "print(img.shape)"
   ]
  },
  {
   "cell_type": "code",
   "execution_count": null,
   "metadata": {},
   "outputs": [],
   "source": [
    "\n",
    "# Assuming img has shape (Z, Y, X)\n",
    "Z, Y, X = img.shape\n",
    "\n",
    "# Create a figure for the first slice\n",
    "fig = go.Figure(data=go.Heatmap(\n",
    "    z=img[0],  # First slice along the Z axis\n",
    "    colorscale='Viridis',\n",
    "))\n",
    "\n",
    "# Add slices as frames for animation\n",
    "for z in range(1, Z):\n",
    "    fig.add_trace(go.Heatmap(\n",
    "        z=img[z],\n",
    "        colorscale='Viridis',\n",
    "        visible=False,  # Make other slices initially invisible\n",
    "    ))\n",
    "\n",
    "# Configure layout for the figure\n",
    "fig.update_layout(\n",
    "    title=\"3D Image Slices\",\n",
    "    xaxis_title=\"X Axis\",\n",
    "    yaxis_title=\"Y Axis\",\n",
    "    updatemenus=[\n",
    "        dict(\n",
    "            type=\"buttons\",\n",
    "            buttons=[\n",
    "                dict(label=\"Play\",\n",
    "                     method=\"animate\",\n",
    "                     args=[None]),\n",
    "                dict(label=\"Pause\",\n",
    "                     method=\"animate\",\n",
    "                     args=[None, dict(frame=dict(duration=0, redraw=False))])\n",
    "            ])\n",
    "    ],\n",
    "    sliders=[{\n",
    "        \"steps\": [\n",
    "            {\"method\": \"animate\", \"args\": [[str(z)]],\n",
    "             \"label\": f\"Slice {z}\"} for z in range(Z)\n",
    "        ]\n",
    "    }]\n",
    ")\n",
    "\n",
    "# Add frames for animation\n",
    "frames = [go.Frame(data=[go.Heatmap(z=img[z], colorscale='Viridis')], name=str(z)) for z in range(Z)]\n",
    "fig.frames = frames\n",
    "\n",
    "# Show the figure\n",
    "fig.show()"
   ]
  },
  {
   "cell_type": "code",
   "execution_count": null,
   "metadata": {},
   "outputs": [],
   "source": [
    "import numpy as np\n",
    "import matplotlib.pyplot as plt\n",
    "from matplotlib.widgets import Slider\n",
    "\n",
    "# Example 3D array (replace this with your actual 3D data)\n",
    "# Assuming `img` has shape (Z, Y, X)\n",
    "Z, Y, X = 62, 1024, 1024  # Example shape\n",
    "img = np.random.random((Z, Y, X))  # Replace this with your actual 3D array\n",
    "\n",
    "# Initialize the figure and axis\n",
    "fig, ax = plt.subplots()\n",
    "plt.subplots_adjust(bottom=0.2)  # Adjust to make space for the slider\n",
    "\n",
    "# Show the first slice\n",
    "current_slice = 0\n",
    "im = ax.imshow(img[current_slice], cmap=\"viridis\", aspect=\"auto\")\n",
    "ax.set_title(f\"Slice {current_slice} (Z-axis)\")\n",
    "plt.colorbar(im, ax=ax)\n",
    "\n",
    "# Create a slider\n",
    "slider_ax = plt.axes([0.2, 0.05, 0.6, 0.03])  # Position of the slider\n",
    "slider = Slider(slider_ax, \"Slice\", 0, Z - 1, valinit=current_slice, valstep=1)\n",
    "\n",
    "# Update function for the slider\n",
    "def update(val):\n",
    "    slice_idx = int(slider.val)  # Get current slider value\n",
    "    im.set_data(img[slice_idx])  # Update the data in the plot\n",
    "    ax.set_title(f\"Slice {slice_idx} (Z-axis)\")\n",
    "    fig.canvas.draw_idle()  # Redraw the figure\n",
    "\n",
    "# Attach the update function to the slider\n",
    "slider.on_changed(update)\n",
    "\n",
    "# Show the plot\n",
    "plt.show()\n"
   ]
  },
  {
   "cell_type": "code",
   "execution_count": null,
   "metadata": {
    "id": "47oqqp_glTlZ"
   },
   "outputs": [],
   "source": [
    "# SAVE\n",
    "img = img.astype('uint8')\n",
    "save_path = save_loc / f\"{animal_id}_{hemi}.tif\"\n",
    "tifffile.imwrite(save_path,img)"
   ]
  }
 ],
 "metadata": {
  "colab": {
   "provenance": []
  },
  "kernelspec": {
   "display_name": "Long-Evans_Atlas",
   "language": "python",
   "name": "python3"
  },
  "language_info": {
   "codemirror_mode": {
    "name": "ipython",
    "version": 3
   },
   "file_extension": ".py",
   "mimetype": "text/x-python",
   "name": "python",
   "nbconvert_exporter": "python",
   "pygments_lexer": "ipython3",
   "version": "3.11.9"
  }
 },
 "nbformat": 4,
 "nbformat_minor": 0
}
