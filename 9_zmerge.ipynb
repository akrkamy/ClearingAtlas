{
 "cells": [
  {
   "cell_type": "code",
   "execution_count": 1,
   "metadata": {
    "id": "k43GQdMQbb0_"
   },
   "outputs": [],
   "source": [
    "# poc registration (class definition)\n",
    "\n",
    "import numpy as np\n",
    "from scipy.fft import fft2, ifft2, fftshift\n",
    "from scipy.ndimage import shift\n",
    "\n",
    "def poc_reg(image_series, mag, cut, target):\n",
    "    \"\"\"\n",
    "    Register a series of images using Phase Only Correlation (POC).\n",
    "\n",
    "    Parameters:\n",
    "    image_series : np.ndarray\n",
    "        3D numpy array of the images to be registered (height x width x num_images)\n",
    "    mag : int\n",
    "        Magnification factor for the upsampling of the correlation.\n",
    "    cut : int\n",
    "        Number of pixels to cut from the borders.\n",
    "    target : np.ndarray, optional\n",
    "        Target image for the registration. If not provided, the mean image will be used.\n",
    "\n",
    "    Returns:\n",
    "    regged_image_series : np.ndarray\n",
    "        Registered image series.\n",
    "    dif_y : np.ndarray\n",
    "        Displacement along y axis for each image.\n",
    "    dif_x : np.ndarray\n",
    "        Displacement along x axis for each image.\n",
    "    \"\"\"\n",
    "\n",
    "    debug = False\n",
    "    debug_itr = []\n",
    "\n",
    "    # Subset the image series (cut the borders)\n",
    "    if cut == 0:\n",
    "     subset = image_series  # 全体を選択\n",
    "    else:\n",
    "     subset = image_series[cut:-cut, cut:-cut, :]\n",
    "\n",
    "    # Compute the target/mean image\n",
    "    if target is not None:\n",
    "        mean_image = target\n",
    "    else:\n",
    "        mean_image = np.mean(subset, axis=2)\n",
    "\n",
    "    #plt.imshow(mean_image)\n",
    "    # Image dimensions\n",
    "    w_row, w_col, n_im = subset.shape\n",
    "\n",
    "    # 2D Hanning window\n",
    "    wx, wy = np.meshgrid(\n",
    "        0.5 - 0.5 * np.cos(2 * np.pi / mean_image.shape[1] * np.linspace(0, mean_image.shape[1], mean_image.shape[1])),\n",
    "        0.5 - 0.5 * np.cos(2 * np.pi / mean_image.shape[0] * np.linspace(0, mean_image.shape[0], mean_image.shape[0]))\n",
    "    )\n",
    "    mean_image *= wx * wy\n",
    "\n",
    "    # FFT of the mean image\n",
    "    ft_mean = fft2(mean_image)\n",
    "\n",
    "    dif_y = np.zeros(n_im)\n",
    "    dif_x = np.zeros(n_im)\n",
    "\n",
    "    def process_image(i):\n",
    "        nonlocal debug\n",
    "        if i in debug_itr:\n",
    "            debug = True\n",
    "        else:\n",
    "            debug = False\n",
    "\n",
    "        temp = subset[:, :, i].astype(float)\n",
    "#        temp *= wx * wy\n",
    "        ft_temp = fft2(temp)\n",
    "\n",
    "        # Phase-only cross-power spectrum\n",
    "        factorial = ft_temp * np.conj(ft_mean) / np.sqrt(np.abs(ft_mean) * np.abs(ft_temp))\n",
    "\n",
    "        if mag != 1:\n",
    "            zeros_ft = np.zeros_like(factorial)\n",
    "            factorial = np.vstack((\n",
    "                np.hstack((factorial[:w_row//2, :w_col//2], np.tile(zeros_ft[:w_row//2, :w_col], (1, mag-1)), factorial[:w_row//2, w_col//2:])),\n",
    "                np.tile(zeros_ft, (mag-1, mag)),\n",
    "                np.hstack((factorial[w_row//2:, :w_col//2], np.tile(zeros_ft[w_row//2:, :w_col], (1, mag-1)), factorial[w_row//2:, w_col//2:]))\n",
    "            ))\n",
    "\n",
    "        # Inverse FFT and correlation peak detection\n",
    "        c = fftshift(np.real(ifft2(factorial)))\n",
    "        c1 = np.max(c, axis=0)\n",
    "        i1 = np.argmax(c, axis=0)\n",
    "        i2 = np.argmax(c1)\n",
    "\n",
    "        # Sub-pixel displacement calculation\n",
    "        val_y = (c[i1[i2]-1, i2] - c[i1[i2]+1, i2]) / (2 * (c[i1[i2]-1, i2] + c[i1[i2]+1, i2] - 2 * c[i1[i2], i2])) + i1[i2]\n",
    "        val_x = (c[i1[i2], i2-1] - c[i1[i2], i2+1]) / (2 * (c[i1[i2], i2-1] + c[i1[i2], i2+1] - 2 * c[i1[i2], i2])) + i2\n",
    "\n",
    "        dif_y[i] = -(val_y - (w_row // 2 * mag + 1)) / mag\n",
    "        dif_x[i] = -(val_x - (w_col // 2 * mag + 1)) / mag\n",
    "\n",
    "        # Handle large displacements\n",
    "        if abs(dif_y[i]) > 2000:\n",
    "            dif_y[i] = np.finfo(float).eps\n",
    "            print(f\"A displacement > 100 pixels was detected in frame {i} and was assumed as eps\")\n",
    "        # if abs(dif_x[i]) > 2000:\n",
    "        #     dif_x[i] = np.finfo(float).eps\n",
    "        #     print(f\"A displacement > 100 pixels was detected in frame {i} and was assumed as eps\")\n",
    "\n",
    "        return dif_y[i], dif_x[i]\n",
    "\n",
    "    # Use multiprocessing to parallelize the process\n",
    "    for i in range(n_im):\n",
    "     dif_y[i], dif_x[i] = process_image(i)\n",
    "\n",
    "    dif_y, dif_x = np.array(dif_y), np.array(dif_x)\n",
    "\n",
    "    # Apply the translation to the image series\n",
    "    #regged_image_series = np.array([shift(image_series[:, :, i], (dif_y[i], dif_x[i])) for i in range(n_im)])\n",
    "\n",
    "    #return regged_image_series.astype(np.uint16), dif_y, dif_x\n",
    "    return dif_y, dif_x\n"
   ]
  },
  {
   "cell_type": "code",
   "execution_count": 2,
   "metadata": {},
   "outputs": [],
   "source": [
    "import reset\n",
    "from pathlib import Path\n",
    "import numpy as np\n",
    "import tifffile"
   ]
  },
  {
   "cell_type": "code",
   "execution_count": 3,
   "metadata": {},
   "outputs": [],
   "source": [
    "# Assign variables from reset\n",
    "animal_loc = reset.animal_loc\n",
    "animal_id = reset.animal_id\n",
    "hemi = reset.hemi\n",
    "frame_len = reset.frame_len"
   ]
  },
  {
   "cell_type": "code",
   "execution_count": 4,
   "metadata": {},
   "outputs": [],
   "source": [
    "# Define paths for input and output images\n",
    "image_loc = animal_loc / \"padding\" / hemi\n",
    "save_loc = animal_loc / \"zmerged\"\n",
    "\n",
    "# Ensure save location exists\n",
    "save_loc.mkdir(parents=True, exist_ok=True)\n",
    "\n",
    "image_path_list = [f\"{image_loc}/{animal_id}_{hemi}_{n}.tif\" for n in range(1,3)]"
   ]
  },
  {
   "cell_type": "code",
   "execution_count": 5,
   "metadata": {},
   "outputs": [],
   "source": [
    "image_path1 = image_path_list[0]\n",
    "targetimage = tifffile.imread(image_path1).astype('float64')\n",
    "meantargetimage = np.mean(targetimage, axis=0)"
   ]
  },
  {
   "cell_type": "code",
   "execution_count": 6,
   "metadata": {
    "colab": {
     "base_uri": "https://localhost:8080/"
    },
    "id": "kAJGAYEhgfGo",
    "outputId": "b7ca18ba-813b-4c14-d11c-f37dedd1c6bf"
   },
   "outputs": [
    {
     "name": "stdout",
     "output_type": "stream",
     "text": [
      "/Volumes/BaffaloSSDPUTU3C1TB/rbak_data/rbak006/padding/l/rbak006_l_2.tif\n",
      "(3072, 2160, 62)\n"
     ]
    }
   ],
   "source": [
    "image_path2 = image_path_list[1]\n",
    "print(image_path2)\n",
    "# .tifファイルを読み込み、3次元のnumpy配列に変換\n",
    "image_series = tifffile.imread(image_path2)\n",
    "image_series = np.transpose(image_series, (1, 2, 0))\n",
    "# image_seriesは高さ x 幅 x フレーム数 の3次元numpy配列になります\n",
    "print(image_series.shape)"
   ]
  },
  {
   "cell_type": "code",
   "execution_count": 7,
   "metadata": {
    "colab": {
     "base_uri": "https://localhost:8080/"
    },
    "id": "FXyk6NGebefn",
    "outputId": "a46a8181-6b43-49c5-b69c-b15ca48140b6"
   },
   "outputs": [],
   "source": [
    "dif_y, dif_x =poc_reg(image_series,1,0,meantargetimage)"
   ]
  },
  {
   "cell_type": "code",
   "execution_count": 8,
   "metadata": {
    "id": "DJSSms-3IvxJ"
   },
   "outputs": [],
   "source": [
    "w_row, w_col, n_im = image_series.shape\n",
    "regged_image_series = np.array([shift(image_series[:, :, i], (dif_y[i], dif_x[i])) for i in range(n_im)])"
   ]
  },
  {
   "cell_type": "code",
   "execution_count": 21,
   "metadata": {},
   "outputs": [],
   "source": [
    "approx_start = 30\n",
    "approx_end = 40"
   ]
  },
  {
   "cell_type": "code",
   "execution_count": null,
   "metadata": {},
   "outputs": [
    {
     "name": "stderr",
     "output_type": "stream",
     "text": [
      "/opt/anaconda3/envs/Long-Evans_Atlas/lib/python3.11/site-packages/numpy/lib/_function_base_impl.py:2922: RuntimeWarning: invalid value encountered in divide\n",
      "  c /= stddev[:, None]\n",
      "/opt/anaconda3/envs/Long-Evans_Atlas/lib/python3.11/site-packages/numpy/lib/_function_base_impl.py:2923: RuntimeWarning: invalid value encountered in divide\n",
      "  c /= stddev[None, :]\n"
     ]
    },
    {
     "name": "stdout",
     "output_type": "stream",
     "text": [
      "[1.         0.70876956]\n",
      "[1.         0.70876956]\n",
      "[1.         0.70876956]\n",
      "[1.         0.70876956]\n",
      "[1.         0.70876956]\n",
      "[1.         0.70876956]\n"
     ]
    },
    {
     "ename": "KeyboardInterrupt",
     "evalue": "",
     "output_type": "error",
     "traceback": [
      "\u001b[0;31m---------------------------------------------------------------------------\u001b[0m",
      "\u001b[0;31mKeyboardInterrupt\u001b[0m                         Traceback (most recent call last)",
      "Cell \u001b[0;32mIn[37], line 4\u001b[0m\n\u001b[1;32m      2\u001b[0m \u001b[38;5;28;01mfor\u001b[39;00m fn1 \u001b[38;5;129;01min\u001b[39;00m \u001b[38;5;28mrange\u001b[39m(approx_start,approx_end):\n\u001b[1;32m      3\u001b[0m     \u001b[38;5;28;01mfor\u001b[39;00m fn2 \u001b[38;5;129;01min\u001b[39;00m \u001b[38;5;28mrange\u001b[39m(\u001b[38;5;241m0\u001b[39m,frame_len):\n\u001b[0;32m----> 4\u001b[0m         corr \u001b[38;5;241m=\u001b[39m \u001b[38;5;28mabs\u001b[39m(\u001b[43mnp\u001b[49m\u001b[38;5;241;43m.\u001b[39;49m\u001b[43mcorrcoef\u001b[49m\u001b[43m(\u001b[49m\u001b[43mtargetimage\u001b[49m\u001b[43m[\u001b[49m\u001b[43mfn1\u001b[49m\u001b[43m]\u001b[49m\u001b[43m,\u001b[49m\u001b[43mregged_image_series\u001b[49m\u001b[43m[\u001b[49m\u001b[43mfn2\u001b[49m\u001b[43m]\u001b[49m\u001b[43m)\u001b[49m[\u001b[38;5;241m0\u001b[39m,[\u001b[38;5;241m0\u001b[39m,\u001b[38;5;241m1\u001b[39m]])\n\u001b[1;32m      5\u001b[0m         \u001b[38;5;28mprint\u001b[39m(corr)\n\u001b[1;32m      6\u001b[0m         corr_list\u001b[38;5;241m.\u001b[39mappend(corr)\n",
      "File \u001b[0;32m/opt/anaconda3/envs/Long-Evans_Atlas/lib/python3.11/site-packages/numpy/lib/_function_base_impl.py:2928\u001b[0m, in \u001b[0;36mcorrcoef\u001b[0;34m(x, y, rowvar, bias, ddof, dtype)\u001b[0m\n\u001b[1;32m   2923\u001b[0m c \u001b[38;5;241m/\u001b[39m\u001b[38;5;241m=\u001b[39m stddev[\u001b[38;5;28;01mNone\u001b[39;00m, :]\n\u001b[1;32m   2925\u001b[0m \u001b[38;5;66;03m# Clip real and imaginary parts to [-1, 1].  This does not guarantee\u001b[39;00m\n\u001b[1;32m   2926\u001b[0m \u001b[38;5;66;03m# abs(a[i,j]) <= 1 for complex arrays, but is the best we can do without\u001b[39;00m\n\u001b[1;32m   2927\u001b[0m \u001b[38;5;66;03m# excessive work.\u001b[39;00m\n\u001b[0;32m-> 2928\u001b[0m \u001b[43mnp\u001b[49m\u001b[38;5;241;43m.\u001b[39;49m\u001b[43mclip\u001b[49m\u001b[43m(\u001b[49m\u001b[43mc\u001b[49m\u001b[38;5;241;43m.\u001b[39;49m\u001b[43mreal\u001b[49m\u001b[43m,\u001b[49m\u001b[43m \u001b[49m\u001b[38;5;241;43m-\u001b[39;49m\u001b[38;5;241;43m1\u001b[39;49m\u001b[43m,\u001b[49m\u001b[43m \u001b[49m\u001b[38;5;241;43m1\u001b[39;49m\u001b[43m,\u001b[49m\u001b[43m \u001b[49m\u001b[43mout\u001b[49m\u001b[38;5;241;43m=\u001b[39;49m\u001b[43mc\u001b[49m\u001b[38;5;241;43m.\u001b[39;49m\u001b[43mreal\u001b[49m\u001b[43m)\u001b[49m\n\u001b[1;32m   2929\u001b[0m \u001b[38;5;28;01mif\u001b[39;00m np\u001b[38;5;241m.\u001b[39miscomplexobj(c):\n\u001b[1;32m   2930\u001b[0m     np\u001b[38;5;241m.\u001b[39mclip(c\u001b[38;5;241m.\u001b[39mimag, \u001b[38;5;241m-\u001b[39m\u001b[38;5;241m1\u001b[39m, \u001b[38;5;241m1\u001b[39m, out\u001b[38;5;241m=\u001b[39mc\u001b[38;5;241m.\u001b[39mimag)\n",
      "File \u001b[0;32m/opt/anaconda3/envs/Long-Evans_Atlas/lib/python3.11/site-packages/numpy/_core/fromnumeric.py:2247\u001b[0m, in \u001b[0;36mclip\u001b[0;34m(a, a_min, a_max, out, **kwargs)\u001b[0m\n\u001b[1;32m   2178\u001b[0m \u001b[38;5;129m@array_function_dispatch\u001b[39m(_clip_dispatcher)\n\u001b[1;32m   2179\u001b[0m \u001b[38;5;28;01mdef\u001b[39;00m \u001b[38;5;21mclip\u001b[39m(a, a_min, a_max, out\u001b[38;5;241m=\u001b[39m\u001b[38;5;28;01mNone\u001b[39;00m, \u001b[38;5;241m*\u001b[39m\u001b[38;5;241m*\u001b[39mkwargs):\n\u001b[1;32m   2180\u001b[0m \u001b[38;5;250m    \u001b[39m\u001b[38;5;124;03m\"\"\"\u001b[39;00m\n\u001b[1;32m   2181\u001b[0m \u001b[38;5;124;03m    Clip (limit) the values in an array.\u001b[39;00m\n\u001b[1;32m   2182\u001b[0m \n\u001b[0;32m   (...)\u001b[0m\n\u001b[1;32m   2245\u001b[0m \n\u001b[1;32m   2246\u001b[0m \u001b[38;5;124;03m    \"\"\"\u001b[39;00m\n\u001b[0;32m-> 2247\u001b[0m     \u001b[38;5;28;01mreturn\u001b[39;00m \u001b[43m_wrapfunc\u001b[49m\u001b[43m(\u001b[49m\u001b[43ma\u001b[49m\u001b[43m,\u001b[49m\u001b[43m \u001b[49m\u001b[38;5;124;43m'\u001b[39;49m\u001b[38;5;124;43mclip\u001b[39;49m\u001b[38;5;124;43m'\u001b[39;49m\u001b[43m,\u001b[49m\u001b[43m \u001b[49m\u001b[43ma_min\u001b[49m\u001b[43m,\u001b[49m\u001b[43m \u001b[49m\u001b[43ma_max\u001b[49m\u001b[43m,\u001b[49m\u001b[43m \u001b[49m\u001b[43mout\u001b[49m\u001b[38;5;241;43m=\u001b[39;49m\u001b[43mout\u001b[49m\u001b[43m,\u001b[49m\u001b[43m \u001b[49m\u001b[38;5;241;43m*\u001b[39;49m\u001b[38;5;241;43m*\u001b[39;49m\u001b[43mkwargs\u001b[49m\u001b[43m)\u001b[49m\n",
      "File \u001b[0;32m/opt/anaconda3/envs/Long-Evans_Atlas/lib/python3.11/site-packages/numpy/_core/fromnumeric.py:57\u001b[0m, in \u001b[0;36m_wrapfunc\u001b[0;34m(obj, method, *args, **kwds)\u001b[0m\n\u001b[1;32m     54\u001b[0m     \u001b[38;5;28;01mreturn\u001b[39;00m _wrapit(obj, method, \u001b[38;5;241m*\u001b[39margs, \u001b[38;5;241m*\u001b[39m\u001b[38;5;241m*\u001b[39mkwds)\n\u001b[1;32m     56\u001b[0m \u001b[38;5;28;01mtry\u001b[39;00m:\n\u001b[0;32m---> 57\u001b[0m     \u001b[38;5;28;01mreturn\u001b[39;00m \u001b[43mbound\u001b[49m\u001b[43m(\u001b[49m\u001b[38;5;241;43m*\u001b[39;49m\u001b[43margs\u001b[49m\u001b[43m,\u001b[49m\u001b[43m \u001b[49m\u001b[38;5;241;43m*\u001b[39;49m\u001b[38;5;241;43m*\u001b[39;49m\u001b[43mkwds\u001b[49m\u001b[43m)\u001b[49m\n\u001b[1;32m     58\u001b[0m \u001b[38;5;28;01mexcept\u001b[39;00m \u001b[38;5;167;01mTypeError\u001b[39;00m:\n\u001b[1;32m     59\u001b[0m     \u001b[38;5;66;03m# A TypeError occurs if the object does have such a method in its\u001b[39;00m\n\u001b[1;32m     60\u001b[0m     \u001b[38;5;66;03m# class, but its signature is not identical to that of NumPy's. This\u001b[39;00m\n\u001b[0;32m   (...)\u001b[0m\n\u001b[1;32m     64\u001b[0m     \u001b[38;5;66;03m# Call _wrapit from within the except clause to ensure a potential\u001b[39;00m\n\u001b[1;32m     65\u001b[0m     \u001b[38;5;66;03m# exception has a traceback chain.\u001b[39;00m\n\u001b[1;32m     66\u001b[0m     \u001b[38;5;28;01mreturn\u001b[39;00m _wrapit(obj, method, \u001b[38;5;241m*\u001b[39margs, \u001b[38;5;241m*\u001b[39m\u001b[38;5;241m*\u001b[39mkwds)\n",
      "File \u001b[0;32m/opt/anaconda3/envs/Long-Evans_Atlas/lib/python3.11/site-packages/numpy/_core/_methods.py:108\u001b[0m, in \u001b[0;36m_clip\u001b[0;34m(a, min, max, out, **kwargs)\u001b[0m\n\u001b[1;32m    106\u001b[0m     \u001b[38;5;28;01mreturn\u001b[39;00m um\u001b[38;5;241m.\u001b[39mmaximum(a, \u001b[38;5;28mmin\u001b[39m, out\u001b[38;5;241m=\u001b[39mout, \u001b[38;5;241m*\u001b[39m\u001b[38;5;241m*\u001b[39mkwargs)\n\u001b[1;32m    107\u001b[0m \u001b[38;5;28;01melse\u001b[39;00m:\n\u001b[0;32m--> 108\u001b[0m     \u001b[38;5;28;01mreturn\u001b[39;00m \u001b[43mum\u001b[49m\u001b[38;5;241;43m.\u001b[39;49m\u001b[43mclip\u001b[49m\u001b[43m(\u001b[49m\u001b[43ma\u001b[49m\u001b[43m,\u001b[49m\u001b[43m \u001b[49m\u001b[38;5;28;43mmin\u001b[39;49m\u001b[43m,\u001b[49m\u001b[43m \u001b[49m\u001b[38;5;28;43mmax\u001b[39;49m\u001b[43m,\u001b[49m\u001b[43m \u001b[49m\u001b[43mout\u001b[49m\u001b[38;5;241;43m=\u001b[39;49m\u001b[43mout\u001b[49m\u001b[43m,\u001b[49m\u001b[43m \u001b[49m\u001b[38;5;241;43m*\u001b[39;49m\u001b[38;5;241;43m*\u001b[39;49m\u001b[43mkwargs\u001b[49m\u001b[43m)\u001b[49m\n",
      "\u001b[0;31mKeyboardInterrupt\u001b[0m: "
     ]
    }
   ],
   "source": [
    "corr_list = []\n",
    "for fn1 in range(approx_start,approx_end):\n",
    "    for fn2 in range(0,frame_len):\n",
    "        corr = abs(np.corrcoef(targetimage[fn1],regged_image_series[fn2])[0,1])\n",
    "        print(corr)\n",
    "        corr_list.append(corr)\n",
    "\n",
    "corr_max = np.argmax(corr_list)\n",
    "print(corr_max)\n",
    "f1_max = corr_max // (approx_end-approx_start) + approx_start\n",
    "f2_max = corr_max % (frame_len)\n",
    "\n",
    "poc_reg_y = dif_y[f2_max]\n",
    "poc_reg_x = dif_x[f2_max]\n",
    "\n",
    "new_dif_y = np.full(frame_len, poc_reg_y)\n",
    "new_dif_x = np.full(frame_len, poc_reg_x)"
   ]
  },
  {
   "cell_type": "code",
   "execution_count": 33,
   "metadata": {},
   "outputs": [
    {
     "name": "stdout",
     "output_type": "stream",
     "text": [
      "0.8150362574288988\n"
     ]
    }
   ],
   "source": [
    "print(max(corr_list))"
   ]
  },
  {
   "cell_type": "code",
   "execution_count": 34,
   "metadata": {},
   "outputs": [
    {
     "ename": "IndexError",
     "evalue": "index 85 is out of bounds for axis 0 with size 62",
     "output_type": "error",
     "traceback": [
      "\u001b[0;31m---------------------------------------------------------------------------\u001b[0m",
      "\u001b[0;31mIndexError\u001b[0m                                Traceback (most recent call last)",
      "Cell \u001b[0;32mIn[34], line 1\u001b[0m\n\u001b[0;32m----> 1\u001b[0m newtargetimage \u001b[38;5;241m=\u001b[39m \u001b[43mtargetimage\u001b[49m\u001b[43m[\u001b[49m\u001b[43mf1_max\u001b[49m\u001b[43m]\u001b[49m\n",
      "\u001b[0;31mIndexError\u001b[0m: index 85 is out of bounds for axis 0 with size 62"
     ]
    }
   ],
   "source": [
    "newtargetimage = targetimage[f1_max]"
   ]
  },
  {
   "cell_type": "code",
   "execution_count": 25,
   "metadata": {},
   "outputs": [],
   "source": [
    "dif_y, dif_x =poc_reg(image_series,1,0,newtargetimage)"
   ]
  },
  {
   "cell_type": "code",
   "execution_count": 26,
   "metadata": {},
   "outputs": [],
   "source": [
    "poc_reg_y = dif_y[f2_max]\n",
    "poc_reg_x = dif_x[f2_max]\n",
    "\n",
    "new_dif_y = np.full(frame_len, poc_reg_y)\n",
    "new_dif_x = np.full(frame_len, poc_reg_x)"
   ]
  },
  {
   "cell_type": "code",
   "execution_count": 27,
   "metadata": {},
   "outputs": [
    {
     "name": "stdout",
     "output_type": "stream",
     "text": [
      "49 12 1.0824398720928912 -96.40751420981019\n"
     ]
    }
   ],
   "source": [
    "print(f1_max, f2_max, poc_reg_y, poc_reg_x)"
   ]
  },
  {
   "cell_type": "code",
   "execution_count": 28,
   "metadata": {},
   "outputs": [],
   "source": [
    "w_row, w_col, n_im = image_series.shape\n",
    "new_regged_image_series = np.array([shift(image_series[:, :, i], (new_dif_y[i], new_dif_x[i])) for i in range(n_im)])"
   ]
  },
  {
   "cell_type": "code",
   "execution_count": 29,
   "metadata": {},
   "outputs": [],
   "source": [
    "im1 = targetimage[:f1_max]\n",
    "new_regged_image_series = new_regged_image_series[f2_max:]"
   ]
  },
  {
   "cell_type": "code",
   "execution_count": 30,
   "metadata": {},
   "outputs": [],
   "source": [
    "img = np.concatenate((im1, new_regged_image_series), axis = 0)"
   ]
  },
  {
   "cell_type": "code",
   "execution_count": 19,
   "metadata": {
    "id": "47oqqp_glTlZ"
   },
   "outputs": [],
   "source": [
    "# SAVE\n",
    "img = img.astype('uint8')\n",
    "save_path = save_loc / f\"{animal_id}_{hemi}.tif\"\n",
    "tifffile.imwrite(save_path,img)"
   ]
  }
 ],
 "metadata": {
  "colab": {
   "provenance": []
  },
  "kernelspec": {
   "display_name": "Long-Evans_Atlas",
   "language": "python",
   "name": "python3"
  },
  "language_info": {
   "codemirror_mode": {
    "name": "ipython",
    "version": 3
   },
   "file_extension": ".py",
   "mimetype": "text/x-python",
   "name": "python",
   "nbconvert_exporter": "python",
   "pygments_lexer": "ipython3",
   "version": "3.11.9"
  }
 },
 "nbformat": 4,
 "nbformat_minor": 0
}
