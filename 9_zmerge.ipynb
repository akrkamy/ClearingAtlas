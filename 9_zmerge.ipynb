{
 "cells": [
  {
   "cell_type": "code",
   "execution_count": 1,
   "metadata": {},
   "outputs": [],
   "source": [
    "import numpy as np\n",
    "from scipy.fft import fft2, ifft2, fftshift\n",
    "from scipy.ndimage import shift"
   ]
  },
  {
   "cell_type": "code",
   "execution_count": 2,
   "metadata": {
    "id": "k43GQdMQbb0_"
   },
   "outputs": [],
   "source": [
    "# poc registration (class definition)\n",
    "\n",
    "def poc_reg(image_series, mag, cut, target):\n",
    "    \"\"\"\n",
    "    Register a series of images using Phase Only Correlation (POC).\n",
    "\n",
    "    Parameters:\n",
    "    image_series : np.ndarray\n",
    "        3D numpy array of the images to be registered (height x width x num_images)\n",
    "    mag : int\n",
    "        Magnification factor for the upsampling of the correlation.\n",
    "    cut : int\n",
    "        Number of pixels to cut from the borders.\n",
    "    target : np.ndarray, optional\n",
    "        Target image for the registration. If not provided, the mean image will be used.\n",
    "\n",
    "    Returns:\n",
    "    regged_image_series : np.ndarray\n",
    "        Registered image series.\n",
    "    dif_y : np.ndarray\n",
    "        Displacement along y axis for each image.\n",
    "    dif_x : np.ndarray\n",
    "        Displacement along x axis for each image.\n",
    "    \"\"\"\n",
    "\n",
    "    debug = False\n",
    "    debug_itr = []\n",
    "\n",
    "    # Subset the image series (cut the borders)\n",
    "    if cut == 0:\n",
    "     subset = image_series  # 全体を選択\n",
    "    else:\n",
    "     subset = image_series[cut:-cut, cut:-cut, :]\n",
    "\n",
    "    # Compute the target/mean image\n",
    "    if target is not None:\n",
    "        mean_image = target\n",
    "    else:\n",
    "        mean_image = np.mean(subset, axis=2)\n",
    "\n",
    "    #plt.imshow(mean_image)\n",
    "    # Image dimensions\n",
    "    w_row, w_col, n_im = subset.shape\n",
    "\n",
    "    # 2D Hanning window\n",
    "    wx, wy = np.meshgrid(\n",
    "        0.5 - 0.5 * np.cos(2 * np.pi / mean_image.shape[1] * np.linspace(0, mean_image.shape[1], mean_image.shape[1])),\n",
    "        0.5 - 0.5 * np.cos(2 * np.pi / mean_image.shape[0] * np.linspace(0, mean_image.shape[0], mean_image.shape[0]))\n",
    "    )\n",
    "    mean_image *= wx * wy\n",
    "\n",
    "    # FFT of the mean image\n",
    "    ft_mean = fft2(mean_image)\n",
    "\n",
    "    dif_y = np.zeros(n_im)\n",
    "    dif_x = np.zeros(n_im)\n",
    "\n",
    "    def process_image(i):\n",
    "        nonlocal debug\n",
    "        if i in debug_itr:\n",
    "            debug = True\n",
    "        else:\n",
    "            debug = False\n",
    "\n",
    "        temp = subset[:, :, i].astype(float)\n",
    "#        temp *= wx * wy\n",
    "        ft_temp = fft2(temp)\n",
    "\n",
    "        # Phase-only cross-power spectrum\n",
    "        factorial = ft_temp * np.conj(ft_mean) / np.sqrt(np.abs(ft_mean) * np.abs(ft_temp))\n",
    "\n",
    "        if mag != 1:\n",
    "            zeros_ft = np.zeros_like(factorial)\n",
    "            factorial = np.vstack((\n",
    "                np.hstack((factorial[:w_row//2, :w_col//2], np.tile(zeros_ft[:w_row//2, :w_col], (1, mag-1)), factorial[:w_row//2, w_col//2:])),\n",
    "                np.tile(zeros_ft, (mag-1, mag)),\n",
    "                np.hstack((factorial[w_row//2:, :w_col//2], np.tile(zeros_ft[w_row//2:, :w_col], (1, mag-1)), factorial[w_row//2:, w_col//2:]))\n",
    "            ))\n",
    "\n",
    "        # Inverse FFT and correlation peak detection\n",
    "        c = fftshift(np.real(ifft2(factorial)))\n",
    "        c1 = np.max(c, axis=0)\n",
    "        i1 = np.argmax(c, axis=0)\n",
    "        i2 = np.argmax(c1)\n",
    "\n",
    "        # Sub-pixel displacement calculation\n",
    "        val_y = (c[i1[i2]-1, i2] - c[i1[i2]+1, i2]) / (2 * (c[i1[i2]-1, i2] + c[i1[i2]+1, i2] - 2 * c[i1[i2], i2])) + i1[i2]\n",
    "        val_x = (c[i1[i2], i2-1] - c[i1[i2], i2+1]) / (2 * (c[i1[i2], i2-1] + c[i1[i2], i2+1] - 2 * c[i1[i2], i2])) + i2\n",
    "\n",
    "        dif_y[i] = -(val_y - (w_row // 2 * mag + 1)) / mag\n",
    "        dif_x[i] = -(val_x - (w_col // 2 * mag + 1)) / mag\n",
    "\n",
    "        # Handle large displacements\n",
    "        if abs(dif_y[i]) > 2000:\n",
    "            dif_y[i] = np.finfo(float).eps\n",
    "            print(f\"A displacement > 100 pixels was detected in frame {i} and was assumed as eps\")\n",
    "        # if abs(dif_x[i]) > 2000:\n",
    "        #     dif_x[i] = np.finfo(float).eps\n",
    "        #     print(f\"A displacement > 100 pixels was detected in frame {i} and was assumed as eps\")\n",
    "\n",
    "        return dif_y[i], dif_x[i]\n",
    "\n",
    "    # Use multiprocessing to parallelize the process\n",
    "    for i in range(n_im):\n",
    "     dif_y[i], dif_x[i] = process_image(i)\n",
    "\n",
    "    dif_y, dif_x = np.array(dif_y), np.array(dif_x)\n",
    "\n",
    "    # Apply the translation to the image series\n",
    "    #regged_image_series = np.array([shift(image_series[:, :, i], (dif_y[i], dif_x[i])) for i in range(n_im)])\n",
    "\n",
    "    #return regged_image_series.astype(np.uint16), dif_y, dif_x\n",
    "    return dif_y, dif_x\n"
   ]
  },
  {
   "cell_type": "code",
   "execution_count": 23,
   "metadata": {},
   "outputs": [],
   "source": [
    "import reset\n",
    "from pathlib import Path\n",
    "import numpy as np\n",
    "import tifffile\n",
    "import matplotlib.pyplot as plt"
   ]
  },
  {
   "cell_type": "code",
   "execution_count": 4,
   "metadata": {},
   "outputs": [],
   "source": [
    "# Assign variables from reset\n",
    "animal_loc = reset.animal_loc\n",
    "animal_id = reset.animal_id\n",
    "hemi = reset.hemi\n",
    "frame_len = reset.frame_len"
   ]
  },
  {
   "cell_type": "code",
   "execution_count": 5,
   "metadata": {},
   "outputs": [],
   "source": [
    "# Define paths for input and output images\n",
    "image_loc = animal_loc / \"padding\" / hemi\n",
    "save_loc = animal_loc / \"zmerged\"\n",
    "\n",
    "# Ensure save location exists\n",
    "save_loc.mkdir(parents=True, exist_ok=True)\n",
    "\n",
    "image_path_list = [f\"{image_loc}/{animal_id}_{hemi}_{n}.tif\" for n in range(1,3)]"
   ]
  },
  {
   "cell_type": "code",
   "execution_count": 6,
   "metadata": {},
   "outputs": [],
   "source": [
    "image_path1 = image_path_list[0]\n",
    "targetimage = tifffile.imread(image_path1).astype('float64')\n",
    "meantargetimage = np.mean(targetimage, axis=0)"
   ]
  },
  {
   "cell_type": "code",
   "execution_count": 7,
   "metadata": {
    "colab": {
     "base_uri": "https://localhost:8080/"
    },
    "id": "kAJGAYEhgfGo",
    "outputId": "b7ca18ba-813b-4c14-d11c-f37dedd1c6bf"
   },
   "outputs": [
    {
     "name": "stdout",
     "output_type": "stream",
     "text": [
      "/Volumes/BaffaloSSDPUTU3C1TB/rbak_data/rbak006/padding/l/rbak006_l_2.tif\n",
      "(3072, 1890, 62)\n"
     ]
    }
   ],
   "source": [
    "image_path2 = image_path_list[1]\n",
    "print(image_path2)\n",
    "# .tifファイルを読み込み、3次元のnumpy配列に変換\n",
    "image_series = tifffile.imread(image_path2)\n",
    "image_series = np.transpose(image_series, (1, 2, 0))\n",
    "# image_seriesは高さ x 幅 x フレーム数 の3次元numpy配列になります\n",
    "print(image_series.shape)"
   ]
  },
  {
   "cell_type": "code",
   "execution_count": 8,
   "metadata": {
    "colab": {
     "base_uri": "https://localhost:8080/"
    },
    "id": "FXyk6NGebefn",
    "outputId": "a46a8181-6b43-49c5-b69c-b15ca48140b6"
   },
   "outputs": [],
   "source": [
    "dif_y, dif_x =poc_reg(image_series,1,0,meantargetimage)"
   ]
  },
  {
   "cell_type": "code",
   "execution_count": 9,
   "metadata": {
    "id": "DJSSms-3IvxJ"
   },
   "outputs": [],
   "source": [
    "w_row, w_col, n_im = image_series.shape\n",
    "regged_image_series = np.array([shift(image_series[:, :, i], (dif_y[i], dif_x[i])) for i in range(n_im)])"
   ]
  },
  {
   "cell_type": "code",
   "execution_count": 10,
   "metadata": {},
   "outputs": [],
   "source": [
    "approx_start = 37\n",
    "approx_end = 38"
   ]
  },
  {
   "cell_type": "code",
   "execution_count": 11,
   "metadata": {},
   "outputs": [
    {
     "name": "stdout",
     "output_type": "stream",
     "text": [
      "0.3036369369974067 37 0\n"
     ]
    },
    {
     "name": "stderr",
     "output_type": "stream",
     "text": [
      "/opt/anaconda3/envs/Long-Evans_Atlas/lib/python3.11/site-packages/numpy/lib/_function_base_impl.py:2922: RuntimeWarning: invalid value encountered in divide\n",
      "  c /= stddev[:, None]\n",
      "/opt/anaconda3/envs/Long-Evans_Atlas/lib/python3.11/site-packages/numpy/lib/_function_base_impl.py:2923: RuntimeWarning: invalid value encountered in divide\n",
      "  c /= stddev[None, :]\n"
     ]
    }
   ],
   "source": [
    "corr_list = []\n",
    "for fn1 in range(approx_start,approx_end):\n",
    "    corr = abs(np.corrcoef(targetimage[fn1],regged_image_series[0])[0,1])\n",
    "    corr_list.append(corr)\n",
    "\n",
    "corr_max = np.argmax(corr_list)\n",
    "f1_max = corr_max // (approx_end-approx_start) + approx_start\n",
    "f2_max = corr_max % (frame_len)\n",
    "print(max(corr_list), f1_max, f2_max)"
   ]
  },
  {
   "cell_type": "markdown",
   "metadata": {},
   "source": [
    "Manually assign f1_max (the end of the first set)"
   ]
  },
  {
   "cell_type": "code",
   "execution_count": 12,
   "metadata": {},
   "outputs": [],
   "source": [
    "# last frame of the first stack\n",
    "f1_max = 38"
   ]
  },
  {
   "cell_type": "code",
   "execution_count": 13,
   "metadata": {},
   "outputs": [
    {
     "name": "stdout",
     "output_type": "stream",
     "text": [
      "0.3036369369974067 38 0\n"
     ]
    }
   ],
   "source": [
    "print(max(corr_list), f1_max, f2_max)"
   ]
  },
  {
   "cell_type": "code",
   "execution_count": 14,
   "metadata": {},
   "outputs": [],
   "source": [
    "poc_reg_y = dif_y[f2_max]\n",
    "poc_reg_x = dif_x[f2_max]\n",
    "\n",
    "new_dif_y = np.full(frame_len, poc_reg_y)\n",
    "new_dif_x = np.full(frame_len, poc_reg_x)"
   ]
  },
  {
   "cell_type": "code",
   "execution_count": 15,
   "metadata": {},
   "outputs": [],
   "source": [
    "newtargetimage = targetimage[f1_max]"
   ]
  },
  {
   "cell_type": "code",
   "execution_count": 16,
   "metadata": {},
   "outputs": [],
   "source": [
    "dif_y, dif_x =poc_reg(image_series,1,0,newtargetimage)"
   ]
  },
  {
   "cell_type": "code",
   "execution_count": 44,
   "metadata": {},
   "outputs": [
    {
     "name": "stdout",
     "output_type": "stream",
     "text": [
      "24.984128219333797 -45.76275733789362\n"
     ]
    }
   ],
   "source": [
    "poc_reg_y = dif_y[f2_max]\n",
    "poc_reg_x = dif_x[f2_max]\n",
    "\n",
    "print(poc_reg_y, poc_reg_x)\n",
    "\n",
    "new_dif_y = np.full(frame_len, poc_reg_y)\n",
    "new_dif_x = np.full(frame_len, poc_reg_x)"
   ]
  },
  {
   "cell_type": "code",
   "execution_count": 19,
   "metadata": {},
   "outputs": [],
   "source": [
    "w_row, w_col, n_im = image_series.shape\n",
    "new_regged_image_series = np.array([shift(image_series[:, :, i], (new_dif_y[i], new_dif_x[i])) for i in range(n_im)])"
   ]
  },
  {
   "cell_type": "code",
   "execution_count": 54,
   "metadata": {},
   "outputs": [],
   "source": [
    "sect1 = targetimage[:f1_max]  # Section 1\n",
    "overlap_length = 62 - f1_max\n",
    "\n",
    "sect2_im1 = targetimage[f1_max:f1_max + overlap_length]\n",
    "sect2_im2 = new_regged_image_series[:overlap_length]\n",
    "sect2 = (sect2_im1 + sect2_im2) // 2\n",
    "\n",
    "sect3 = new_regged_image_series[overlap_length:]  # Section 3\n",
    "\n",
    "# Concatenate the sections\n",
    "img = np.concatenate((sect1, sect2, sect3), axis=0)"
   ]
  },
  {
   "cell_type": "code",
   "execution_count": null,
   "metadata": {},
   "outputs": [],
   "source": [
    "# SAVE\n",
    "save_path = save_loc / f\"{animal_id}_{hemi}.tif\"\n",
    "tifffile.imwrite(save_path,img.astype('uint8'))"
   ]
  },
  {
   "cell_type": "code",
   "execution_count": 56,
   "metadata": {},
   "outputs": [],
   "source": [
    "#plt.imshow(img[49,:,:])"
   ]
  },
  {
   "cell_type": "code",
   "execution_count": 49,
   "metadata": {},
   "outputs": [
    {
     "name": "stdout",
     "output_type": "stream",
     "text": [
      "-25.015871780666203 -185.76275733789362\n"
     ]
    }
   ],
   "source": [
    "poc_reg_y = dif_y[f2_max]\n",
    "poc_reg_x = dif_x[f2_max]\n",
    "\n",
    "poc_reg_y -= 50\n",
    "poc_reg_x -= 140\n",
    "\n",
    "print(poc_reg_y, poc_reg_x)\n",
    "\n",
    "new_dif_y = np.full(frame_len, poc_reg_y)\n",
    "new_dif_x = np.full(frame_len, poc_reg_x)"
   ]
  },
  {
   "cell_type": "code",
   "execution_count": 50,
   "metadata": {},
   "outputs": [],
   "source": [
    "w_row, w_col, n_im = image_series.shape\n",
    "new_regged_image_series = np.array([shift(image_series[:, :, i], (new_dif_y[i], new_dif_x[i])) for i in range(n_im)])"
   ]
  },
  {
   "cell_type": "code",
   "execution_count": 51,
   "metadata": {},
   "outputs": [],
   "source": [
    "sect1 = targetimage[:f1_max]  # Section 1\n",
    "overlap_length = 62 - f1_max\n",
    "\n",
    "sect2_im1 = targetimage[f1_max:f1_max + overlap_length]\n",
    "sect2_im2 = new_regged_image_series[:overlap_length]\n",
    "sect2 = (sect2_im1 + sect2_im2)\n",
    "\n",
    "sect3 = new_regged_image_series[overlap_length:]  # Section 3\n",
    "\n",
    "# Concatenate the sections\n",
    "img = np.concatenate((sect1, sect2, sect3), axis=0)"
   ]
  },
  {
   "cell_type": "code",
   "execution_count": 55,
   "metadata": {
    "id": "47oqqp_glTlZ"
   },
   "outputs": [],
   "source": [
    "# SAVE\n",
    "save_path = save_loc / f\"{animal_id}_{hemi}.tif\"\n",
    "tifffile.imwrite(save_path,img.astype('uint8'))"
   ]
  }
 ],
 "metadata": {
  "colab": {
   "provenance": []
  },
  "kernelspec": {
   "display_name": "Long-Evans_Atlas",
   "language": "python",
   "name": "python3"
  },
  "language_info": {
   "codemirror_mode": {
    "name": "ipython",
    "version": 3
   },
   "file_extension": ".py",
   "mimetype": "text/x-python",
   "name": "python",
   "nbconvert_exporter": "python",
   "pygments_lexer": "ipython3",
   "version": "3.11.9"
  }
 },
 "nbformat": 4,
 "nbformat_minor": 0
}
