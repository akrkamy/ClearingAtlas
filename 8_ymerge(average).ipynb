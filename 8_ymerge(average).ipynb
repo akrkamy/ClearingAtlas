{
 "cells": [
  {
   "cell_type": "code",
   "execution_count": 11,
   "metadata": {},
   "outputs": [],
   "source": [
    "import reset\n",
    "from pathlib import Path\n",
    "import numpy as np\n",
    "import scipy as sp\n",
    "import tifffile\n",
    "import math\n",
    "import plotly.graph_objects as go\n",
    "import matplotlib.pyplot as plt"
   ]
  },
  {
   "cell_type": "code",
   "execution_count": 12,
   "metadata": {},
   "outputs": [],
   "source": [
    "# Assign variables from reset\n",
    "animal_loc = reset.animal_loc\n",
    "animal_id = reset.animal_id\n",
    "hemi = reset.hemi\n",
    "divisor = reset.divisor\n",
    "down_x = reset.down_x\n",
    "down_y = reset.down_y\n",
    "grid = reset.grid\n",
    "frame_len = reset.frame_len\n",
    "max_pos = reset.max_pos"
   ]
  },
  {
   "cell_type": "code",
   "execution_count": 13,
   "metadata": {},
   "outputs": [],
   "source": [
    "# Create list of locations as strings\n",
    "pos_list = [str(n+1) for n in range(max_pos)]\n",
    "\n",
    "# Define paths for input and output images\n",
    "image_loc = animal_loc / \"xmerged\" / hemi\n",
    "save_loc = animal_loc / \"ymerged\" / hemi\n",
    "\n",
    "# Ensure save location exists\n",
    "save_loc.mkdir(parents=True, exist_ok=True)\n",
    "\n",
    "image_path_list = [f\"{image_loc}/{animal_id}_{hemi}_{pos}.tif\" for pos in pos_list]"
   ]
  },
  {
   "cell_type": "code",
   "execution_count": 14,
   "metadata": {},
   "outputs": [],
   "source": [
    "height = down_y\n",
    "\n",
    "frame_height = 3 * down_y\n",
    "frame_width = 3 * down_x\n",
    "\n",
    "# Initialize frames for top, middle, and bottom sections\n",
    "frame = np.empty((frame_len, frame_height, frame_width))"
   ]
  },
  {
   "cell_type": "code",
   "execution_count": 15,
   "metadata": {},
   "outputs": [],
   "source": [
    "def find_brightest_frame(path_num1, path_num2, path_num3):\n",
    "    global max_frame\n",
    "    \"\"\"\n",
    "    Find the brightest frame across three image sequences.\n",
    "    Returns the index of the brightest frame and the average brightness for each image.\n",
    "    \"\"\"\n",
    "    average_brightness = []\n",
    "    for path_num in [path_num1, path_num2, path_num3]:\n",
    "        brightness_list = []\n",
    "        for fn in range(frame_len):\n",
    "            im = tifffile.imread(image_path_list[path_num - 1])\n",
    "            im_f = im[fn, :, :]\n",
    "            brightness_list.append(np.average(im_f))\n",
    "        \n",
    "        max_brightness = max(brightness_list)\n",
    "        max_frame_index = np.argmax(brightness_list)\n",
    "        average_brightness.append((max_brightness, max_frame_index))\n",
    "\n",
    "    # Determine the maximum brightness and corresponding frame\n",
    "    max_brightness_values, max_frame_indices = zip(*average_brightness)\n",
    "    max_frame = max_frame_indices[np.argmax(max_brightness_values)]\n",
    "    \n",
    "    print(f\"Brightest frame across sections: {max_frame}\")\n",
    "    return max_frame"
   ]
  },
  {
   "cell_type": "code",
   "execution_count": 16,
   "metadata": {},
   "outputs": [],
   "source": [
    "def y_connector(path_num1, path_num2, rect_y, rect_y_move, rect_y_start):\n",
    "    global start_y\n",
    "    # Load and extract frames from both images\n",
    "    im1 = tifffile.imread(image_path_list[path_num1 - 1])\n",
    "    im1_f = im1[max_frame, :, :]\n",
    "    del im1\n",
    "\n",
    "    im2 = tifffile.imread(image_path_list[path_num2 - 1])\n",
    "    im2_f = im2[max_frame, :, :]\n",
    "    del im2\n",
    "\n",
    "    # Calculate correlations over specified range\n",
    "    cor = [\n",
    "        np.corrcoef(\n",
    "            im1_f[:rect_y, :].ravel(),\n",
    "            im2_f[i:i + rect_y, :].ravel()\n",
    "        )[0, 1]\n",
    "        for i in range(rect_y_start, rect_y_start + rect_y_move)\n",
    "    ]\n",
    "\n",
    "    start_y = np.argmax(cor) + rect_y\n",
    "\n",
    "# Main function to align three sections vertically\n",
    "def nine_sections(f1, f2, f3, frame_name, rect_y, rect_y_move, rect_y_start):\n",
    "    global target1_start_y, target2_start_y\n",
    "\n",
    "    y_connector(f1, f2, rect_y, rect_y_move, rect_y_start)\n",
    "    target1_start_y = start_y\n",
    "    y_connector(f2, f3, rect_y, rect_y_move, rect_y_start)\n",
    "    target2_start_y = start_y\n",
    "\n",
    "    print(\"First section target frame and start y:\", max_frame, target1_start_y)\n",
    "    print(\"Second section target frame and start y:\", max_frame, target2_start_y)\n",
    "\n",
    "def top(f1, frame_name = frame):\n",
    "    im1 = tifffile.imread(image_path_list[f1 - 1])\n",
    "    width1 = im1.shape[2]\n",
    "    for fn in range(frame_len):\n",
    "        frame_name[fn, :height, :width1] = im1[fn,:,:]\n",
    "    del im1\n",
    "\n",
    "def middle(f2, start_y1, frame_name=frame):\n",
    "    im2 = tifffile.imread(image_path_list[f2 - 1])\n",
    "    width2 = im2.shape[2]\n",
    "    for fn in range(frame_len):\n",
    "        # Compute overlapping section and average\n",
    "        overlap_start = height - start_y1\n",
    "        overlap = (frame_name[fn, overlap_start:height, :width2] + im2[fn, :start_y1, :]) / 2\n",
    "        frame_name[fn, overlap_start:height, :width2] = overlap\n",
    "        frame_name[fn, height:2 * height - start_y1, :width2] = im2[fn, start_y1:, :]\n",
    "    del im2\n",
    "\n",
    "def bottom(f3, start_y1, start_y2, frame_name=frame):\n",
    "    im3 = tifffile.imread(image_path_list[f3 - 1])\n",
    "    width3 = im3.shape[2]\n",
    "    for fn in range(frame_len):\n",
    "        # Compute overlapping section and average\n",
    "        overlap_start = 2 * height - start_y1 - start_y2\n",
    "        overlap = (frame_name[fn, overlap_start:2 * height - start_y1, :width3] + im3[fn, :start_y2, :]) / 2\n",
    "        frame_name[fn, overlap_start:2 * height - start_y1, :width3] = overlap\n",
    "        frame_name[fn, 2 * height - start_y1:3 * height - start_y1 - start_y2, :width3] = im3[fn, start_y2:, :]\n",
    "    del im3"
   ]
  },
  {
   "cell_type": "code",
   "execution_count": 17,
   "metadata": {},
   "outputs": [],
   "source": [
    "#Adjust as deeded\n",
    "rect_y = 20\n",
    "rect_y_move = 200\n",
    "rect_y_start = down_y - rect_y - rect_y_move"
   ]
  },
  {
   "cell_type": "code",
   "execution_count": null,
   "metadata": {},
   "outputs": [],
   "source": [
    "find_brightest_frame(1, 2, 3)\n",
    "# Run alignment on specified sections\n",
    "nine_sections(1, 2, 3, frame, rect_y, rect_y_move, rect_y_start)"
   ]
  },
  {
   "cell_type": "code",
   "execution_count": 8,
   "metadata": {},
   "outputs": [],
   "source": [
    "top(1)\n",
    "middle(2, 75)"
   ]
  },
  {
   "cell_type": "code",
   "execution_count": 10,
   "metadata": {},
   "outputs": [],
   "source": [
    "bottom(3, target1_start_y, 260)"
   ]
  },
  {
   "cell_type": "code",
   "execution_count": null,
   "metadata": {},
   "outputs": [],
   "source": [
    "fig = go.Figure(data=go.Heatmap(z=frame[max_frame], colorscale=\"Viridis\"))\n",
    "fig.update_layout(xaxis=dict(scaleanchor=\"y\"), yaxis=dict(scaleanchor=\"x\"))\n",
    "fig.show()"
   ]
  },
  {
   "cell_type": "code",
   "execution_count": null,
   "metadata": {},
   "outputs": [],
   "source": [
    "# Save the aligned image\n",
    "save_path = save_loc / f\"{animal_id}_{hemi}_1.tif\"\n",
    "tifffile.imwrite(save_path, frame.astype('uint8'))\n",
    "print(f\"Aligned image saved to {save_path}\")"
   ]
  },
  {
   "cell_type": "code",
   "execution_count": null,
   "metadata": {},
   "outputs": [],
   "source": [
    "find_brightest_frame(4, 5, 6)\n",
    "# Run alignment on specified sections\n",
    "nine_sections(4, 5, 6, frame, rect_y, rect_y_move, rect_y_start)"
   ]
  },
  {
   "cell_type": "code",
   "execution_count": 18,
   "metadata": {},
   "outputs": [],
   "source": [
    "top(4)\n",
    "middle(5, 0)"
   ]
  },
  {
   "cell_type": "code",
   "execution_count": 15,
   "metadata": {},
   "outputs": [],
   "source": [
    "bottom(6, 175, 230)"
   ]
  },
  {
   "cell_type": "code",
   "execution_count": null,
   "metadata": {},
   "outputs": [],
   "source": [
    "fig = go.Figure(data=go.Heatmap(z=frame[max_frame], colorscale=\"Viridis\"))\n",
    "fig.update_layout(xaxis=dict(scaleanchor=\"y\"), yaxis=dict(scaleanchor=\"x\"))\n",
    "fig.show()"
   ]
  },
  {
   "cell_type": "code",
   "execution_count": 19,
   "metadata": {},
   "outputs": [
    {
     "name": "stdout",
     "output_type": "stream",
     "text": [
      "Aligned image saved to /Volumes/BaffaloSSDPUTU3C1TB/rbak_data/rbak004/ymerged/l/rbak004_l_2.tif\n"
     ]
    }
   ],
   "source": [
    "# Save the aligned image\n",
    "save_path = save_loc / f\"{animal_id}_{hemi}_2.tif\"\n",
    "tifffile.imwrite(save_path, frame.astype('uint8'))\n",
    "print(f\"Aligned image saved to {save_path}\")"
   ]
  }
 ],
 "metadata": {
  "kernelspec": {
   "display_name": "Long-Evans_Atlas",
   "language": "python",
   "name": "python3"
  },
  "language_info": {
   "codemirror_mode": {
    "name": "ipython",
    "version": 3
   },
   "file_extension": ".py",
   "mimetype": "text/x-python",
   "name": "python",
   "nbconvert_exporter": "python",
   "pygments_lexer": "ipython3",
   "version": "3.11.9"
  }
 },
 "nbformat": 4,
 "nbformat_minor": 2
}
