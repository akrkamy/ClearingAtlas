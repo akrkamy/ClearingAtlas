{
 "cells": [
  {
   "cell_type": "code",
   "execution_count": null,
   "metadata": {},
   "outputs": [],
   "source": [
    "import reset\n",
    "from pathlib import Path\n",
    "import numpy as np\n",
    "import scipy as sp\n",
    "import tifffile\n",
    "import math\n",
    "import plotly.graph_objects as go"
   ]
  },
  {
   "cell_type": "code",
   "execution_count": 2,
   "metadata": {},
   "outputs": [],
   "source": [
    "# Assign variables from reset\n",
    "animal_loc = reset.animal_loc\n",
    "animal_id = reset.animal_id\n",
    "hemi = reset.hemi\n",
    "divisor = reset.divisor\n",
    "down_x = reset.down_x\n",
    "down_y = reset.down_y\n",
    "loc_max = reset.loc_max\n",
    "grid = reset.grid\n",
    "frame_len = reset.frame_len"
   ]
  },
  {
   "cell_type": "code",
   "execution_count": 3,
   "metadata": {},
   "outputs": [],
   "source": [
    "# Create list of locations as strings\n",
    "loc_list = [str(n+1) for n in range(loc_max)]\n",
    "\n",
    "# Define paths for input and output images\n",
    "image_loc = animal_loc / \"ffc\" / hemi\n",
    "save_loc = animal_loc / \"xmerged\" / hemi\n",
    "\n",
    "# Ensure save location exists\n",
    "save_loc.mkdir(parents=True, exist_ok=True)\n",
    "\n",
    "image_path_list = [f\"{image_loc}/{animal_id}_{hemi}_{loc}.tif\" for loc in loc_list]"
   ]
  },
  {
   "cell_type": "code",
   "execution_count": 4,
   "metadata": {},
   "outputs": [],
   "source": [
    "rect_x = 35\n",
    "rect_x_move = 100\n",
    "rect_x_start = down_x - rect_x - rect_x_move\n",
    "\n",
    "width = down_x\n",
    "frame_height = down_y\n",
    "frame_width = 3 * width\n",
    "frame = np.zeros((frame_len, frame_height, frame_width))"
   ]
  },
  {
   "cell_type": "code",
   "execution_count": 5,
   "metadata": {},
   "outputs": [],
   "source": [
    "def find_brightest_frame(path_num1, path_num2, path_num3):\n",
    "    global max_frame\n",
    "    \"\"\"\n",
    "    Find the brightest frame across three image sequences.\n",
    "    Returns the index of the brightest frame and the average brightness for each image.\n",
    "    \"\"\"\n",
    "    average_brightness = []\n",
    "    for path_num in [path_num1, path_num2, path_num3]:\n",
    "        brightness_list = []\n",
    "        for fn in range(frame_len):\n",
    "            im = tifffile.imread(image_path_list[path_num - 1])\n",
    "            im_f = im[fn, :, :]\n",
    "            brightness_list.append(np.average(im_f))\n",
    "        \n",
    "        max_brightness = max(brightness_list)\n",
    "        max_frame_index = np.argmax(brightness_list)\n",
    "        average_brightness.append((max_brightness, max_frame_index))\n",
    "\n",
    "    # Determine the maximum brightness and corresponding frame\n",
    "    max_brightness_values, max_frame_indices = zip(*average_brightness)\n",
    "    max_frame = max_frame_indices[np.argmax(max_brightness_values)]\n",
    "    \n",
    "    print(f\"Brightest frame across sections: {max_frame}\")\n",
    "    return max_frame"
   ]
  },
  {
   "cell_type": "code",
   "execution_count": 6,
   "metadata": {},
   "outputs": [],
   "source": [
    "# Define function for aligning x positions based on maximum correlation\n",
    "def x_connector(path_num1, path_num2, rect_x, rect_x_move, rect_x_start):\n",
    "    global start_x\n",
    "    # Load and extract frames from both images\n",
    "    im1 = tifffile.imread(image_path_list[path_num1 - 1])\n",
    "    im1_f = im1[max_frame, :, :]\n",
    "    del im1\n",
    "\n",
    "    im2 = tifffile.imread(image_path_list[path_num2 - 1])\n",
    "    im2_f = im2[max_frame, :, :]\n",
    "    del im2\n",
    "\n",
    "    # Calculate correlations over specified range\n",
    "    cor = [\n",
    "        np.corrcoef(\n",
    "            im1_f[:, :rect_x].ravel(),\n",
    "            im2_f[:, i:i + rect_x].ravel()\n",
    "        )[0, 1]\n",
    "        for i in range(rect_x_start, rect_x_start + rect_x_move)\n",
    "    ]\n",
    "\n",
    "    # Determine start position with max correlation\n",
    "    start_x = np.argmax(cor) + rect_x\n",
    "\n",
    "def three_sections(f1, f2, f3, frame_name, rect_x, rect_x_move, rect_x_start):\n",
    "    global target1_start_x, target2_start_x\n",
    "\n",
    "    x_connector(f1, f2, rect_x, rect_x_move, rect_x_start)\n",
    "    target1_start_x = start_x\n",
    "    x_connector(f2, f3, rect_x, rect_x_move, rect_x_start)\n",
    "    target2_start_x = start_x\n",
    "\n",
    "    print(\"First section target frame and start x:\", target1_start_x)\n",
    "    print(\"Second section target frame and start x:\", target2_start_x)\n",
    "\n",
    "def left(f1, frame_name=frame):\n",
    "    for fn in range(frame_len):\n",
    "        im1 = tifffile.imread(image_path_list[f1 - 1])\n",
    "        rot_im1 = im1[fn, ::-1, ::-1]\n",
    "        frame_name[fn, :, :width] = rot_im1\n",
    "        del im1\n",
    "\n",
    "def middle(f2, startx1, frame_name=frame):\n",
    "    for fn in range(frame_len):\n",
    "        im2 = tifffile.imread(image_path_list[f2 - 1])\n",
    "        rot_im2 = im2[fn, ::-1, ::-1]\n",
    "        \n",
    "        # Handle the non-overlapping area\n",
    "        frame_name[fn, :, width:2 * width - startx1] = rot_im2[:, startx1:]\n",
    "        \n",
    "        # Average the overlapping area between left and middle\n",
    "        overlap = frame_name[fn, :, width - startx1:width]  # Left's end part\n",
    "        frame_name[fn, :, width - startx1:width] = (overlap + rot_im2[:, :startx1]) / 2\n",
    "        del im2\n",
    "\n",
    "def right(f3, startx1, startx2, frame_name=frame):\n",
    "    for fn in range(frame_len):\n",
    "        im3 = tifffile.imread(image_path_list[f3 - 1])\n",
    "        rot_im3 = im3[fn, ::-1, ::-1]\n",
    "        \n",
    "        # Handle the non-overlapping area\n",
    "        frame_name[fn, :, 2 * width - startx1:3 * width - startx1 - startx2] = rot_im3[:, startx2:]\n",
    "        \n",
    "        # Average the overlapping area between middle and right\n",
    "        overlap = frame_name[fn, :, 2 * width - startx1 - startx2:2 * width - startx1]  # Middle's end part\n",
    "        frame_name[fn, :, 2 * width - startx1 - startx2:2 * width - startx1] = (overlap + rot_im3[:, :startx2]) / 2\n",
    "        del im3"
   ]
  },
  {
   "cell_type": "code",
   "execution_count": 7,
   "metadata": {},
   "outputs": [
    {
     "name": "stdout",
     "output_type": "stream",
     "text": [
      "Brightest frame across sections: 29\n",
      "First section target frame and start x: 109\n",
      "Second section target frame and start x: 35\n"
     ]
    }
   ],
   "source": [
    "find_brightest_frame(1, 2, 3)\n",
    "three_sections(1, 2, 3, frame, rect_x, rect_x_move, rect_x_start)"
   ]
  },
  {
   "cell_type": "code",
   "execution_count": 8,
   "metadata": {},
   "outputs": [],
   "source": [
    "left(1)"
   ]
  },
  {
   "cell_type": "code",
   "execution_count": 9,
   "metadata": {},
   "outputs": [],
   "source": [
    "middle(2, startx1=65)"
   ]
  },
  {
   "cell_type": "code",
   "execution_count": 10,
   "metadata": {},
   "outputs": [],
   "source": [
    "right(3, startx1=65, startx2=133)"
   ]
  },
  {
   "cell_type": "code",
   "execution_count": null,
   "metadata": {},
   "outputs": [],
   "source": [
    "# fig = go.Figure(data=go.Heatmap(z=frame[max_frame], colorscale=\"Viridis\"))\n",
    "# fig.update_layout(xaxis=dict(scaleanchor=\"y\"), yaxis=dict(scaleanchor=\"x\"))\n",
    "# fig.show()"
   ]
  },
  {
   "cell_type": "code",
   "execution_count": 11,
   "metadata": {},
   "outputs": [
    {
     "name": "stdout",
     "output_type": "stream",
     "text": [
      "Aligned image saved to /Volumes/BaffaloSSDPUTU3C1TB/rbak_data/rbak006/xmerged/l/rbak006_l_1.tif\n"
     ]
    }
   ],
   "source": [
    "save_path = save_loc / f\"{animal_id}_{hemi}_1.tif\"\n",
    "tifffile.imwrite(save_path, frame.astype('uint8'))\n",
    "print(f\"Aligned image saved to {save_path}\")"
   ]
  },
  {
   "cell_type": "code",
   "execution_count": 12,
   "metadata": {},
   "outputs": [
    {
     "name": "stdout",
     "output_type": "stream",
     "text": [
      "Brightest frame across sections: 20\n",
      "First section target frame and start x: 85\n",
      "Second section target frame and start x: 134\n"
     ]
    }
   ],
   "source": [
    "find_brightest_frame(6, 5, 4)\n",
    "three_sections(6, 5, 4, frame, rect_x, rect_x_move, rect_x_start)"
   ]
  },
  {
   "cell_type": "code",
   "execution_count": 13,
   "metadata": {},
   "outputs": [],
   "source": [
    "left(6)\n",
    "middle(5, startx1=target1_start_x)"
   ]
  },
  {
   "cell_type": "code",
   "execution_count": 14,
   "metadata": {},
   "outputs": [],
   "source": [
    "right(4, startx1=target1_start_x, startx2=20)"
   ]
  },
  {
   "cell_type": "code",
   "execution_count": null,
   "metadata": {},
   "outputs": [],
   "source": [
    "# fig = go.Figure(data=go.Heatmap(z=frame[max_frame], colorscale=\"Viridis\"))\n",
    "# fig.update_layout(xaxis=dict(scaleanchor=\"y\"), yaxis=dict(scaleanchor=\"x\"))\n",
    "# fig.show()"
   ]
  },
  {
   "cell_type": "code",
   "execution_count": 15,
   "metadata": {},
   "outputs": [
    {
     "name": "stdout",
     "output_type": "stream",
     "text": [
      "Aligned image saved to /Volumes/BaffaloSSDPUTU3C1TB/rbak_data/rbak006/xmerged/l/rbak006_l_2.tif\n"
     ]
    }
   ],
   "source": [
    "save_path = save_loc / f\"{animal_id}_{hemi}_2.tif\"\n",
    "tifffile.imwrite(save_path, frame.astype('uint8'))\n",
    "print(f\"Aligned image saved to {save_path}\")"
   ]
  },
  {
   "cell_type": "code",
   "execution_count": 16,
   "metadata": {},
   "outputs": [
    {
     "name": "stdout",
     "output_type": "stream",
     "text": [
      "Brightest frame across sections: 45\n",
      "First section target frame and start x: 122\n",
      "Second section target frame and start x: 90\n"
     ]
    }
   ],
   "source": [
    "find_brightest_frame(7, 8, 9)\n",
    "# Run alignment on specified sections\n",
    "three_sections(7, 8, 9, frame, rect_x, rect_x_move, rect_x_start)"
   ]
  },
  {
   "cell_type": "code",
   "execution_count": 17,
   "metadata": {},
   "outputs": [],
   "source": [
    "left(7)\n",
    "middle(8, startx1=75)"
   ]
  },
  {
   "cell_type": "code",
   "execution_count": 18,
   "metadata": {},
   "outputs": [],
   "source": [
    "right(9, startx1=75, startx2=target2_start_x)"
   ]
  },
  {
   "cell_type": "code",
   "execution_count": null,
   "metadata": {},
   "outputs": [],
   "source": [
    "# fig = go.Figure(data=go.Heatmap(z=frame[max_frame], colorscale=\"Viridis\"))\n",
    "# fig.update_layout(xaxis=dict(scaleanchor=\"y\"), yaxis=dict(scaleanchor=\"x\"))\n",
    "# fig.show()"
   ]
  },
  {
   "cell_type": "code",
   "execution_count": 19,
   "metadata": {},
   "outputs": [
    {
     "name": "stdout",
     "output_type": "stream",
     "text": [
      "Aligned image saved to /Volumes/BaffaloSSDPUTU3C1TB/rbak_data/rbak006/xmerged/l/rbak006_l_4.tif\n"
     ]
    }
   ],
   "source": [
    "# Save the aligned image\n",
    "save_path = save_loc / f\"{animal_id}_{hemi}_4.tif\"\n",
    "tifffile.imwrite(save_path, frame.astype('uint8'))\n",
    "print(f\"Aligned image saved to {save_path}\")"
   ]
  },
  {
   "cell_type": "code",
   "execution_count": 20,
   "metadata": {},
   "outputs": [
    {
     "name": "stdout",
     "output_type": "stream",
     "text": [
      "Brightest frame across sections: 60\n",
      "First section target frame and start x: 76\n",
      "Second section target frame and start x: 134\n"
     ]
    }
   ],
   "source": [
    "find_brightest_frame(12, 11, 10)\n",
    "three_sections(12, 11, 10, frame, rect_x, rect_x_move, rect_x_start)"
   ]
  },
  {
   "cell_type": "code",
   "execution_count": 21,
   "metadata": {},
   "outputs": [],
   "source": [
    "left(12)\n",
    "middle(11, startx1=80)"
   ]
  },
  {
   "cell_type": "code",
   "execution_count": 22,
   "metadata": {},
   "outputs": [],
   "source": [
    "right(10, startx1=80, startx2=30)"
   ]
  },
  {
   "cell_type": "code",
   "execution_count": null,
   "metadata": {},
   "outputs": [],
   "source": [
    "# fig = go.Figure(data=go.Heatmap(z=frame[max_frame], colorscale=\"Viridis\"))\n",
    "# fig.update_layout(xaxis=dict(scaleanchor=\"y\"), yaxis=dict(scaleanchor=\"x\"))\n",
    "# fig.show()"
   ]
  },
  {
   "cell_type": "code",
   "execution_count": 23,
   "metadata": {},
   "outputs": [
    {
     "name": "stdout",
     "output_type": "stream",
     "text": [
      "Aligned image saved to /Volumes/BaffaloSSDPUTU3C1TB/rbak_data/rbak006/xmerged/l/rbak006_l_5.tif\n"
     ]
    }
   ],
   "source": [
    "save_path = save_loc / f\"{animal_id}_{hemi}_5.tif\"\n",
    "tifffile.imwrite(save_path, frame.astype('uint8'))\n",
    "print(f\"Aligned image saved to {save_path}\")"
   ]
  },
  {
   "cell_type": "code",
   "execution_count": 24,
   "metadata": {},
   "outputs": [
    {
     "name": "stdout",
     "output_type": "stream",
     "text": [
      "Brightest frame across sections: 30\n",
      "First section target frame and start x: 103\n",
      "Second section target frame and start x: 90\n"
     ]
    }
   ],
   "source": [
    "find_brightest_frame(13, 14, 15)\n",
    "three_sections(13, 14, 15, frame, rect_x, rect_x_move, rect_x_start)"
   ]
  },
  {
   "cell_type": "code",
   "execution_count": 25,
   "metadata": {},
   "outputs": [],
   "source": [
    "left(13)\n",
    "middle(14, startx1=50)"
   ]
  },
  {
   "cell_type": "code",
   "execution_count": 26,
   "metadata": {},
   "outputs": [],
   "source": [
    "right(15, startx1=50, startx2=target2_start_x)"
   ]
  },
  {
   "cell_type": "code",
   "execution_count": null,
   "metadata": {},
   "outputs": [],
   "source": [
    "# fig = go.Figure(data=go.Heatmap(z=frame[max_frame], colorscale=\"Viridis\"))\n",
    "# fig.update_layout(xaxis=dict(scaleanchor=\"y\"), yaxis=dict(scaleanchor=\"x\"))\n",
    "# fig.show()"
   ]
  },
  {
   "cell_type": "code",
   "execution_count": 27,
   "metadata": {},
   "outputs": [
    {
     "name": "stdout",
     "output_type": "stream",
     "text": [
      "Aligned image saved to /Volumes/BaffaloSSDPUTU3C1TB/rbak_data/rbak006/xmerged/l/rbak006_l_3.tif\n"
     ]
    }
   ],
   "source": [
    "save_path = save_loc / f\"{animal_id}_{hemi}_3.tif\"\n",
    "tifffile.imwrite(save_path, frame.astype('uint8'))\n",
    "print(f\"Aligned image saved to {save_path}\")"
   ]
  },
  {
   "cell_type": "code",
   "execution_count": 28,
   "metadata": {},
   "outputs": [
    {
     "name": "stdout",
     "output_type": "stream",
     "text": [
      "Brightest frame across sections: 58\n",
      "First section target frame and start x: 133\n",
      "Second section target frame and start x: 114\n"
     ]
    }
   ],
   "source": [
    "find_brightest_frame(16, 17, 18)\n",
    "three_sections(16, 17, 18, frame, rect_x, rect_x_move, rect_x_start)"
   ]
  },
  {
   "cell_type": "code",
   "execution_count": 29,
   "metadata": {},
   "outputs": [],
   "source": [
    "left(16)\n",
    "middle(17, startx1=35)"
   ]
  },
  {
   "cell_type": "code",
   "execution_count": 30,
   "metadata": {},
   "outputs": [],
   "source": [
    "right(18, startx1=35, startx2=50)"
   ]
  },
  {
   "cell_type": "code",
   "execution_count": null,
   "metadata": {},
   "outputs": [],
   "source": [
    "# fig = go.Figure(data=go.Heatmap(z=frame[max_frame], colorscale=\"Viridis\"))\n",
    "# fig.update_layout(xaxis=dict(scaleanchor=\"y\"), yaxis=dict(scaleanchor=\"x\"))\n",
    "# fig.show()"
   ]
  },
  {
   "cell_type": "code",
   "execution_count": 31,
   "metadata": {},
   "outputs": [
    {
     "name": "stdout",
     "output_type": "stream",
     "text": [
      "Aligned image saved to /Volumes/BaffaloSSDPUTU3C1TB/rbak_data/rbak006/xmerged/l/rbak006_l_6.tif\n"
     ]
    }
   ],
   "source": [
    "save_path = save_loc / f\"{animal_id}_{hemi}_6.tif\"\n",
    "tifffile.imwrite(save_path, frame.astype('uint8'))\n",
    "print(f\"Aligned image saved to {save_path}\")"
   ]
  }
 ],
 "metadata": {
  "kernelspec": {
   "display_name": "Long-Evans_Atlas",
   "language": "python",
   "name": "python3"
  },
  "language_info": {
   "codemirror_mode": {
    "name": "ipython",
    "version": 3
   },
   "file_extension": ".py",
   "mimetype": "text/x-python",
   "name": "python",
   "nbconvert_exporter": "python",
   "pygments_lexer": "ipython3",
   "version": "3.11.9"
  }
 },
 "nbformat": 4,
 "nbformat_minor": 2
}
