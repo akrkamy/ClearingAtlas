{
 "cells": [
  {
   "cell_type": "code",
   "execution_count": 49,
   "metadata": {},
   "outputs": [],
   "source": [
    "import reset\n",
    "from pathlib import Path\n",
    "from PIL import Image\n",
    "import numpy as np"
   ]
  },
  {
   "cell_type": "code",
   "execution_count": null,
   "metadata": {},
   "outputs": [],
   "source": [
    "# Construct folder locations\n",
    "folder_loc = reset.animal_loc / \"12bit\" / reset.hemi\n",
    "save_loc = reset.animal_loc / \"8bit\" / reset.hemi\n",
    "\n",
    "# Ensure the save directory exists\n",
    "save_loc.mkdir(parents=True, exist_ok=True)\n",
    "\n",
    "# List .tif files in folder_loc\n",
    "images_list = list(folder_loc.glob(\"*.tif\"))"
   ]
  },
  {
   "cell_type": "code",
   "execution_count": 51,
   "metadata": {},
   "outputs": [
    {
     "name": "stdout",
     "output_type": "stream",
     "text": [
      "Saved: /Volumes/BaffaloSSDPUTU3C1TB/rbak_data/rbak006/8bit/l/rbak006_l_13_0.tif\n",
      "Saved: /Volumes/BaffaloSSDPUTU3C1TB/rbak_data/rbak006/8bit/l/rbak006_l_13_1.tif\n",
      "Saved: /Volumes/BaffaloSSDPUTU3C1TB/rbak_data/rbak006/8bit/l/rbak006_l_11_1.tif\n",
      "Saved: /Volumes/BaffaloSSDPUTU3C1TB/rbak_data/rbak006/8bit/l/rbak006_l_11_0.tif\n",
      "Saved: /Volumes/BaffaloSSDPUTU3C1TB/rbak_data/rbak006/8bit/l/rbak006_l_9_0.tif\n",
      "Saved: /Volumes/BaffaloSSDPUTU3C1TB/rbak_data/rbak006/8bit/l/rbak006_l_15_0.tif\n",
      "Saved: /Volumes/BaffaloSSDPUTU3C1TB/rbak_data/rbak006/8bit/l/rbak006_l_15_1.tif\n",
      "Saved: /Volumes/BaffaloSSDPUTU3C1TB/rbak_data/rbak006/8bit/l/rbak006_l_9_1.tif\n",
      "Saved: /Volumes/BaffaloSSDPUTU3C1TB/rbak_data/rbak006/8bit/l/rbak006_l_17_1.tif\n",
      "Saved: /Volumes/BaffaloSSDPUTU3C1TB/rbak_data/rbak006/8bit/l/rbak006_l_17_0.tif\n",
      "Saved: /Volumes/BaffaloSSDPUTU3C1TB/rbak_data/rbak006/8bit/l/rbak006_l_10_1.tif\n",
      "Saved: /Volumes/BaffaloSSDPUTU3C1TB/rbak_data/rbak006/8bit/l/rbak006_l_10_0.tif\n",
      "Saved: /Volumes/BaffaloSSDPUTU3C1TB/rbak_data/rbak006/8bit/l/rbak006_l_12_0.tif\n",
      "Saved: /Volumes/BaffaloSSDPUTU3C1TB/rbak_data/rbak006/8bit/l/rbak006_l_12_1.tif\n",
      "Saved: /Volumes/BaffaloSSDPUTU3C1TB/rbak_data/rbak006/8bit/l/rbak006_l_16_1.tif\n",
      "Saved: /Volumes/BaffaloSSDPUTU3C1TB/rbak_data/rbak006/8bit/l/rbak006_l_16_0.tif\n",
      "Saved: /Volumes/BaffaloSSDPUTU3C1TB/rbak_data/rbak006/8bit/l/rbak006_l_14_0.tif\n",
      "Saved: /Volumes/BaffaloSSDPUTU3C1TB/rbak_data/rbak006/8bit/l/rbak006_l_8_0.tif\n",
      "Saved: /Volumes/BaffaloSSDPUTU3C1TB/rbak_data/rbak006/8bit/l/rbak006_l_8_1.tif\n",
      "Saved: /Volumes/BaffaloSSDPUTU3C1TB/rbak_data/rbak006/8bit/l/rbak006_l_14_1.tif\n",
      "Saved: /Volumes/BaffaloSSDPUTU3C1TB/rbak_data/rbak006/8bit/l/rbak006_l_18_1.tif\n",
      "Saved: /Volumes/BaffaloSSDPUTU3C1TB/rbak_data/rbak006/8bit/l/rbak006_l_4_1.tif\n",
      "Saved: /Volumes/BaffaloSSDPUTU3C1TB/rbak_data/rbak006/8bit/l/rbak006_l_4_0.tif\n",
      "Saved: /Volumes/BaffaloSSDPUTU3C1TB/rbak_data/rbak006/8bit/l/rbak006_l_18_0.tif\n",
      "Saved: /Volumes/BaffaloSSDPUTU3C1TB/rbak_data/rbak006/8bit/l/rbak006_l_6_0.tif\n",
      "Saved: /Volumes/BaffaloSSDPUTU3C1TB/rbak_data/rbak006/8bit/l/rbak006_l_6_1.tif\n",
      "Saved: /Volumes/BaffaloSSDPUTU3C1TB/rbak_data/rbak006/8bit/l/rbak006_l_2_1.tif\n",
      "Saved: /Volumes/BaffaloSSDPUTU3C1TB/rbak_data/rbak006/8bit/l/rbak006_l_2_0.tif\n",
      "Saved: /Volumes/BaffaloSSDPUTU3C1TB/rbak_data/rbak006/8bit/l/rbak006_l_7_0.tif\n",
      "Saved: /Volumes/BaffaloSSDPUTU3C1TB/rbak_data/rbak006/8bit/l/rbak006_l_7_1.tif\n",
      "Saved: /Volumes/BaffaloSSDPUTU3C1TB/rbak_data/rbak006/8bit/l/rbak006_l_5_1.tif\n",
      "Saved: /Volumes/BaffaloSSDPUTU3C1TB/rbak_data/rbak006/8bit/l/rbak006_l_5_0.tif\n",
      "Saved: /Volumes/BaffaloSSDPUTU3C1TB/rbak_data/rbak006/8bit/l/rbak006_l_1_0.tif\n",
      "Saved: /Volumes/BaffaloSSDPUTU3C1TB/rbak_data/rbak006/8bit/l/rbak006_l_1_1.tif\n",
      "Saved: /Volumes/BaffaloSSDPUTU3C1TB/rbak_data/rbak006/8bit/l/rbak006_l_3_1.tif\n",
      "Saved: /Volumes/BaffaloSSDPUTU3C1TB/rbak_data/rbak006/8bit/l/rbak006_l_3_0.tif\n"
     ]
    }
   ],
   "source": [
    "# Process each .tif image\n",
    "for image_path in images_list:\n",
    "    image = Image.open(image_path)\n",
    "\n",
    "    tiff_stack = []\n",
    "    n_frames = image.n_frames\n",
    "    for i in range(n_frames):\n",
    "        image.seek(i)\n",
    "        image_array = np.array(image, dtype=np.double)\n",
    "        scaling_factor = 255 / reset.max_intensity\n",
    "        adjusted = (image_array * scaling_factor).astype(np.uint8)\n",
    "        frame = Image.fromarray(adjusted)\n",
    "        tiff_stack.append(frame)\n",
    "\n",
    "    # Save the processed image stack to the save location\n",
    "    save_path = save_loc / image_path.name\n",
    "    tiff_stack[0].save(save_path, compression=\"tiff_deflate\", save_all=True, append_images=tiff_stack[1:])\n",
    "    print(\"Saved:\", save_path)"
   ]
  }
 ],
 "metadata": {
  "kernelspec": {
   "display_name": "Long-Evans_Atlas",
   "language": "python",
   "name": "python3"
  },
  "language_info": {
   "codemirror_mode": {
    "name": "ipython",
    "version": 3
   },
   "file_extension": ".py",
   "mimetype": "text/x-python",
   "name": "python",
   "nbconvert_exporter": "python",
   "pygments_lexer": "ipython3",
   "version": "3.11.9"
  }
 },
 "nbformat": 4,
 "nbformat_minor": 2
}
