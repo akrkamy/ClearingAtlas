{
 "cells": [
  {
   "cell_type": "code",
   "execution_count": 1,
   "metadata": {},
   "outputs": [],
   "source": [
    "import reset\n",
    "from pathlib import Path\n",
    "from PIL import Image\n",
    "import numpy as np"
   ]
  },
  {
   "cell_type": "code",
   "execution_count": null,
   "metadata": {},
   "outputs": [],
   "source": [
    "animal_loc = reset.animal_loc\n",
    "hemi = reset.hemi\n",
    "divisor = reset.divisor  # e.g., 4 for 4x4 downsampling"
   ]
  },
  {
   "cell_type": "code",
   "execution_count": 2,
   "metadata": {},
   "outputs": [],
   "source": [
    "# Construct folder locations\n",
    "folder_loc = reset.animal_loc / \"8bit\" / reset.hemi\n",
    "save_loc = reset.animal_loc / \"downsample\" / reset.hemi\n",
    "\n",
    "# Ensure the save directory exists\n",
    "save_loc.mkdir(parents=True, exist_ok=True)\n",
    "\n",
    "# List .tif files in folder_loc\n",
    "images_list = list(folder_loc.glob(\"*.tif\"))"
   ]
  },
  {
   "cell_type": "code",
   "execution_count": 3,
   "metadata": {},
   "outputs": [
    {
     "name": "stdout",
     "output_type": "stream",
     "text": [
      "Downsampled and saved /Volumes/BaffaloSSDPUTU3C1TB/rbak_data/rbak006/8bit/l/rbak006_l_13_0.tif\n",
      "Downsampled and saved /Volumes/BaffaloSSDPUTU3C1TB/rbak_data/rbak006/8bit/l/rbak006_l_13_1.tif\n",
      "Downsampled and saved /Volumes/BaffaloSSDPUTU3C1TB/rbak_data/rbak006/8bit/l/rbak006_l_11_1.tif\n",
      "Downsampled and saved /Volumes/BaffaloSSDPUTU3C1TB/rbak_data/rbak006/8bit/l/rbak006_l_11_0.tif\n",
      "Downsampled and saved /Volumes/BaffaloSSDPUTU3C1TB/rbak_data/rbak006/8bit/l/rbak006_l_9_0.tif\n",
      "Downsampled and saved /Volumes/BaffaloSSDPUTU3C1TB/rbak_data/rbak006/8bit/l/rbak006_l_15_0.tif\n",
      "Downsampled and saved /Volumes/BaffaloSSDPUTU3C1TB/rbak_data/rbak006/8bit/l/rbak006_l_15_1.tif\n",
      "Downsampled and saved /Volumes/BaffaloSSDPUTU3C1TB/rbak_data/rbak006/8bit/l/rbak006_l_9_1.tif\n",
      "Downsampled and saved /Volumes/BaffaloSSDPUTU3C1TB/rbak_data/rbak006/8bit/l/rbak006_l_17_1.tif\n",
      "Downsampled and saved /Volumes/BaffaloSSDPUTU3C1TB/rbak_data/rbak006/8bit/l/rbak006_l_17_0.tif\n",
      "Downsampled and saved /Volumes/BaffaloSSDPUTU3C1TB/rbak_data/rbak006/8bit/l/rbak006_l_10_1.tif\n",
      "Downsampled and saved /Volumes/BaffaloSSDPUTU3C1TB/rbak_data/rbak006/8bit/l/rbak006_l_10_0.tif\n",
      "Downsampled and saved /Volumes/BaffaloSSDPUTU3C1TB/rbak_data/rbak006/8bit/l/rbak006_l_12_0.tif\n",
      "Downsampled and saved /Volumes/BaffaloSSDPUTU3C1TB/rbak_data/rbak006/8bit/l/rbak006_l_12_1.tif\n",
      "Downsampled and saved /Volumes/BaffaloSSDPUTU3C1TB/rbak_data/rbak006/8bit/l/rbak006_l_16_1.tif\n",
      "Downsampled and saved /Volumes/BaffaloSSDPUTU3C1TB/rbak_data/rbak006/8bit/l/rbak006_l_16_0.tif\n",
      "Downsampled and saved /Volumes/BaffaloSSDPUTU3C1TB/rbak_data/rbak006/8bit/l/rbak006_l_14_0.tif\n",
      "Downsampled and saved /Volumes/BaffaloSSDPUTU3C1TB/rbak_data/rbak006/8bit/l/rbak006_l_8_0.tif\n",
      "Downsampled and saved /Volumes/BaffaloSSDPUTU3C1TB/rbak_data/rbak006/8bit/l/rbak006_l_8_1.tif\n",
      "Downsampled and saved /Volumes/BaffaloSSDPUTU3C1TB/rbak_data/rbak006/8bit/l/rbak006_l_14_1.tif\n",
      "Downsampled and saved /Volumes/BaffaloSSDPUTU3C1TB/rbak_data/rbak006/8bit/l/rbak006_l_18_1.tif\n",
      "Downsampled and saved /Volumes/BaffaloSSDPUTU3C1TB/rbak_data/rbak006/8bit/l/rbak006_l_4_1.tif\n",
      "Downsampled and saved /Volumes/BaffaloSSDPUTU3C1TB/rbak_data/rbak006/8bit/l/rbak006_l_4_0.tif\n",
      "Downsampled and saved /Volumes/BaffaloSSDPUTU3C1TB/rbak_data/rbak006/8bit/l/rbak006_l_18_0.tif\n",
      "Downsampled and saved /Volumes/BaffaloSSDPUTU3C1TB/rbak_data/rbak006/8bit/l/rbak006_l_6_0.tif\n",
      "Downsampled and saved /Volumes/BaffaloSSDPUTU3C1TB/rbak_data/rbak006/8bit/l/rbak006_l_6_1.tif\n",
      "Downsampled and saved /Volumes/BaffaloSSDPUTU3C1TB/rbak_data/rbak006/8bit/l/rbak006_l_2_1.tif\n",
      "Downsampled and saved /Volumes/BaffaloSSDPUTU3C1TB/rbak_data/rbak006/8bit/l/rbak006_l_2_0.tif\n",
      "Downsampled and saved /Volumes/BaffaloSSDPUTU3C1TB/rbak_data/rbak006/8bit/l/rbak006_l_7_0.tif\n",
      "Downsampled and saved /Volumes/BaffaloSSDPUTU3C1TB/rbak_data/rbak006/8bit/l/rbak006_l_7_1.tif\n",
      "Downsampled and saved /Volumes/BaffaloSSDPUTU3C1TB/rbak_data/rbak006/8bit/l/rbak006_l_5_1.tif\n",
      "Downsampled and saved /Volumes/BaffaloSSDPUTU3C1TB/rbak_data/rbak006/8bit/l/rbak006_l_5_0.tif\n",
      "Downsampled and saved /Volumes/BaffaloSSDPUTU3C1TB/rbak_data/rbak006/8bit/l/rbak006_l_1_0.tif\n",
      "Downsampled and saved /Volumes/BaffaloSSDPUTU3C1TB/rbak_data/rbak006/8bit/l/rbak006_l_1_1.tif\n",
      "Downsampled and saved /Volumes/BaffaloSSDPUTU3C1TB/rbak_data/rbak006/8bit/l/rbak006_l_3_1.tif\n",
      "Downsampled and saved /Volumes/BaffaloSSDPUTU3C1TB/rbak_data/rbak006/8bit/l/rbak006_l_3_0.tif\n"
     ]
    }
   ],
   "source": [
    "# Downsampling factor\n",
    "divisor = reset.divisor  # e.g., 4 for 4x4 downsampling\n",
    "\n",
    "for image_path in images_list:\n",
    "    image = Image.open(image_path)\n",
    "\n",
    "    n_frames = image.n_frames\n",
    "    downsampled_frames = []\n",
    "\n",
    "    for i in range(n_frames):\n",
    "        image.seek(i)  # Go to frame i\n",
    "        npimage = np.array(image)  # Convert current frame to a NumPy array\n",
    "\n",
    "        # Check if the image is 2D (y, x)\n",
    "        if len(npimage.shape) == 2:\n",
    "            y, x = npimage.shape\n",
    "            y_new, x_new = y // divisor, x // divisor\n",
    "\n",
    "            # Create an empty array for the downsampled data\n",
    "            npnew = np.empty((y_new, x_new), dtype=npimage.dtype)\n",
    "\n",
    "            # Perform downsampling\n",
    "            for yn in range(y_new):\n",
    "                for xn in range(x_new):\n",
    "                    # Calculate the mean of each 4x4 block in x and y dimensions\n",
    "                    npnew[yn, xn] = np.mean(\n",
    "                        npimage[yn * divisor:(yn + 1) * divisor, xn * divisor:(xn + 1) * divisor]\n",
    "                    )\n",
    "\n",
    "            # Convert downsampled frame to a PIL Image and add to list\n",
    "            downsampled_frame = Image.fromarray(npnew)\n",
    "            downsampled_frames.append(downsampled_frame)\n",
    "\n",
    "    # Save all frames as a multi-page TIFF file\n",
    "    if downsampled_frames:\n",
    "        save_path = save_loc / image_path.name\n",
    "        downsampled_frames[0].save(save_path, compression=\"tiff_deflate\", save_all=True, append_images=downsampled_frames[1:])    \n",
    "    print(f\"Downsampled and saved {image_path}\")"
   ]
  }
 ],
 "metadata": {
  "kernelspec": {
   "display_name": "Long-Evans_Atlas",
   "language": "python",
   "name": "python3"
  },
  "language_info": {
   "codemirror_mode": {
    "name": "ipython",
    "version": 3
   },
   "file_extension": ".py",
   "mimetype": "text/x-python",
   "name": "python",
   "nbconvert_exporter": "python",
   "pygments_lexer": "ipython3",
   "version": "3.11.9"
  }
 },
 "nbformat": 4,
 "nbformat_minor": 2
}
