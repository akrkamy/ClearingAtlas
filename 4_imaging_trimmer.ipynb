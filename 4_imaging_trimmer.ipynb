{
 "cells": [
  {
   "cell_type": "code",
   "execution_count": null,
   "metadata": {
    "colab": {
     "base_uri": "https://localhost:8080/"
    },
    "id": "NcmjIcIjyMp2",
    "outputId": "a687c366-8a56-4e20-ac6c-6e7703a7dac2"
   },
   "outputs": [
    {
     "name": "stdout",
     "output_type": "stream",
     "text": [
      "Mounted at /content/drive/\n"
     ]
    }
   ],
   "source": [
    "import reset\n",
    "from pathlib import Path\n",
    "import numpy as np\n",
    "import tifffile\n",
    "import math\n",
    "import matplotlib.pyplot as plt\n",
    "\n",
    "from google.colab import drive\n",
    "drive.mount('/content/drive/')"
   ]
  },
  {
   "cell_type": "code",
   "execution_count": null,
   "metadata": {},
   "outputs": [],
   "source": [
    "animal_loc = reset.animal_loc\n",
    "animal_id = reset.animal_id\n",
    "hemi = reset.hemi\n",
    "divisor = reset.divisor\n",
    "down_x = reset.down_x\n",
    "down_y = reset.down_y\n",
    "loc_max = reset.loc_max\n",
    "grid = reset.grid\n",
    "frame_len = reset.frame_len"
   ]
  },
  {
   "cell_type": "code",
   "execution_count": null,
   "metadata": {
    "colab": {
     "base_uri": "https://localhost:8080/"
    },
    "id": "FtIiJJvIJUdA",
    "outputId": "6b53687d-cf6c-48d0-f4f0-866a6543cff0"
   },
   "outputs": [
    {
     "name": "stdout",
     "output_type": "stream",
     "text": [
      "70\n",
      "(62, 4096, 2160)\n"
     ]
    }
   ],
   "source": [
    "rat_id = \"rbak002\"\n",
    "hemisphere = \"left\"\n",
    "location = \"17\"\n",
    "grid = 4\n",
    "\n",
    "#-------------------------------------------------------------------------------\n",
    "\n",
    "image_loc = \"drive/MyDrive/Lab/\" + rat_id + \"/concatenated/\" + hemisphere + \"/\"\n",
    "save_loc = \"drive/MyDrive/Lab/\" + rat_id + \"/trimmed/\" + hemisphere + \"/\"\n",
    "\n",
    "if hemisphere == \"left\":\n",
    "  image_hemisphere = \"l\"\n",
    "else:\n",
    "  image_hemisphere = \"r\"\n",
    "\n",
    "image_name = rat_id + \"_\" + image_hemisphere + \"_g_\" + location + \".tif\"\n",
    "image_path = os.path.join(image_loc, image_name)\n",
    "save_path = os.path.join(save_loc, image_name)\n",
    "image_array = tifffile.imread(image_path).astype(\"f\")\n",
    "\n",
    "delf_list = []\n",
    "f1 = 9\n",
    "last_frame = (f1-1) + 62\n",
    "\n",
    "for n in range(f1-1):\n",
    "  delf_list.append(n)\n",
    "\n",
    "if (len(image_array) - (f1-1)) > 62:\n",
    "  for n in range(len(image_array) - last_frame):\n",
    "    delf_list.append(n + 62)\n",
    "  new_image_array = np.delete(image_array, delf_list, 0)\n",
    "  tifffile.imwrite(save_path, new_image_array)\n",
    "\n",
    "elif (len(image_array) - (f1-1)) == 62:\n",
    "  new_image_array = np.delete(image_array, delf_list, 0)\n",
    "  tifffile.imwrite(save_path, new_image_array)\n",
    "\n",
    "else:\n",
    "  print(\"less than 62 frames\")\n",
    "\n",
    "#-------------------------------------------------------------------------------\n",
    "print(len(image_array))\n",
    "print(new_image_array.shape)"
   ]
  },
  {
   "cell_type": "code",
   "execution_count": null,
   "metadata": {
    "colab": {
     "base_uri": "https://localhost:8080/"
    },
    "id": "qL6TgSg_8Fqx",
    "outputId": "4cbac80a-2a24-46b7-87a2-8a6210fec8c1"
   },
   "outputs": [
    {
     "name": "stdout",
     "output_type": "stream",
     "text": [
      "5 - 66\n",
      "less than 62 frames\n",
      "64\n",
      "(62, 4096, 2160)\n"
     ]
    }
   ],
   "source": [
    "rat_id = \"rbak002\"\n",
    "hemisphere = \"right\"\n",
    "location = \"9\"\n",
    "grid = 16\n",
    "\n",
    "#-------------------------------------------------------------------------------\n",
    "\n",
    "image_loc = \"drive/MyDrive/Lab/\" + rat_id + \"/concatenated/\" + hemisphere + \"/\"\n",
    "save_loc = \"drive/MyDrive/Lab/\" + rat_id + \"/trimmed/\" + hemisphere + \"/\"\n",
    "\n",
    "if hemisphere == \"left\":\n",
    "  image_hemisphere = \"l\"\n",
    "else:\n",
    "  image_hemisphere = \"r\"\n",
    "\n",
    "image_name = rat_id + \"_\" + image_hemisphere + \"_g_\" + location + \".tif\"\n",
    "image_path = os.path.join(image_loc, image_name)\n",
    "save_path = os.path.join(save_loc, image_name)\n",
    "image_array = tifffile.imread(image_path).astype(\"f\")\n",
    "\n",
    "xsize = int(2160/grid)\n",
    "ysize = int(4096/grid)\n",
    "\n",
    "old_set = []\n",
    "new_set = []\n",
    "\n",
    "start_trim = False\n",
    "\n",
    "while set(old_set) == set(new_set):\n",
    "\n",
    "  for i in range(len(image_array)):\n",
    "\n",
    "    diff_list = []\n",
    "    diff_md_list = []\n",
    "    new_set = []\n",
    "\n",
    "    f1 = i+1\n",
    "    f2 = i+2\n",
    "\n",
    "    if i+1 >= len(image_array):\n",
    "      break\n",
    "\n",
    "    else:\n",
    "      tdframe1 = image_array[i]\n",
    "      tdframe2 = image_array[i+1]\n",
    "\n",
    "      for y in range(grid):\n",
    "        for x in range(grid):\n",
    "          rect1 = tdframe1[y*ysize:(y+1)*ysize,x*xsize:(x+1)*xsize]\n",
    "          rect2 = tdframe2[y*ysize:(y+1)*ysize,x*xsize:(x+1)*xsize]\n",
    "          range1 = np.reshape(rect1, xsize*ysize)\n",
    "          range2 = np.reshape(rect2, xsize*ysize)\n",
    "\n",
    "          diff_list = abs(range1 - range2)\n",
    "\n",
    "          diff_md = np.median(diff_list)\n",
    "          diff_md_list.append(diff_md)\n",
    "\n",
    "      new_set = set(diff_md_list)\n",
    "\n",
    "      if i == 0:\n",
    "        pass\n",
    "      elif set(old_set) != set(new_set):\n",
    "        print(f1,\"-\",(f1+61))\n",
    "        start_trim = True\n",
    "        break\n",
    "      else:\n",
    "        pass\n",
    "\n",
    "      old_set = []\n",
    "      old_set = set(diff_md_list)\n",
    "\n",
    "#-------------------------------------------------------------------------------\n",
    "\n",
    "delf_list = []\n",
    "last_frame = (f1-1) + 62\n",
    "\n",
    "if start_trim == True:\n",
    "\n",
    "  for n in range(f1-1):\n",
    "    delf_list.append(n)\n",
    "\n",
    "  if (len(image_array) - (f1-1)) > 62:\n",
    "    for n in range(len(image_array) - last_frame):\n",
    "      delf_list.append(n + 62)\n",
    "    new_image_array = np.delete(image_array, delf_list, 0)\n",
    "    tifffile.imwrite(save_path, new_image_array)\n",
    "\n",
    "  elif (len(image_array) - (f1-1)) == 62:\n",
    "    new_image_array = np.delete(image_array, delf_list, 0)\n",
    "    tifffile.imwrite(save_path, new_image_array)\n",
    "\n",
    "  else:\n",
    "    print(\"less than 62 frames\")\n",
    "\n",
    "#-------------------------------------------------------------------------------\n",
    "print(len(image_array))\n",
    "print(new_image_array.shape)"
   ]
  },
  {
   "cell_type": "code",
   "execution_count": null,
   "metadata": {
    "id": "g-FmWCtQilRH"
   },
   "outputs": [],
   "source": [
    "\n",
    "\n",
    "\n",
    "\n",
    "\n",
    "\n",
    "\n",
    "\n",
    "\n",
    "\n",
    "\n",
    "\n",
    "\n",
    "\n",
    "\n",
    "\n",
    "\n",
    "\n",
    "\n",
    "\n",
    "\n",
    "\n"
   ]
  },
  {
   "cell_type": "code",
   "execution_count": null,
   "metadata": {
    "id": "tbwKmAxHMUnm"
   },
   "outputs": [],
   "source": [
    "delf_list = []\n",
    "last_frame = (f1-1) + 62\n",
    "\n",
    "if start_trim == True:\n",
    "\n",
    "  for n in range(f1-1):\n",
    "    delf_list.append(n)\n",
    "\n",
    "  if (len(image_array) - (f1-1)) > 62:\n",
    "    for n in range(len(image_array) - last_frame):\n",
    "      delf_list.append(n + 62)\n",
    "    new_image_array = np.delete(image_array, delf_list, 0)\n",
    "    tifffile.imwrite(save_path, new_image_array)\n",
    "\n",
    "  elif (len(image_array) - (f1-1)) == 62:\n",
    "    new_image_array = np.delete(image_array, delf_list, 0)\n",
    "    tifffile.imwrite(save_path, new_image_array)\n",
    "\n",
    "  else:\n",
    "    print(\"less than 62 frames\")"
   ]
  },
  {
   "cell_type": "code",
   "execution_count": null,
   "metadata": {
    "colab": {
     "base_uri": "https://localhost:8080/"
    },
    "id": "ZWY3iEi1S6kF",
    "outputId": "7d4b5d08-bccb-4e46-c97c-00aedd88d3ec"
   },
   "outputs": [
    {
     "name": "stdout",
     "output_type": "stream",
     "text": [
      "(62, 4096, 2160)\n"
     ]
    }
   ],
   "source": [
    "print(new_image_array.shape)"
   ]
  },
  {
   "cell_type": "code",
   "execution_count": null,
   "metadata": {
    "colab": {
     "base_uri": "https://localhost:8080/"
    },
    "id": "1jTordxGxKmC",
    "outputId": "f34faba9-c533-44ad-ce79-cb2c719e8528"
   },
   "outputs": [
    {
     "name": "stdout",
     "output_type": "stream",
     "text": [
      "7\n"
     ]
    }
   ],
   "source": [
    "print(len(collections.Counter(all_md_list[n])))"
   ]
  },
  {
   "cell_type": "code",
   "execution_count": null,
   "metadata": {
    "colab": {
     "base_uri": "https://localhost:8080/",
     "height": 448
    },
    "id": "fE1sODT1gcd5",
    "outputId": "d161d8e7-db5f-4b2f-a8d7-80894861a68c"
   },
   "outputs": [
    {
     "data": {
      "text/plain": [
       "<matplotlib.legend.Legend at 0x79a1040ff7f0>"
      ]
     },
     "execution_count": 62,
     "metadata": {},
     "output_type": "execute_result"
    },
    {
     "data": {
      "image/png": "[encoded data removed]",
      "text/plain": [
       "<Figure size 640x480 with 1 Axes>"
      ]
     },
     "metadata": {},
     "output_type": "display_data"
    }
   ],
   "source": [
    "plt.hist(all_md_list, label=legend_list)\n",
    "plt.legend()"
   ]
  },
  {
   "cell_type": "code",
   "execution_count": null,
   "metadata": {
    "colab": {
     "base_uri": "https://localhost:8080/"
    },
    "id": "x2H6HadHbLhm",
    "outputId": "04dabbba-2564-4158-9606-4f6f7870df63"
   },
   "outputs": [
    {
     "name": "stdout",
     "output_type": "stream",
     "text": [
      "(1, 2) Counter({3.0: 254, 2.0: 2})\n",
      "(2, 3) Counter({3.0: 254, 2.0: 2})\n",
      "(3, 4) Counter({4.0: 120, 5.0: 88, 6.0: 27, 3.0: 20, 2.0: 1})\n",
      "(4, 5) Counter({5.0: 80, 7.0: 55, 4.0: 47, 6.0: 39, 8.0: 31, 9.0: 3, 3.0: 1})\n"
     ]
    }
   ],
   "source": []
  },
  {
   "cell_type": "code",
   "execution_count": null,
   "metadata": {
    "id": "RlS31dKYKWpW"
   },
   "outputs": [],
   "source": [
    "xsize = 135\n",
    "ysize = 256\n",
    "\n",
    "image_array = tifffile.imread(image_path)\n",
    "\n",
    "md_list = []\n",
    "legend_list = []\n",
    "\n",
    "for i in range(5): #range(len(image_array)):\n",
    "\n",
    "  diff_md_list = []\n",
    "  diff_list = []\n",
    "\n",
    "  f1 = i+1\n",
    "  f2 = i+2\n",
    "\n",
    "  if i+1 >= len(image_array):\n",
    "    break\n",
    "\n",
    "  else:\n",
    "    tdframe1 = image_array[i]\n",
    "    tdframe2 = image_array[i+1]\n",
    "\n",
    "    for _ in range(256):\n",
    "      x = random.randrange(2160-xsize)\n",
    "      y = random.randrange(4096-ysize)\n",
    "\n",
    "      rect1 = tdframe1[y:y+ysize,x:x+xsize]\n",
    "      rect2 = tdframe2[y:y+ysize,x:x+xsize]\n",
    "      range1 = np.reshape(rect1, (xsize*ysize))\n",
    "      range2 = np.reshape(rect2, (xsize*ysize))\n",
    "\n",
    "      for n in range(xsize*ysize):\n",
    "          if range1[n] > range2[n]:\n",
    "              diff = range1[n] - range2[n]\n",
    "          elif range1[n] < range2[n]:\n",
    "              diff = range2[n] - range1[n]\n",
    "          else:\n",
    "              diff = 0\n",
    "          diff_list.append(diff)\n",
    "\n",
    "      diff_md = np.median(diff_list)\n",
    "      diff_md_list.append(diff_md)\n",
    "\n",
    "  legend_list.append((f1,f2))\n",
    "  md_list.append(diff_md_list)\n",
    "  # print(diff_md_list,legend_list)\n",
    "\n",
    "\n",
    "# plt.hist(md_list, 20, label=legend_list)\n",
    "# plt.legend()\n"
   ]
  },
  {
   "cell_type": "code",
   "execution_count": null,
   "metadata": {
    "colab": {
     "base_uri": "https://localhost:8080/",
     "height": 448
    },
    "id": "7sT2t3UIB5Bz",
    "outputId": "23a91a64-783b-40f9-8333-10dd15b5286c"
   },
   "outputs": [
    {
     "data": {
      "text/plain": [
       "<matplotlib.legend.Legend at 0x79a1020598a0>"
      ]
     },
     "execution_count": 35,
     "metadata": {},
     "output_type": "execute_result"
    },
    {
     "data": {
      "image/png": "[encoded data removed]",
      "text/plain": [
       "<Figure size 640x480 with 1 Axes>"
      ]
     },
     "metadata": {},
     "output_type": "display_data"
    }
   ],
   "source": [
    "plt.hist(md_list, label=legend_list, align='mid')\n",
    "plt.legend()"
   ]
  },
  {
   "cell_type": "code",
   "execution_count": null,
   "metadata": {
    "colab": {
     "base_uri": "https://localhost:8080/"
    },
    "id": "-sLkRqtZC77T",
    "outputId": "357051dc-d876-4425-b458-8a3b0fb6f7f3"
   },
   "outputs": [
    {
     "name": "stdout",
     "output_type": "stream",
     "text": [
      "(1, 2) Counter({3.0: 214, 2.0: 42})\n",
      "(2, 3) Counter({3.0: 255, 4.0: 1})\n",
      "(3, 4) Counter({3.0: 252, 4.0: 2, 2.0: 1, 5.0: 1})\n",
      "(4, 5) Counter({4.0: 191, 5.0: 52, 3.0: 10, 2.0: 3})\n",
      "(5, 6) Counter({4.0: 223, 5.0: 30, 6.0: 2, 2.0: 1})\n"
     ]
    }
   ],
   "source": [
    "import collections\n",
    "\n",
    "for i in range(5):\n",
    "    print(legend_list[i], collections.Counter(md_list[i]))"
   ]
  },
  {
   "cell_type": "code",
   "execution_count": null,
   "metadata": {
    "colab": {
     "base_uri": "https://localhost:8080/"
    },
    "id": "vvHrawEheG7H",
    "outputId": "54def97d-825c-40ca-a6f1-4b7ab5d1f398"
   },
   "outputs": [
    {
     "name": "stdout",
     "output_type": "stream",
     "text": [
      "2 3 2.4651868781755404e-05 0.9498261924184395 0.9498015405496577\n",
      "3 4 0.013859543402467756 0.9498015405496577 0.93594199714719\n",
      "4 5 0.04572704822042528 0.93594199714719 0.8902149489267647\n",
      "5 6 0.01939712427589957 0.8902149489267647 0.9096120732026642\n",
      "6 7 0.03649583733442208 0.9096120732026642 0.9461079105370863\n",
      "7 8 0.006737235331841229 0.9461079105370863 0.9528451458689275\n",
      "8 9 0.015971706230024085 0.9528451458689275 0.9688168520989516\n",
      "9 10 0.006071953190096457 0.9688168520989516 0.9748888052890481\n",
      "10 11 0.0006250202215248857 0.9748888052890481 0.9742637850675232\n",
      "11 12 0.003117251681570732 0.9742637850675232 0.9773810367490939\n",
      "12 13 0.001358917824560324 0.9773810367490939 0.9787399545736543\n",
      "13 14 0.0015905720953317548 0.9787399545736543 0.980330526668986\n",
      "14 15 0.0008590573104831911 0.980330526668986 0.9811895839794692\n",
      "15 16 0.003343655308698512 0.9811895839794692 0.9778459286707707\n",
      "16 17 0.0003435291197469992 0.9778459286707707 0.9775023995510237\n",
      "17 18 0.0013128291707279471 0.9775023995510237 0.9788152287217516\n",
      "18 19 0.0005247115365752952 0.9788152287217516 0.9793399402583269\n",
      "19 20 0.0008409397715813949 0.9793399402583269 0.9801808800299083\n",
      "20 21 0.0010035670238640604 0.9801808800299083 0.9811844470537724\n",
      "21 22 0.0013883397346090565 0.9811844470537724 0.9825727867883814\n",
      "22 23 0.0007708937693027273 0.9825727867883814 0.9833436805576842\n",
      "23 24 0.0009637784186850018 0.9833436805576842 0.9843074589763692\n",
      "24 25 0.0004908549971518461 0.9843074589763692 0.984798313973521\n",
      "25 26 0.0031019021142708603 0.984798313973521 0.9816964118592502\n",
      "26 27 0.0016381848334331428 0.9816964118592502 0.9833345966926833\n",
      "27 28 0.0017293133411282469 0.9833345966926833 0.9850639100338116\n",
      "28 29 0.0011904538443056056 0.9850639100338116 0.9862543638781172\n",
      "29 30 0.0006126929484806531 0.9862543638781172 0.9868670568265978\n",
      "30 31 0.00033103606372764105 0.9868670568265978 0.9865360207628702\n",
      "31 32 2.1547838225166593e-05 0.9865360207628702 0.986514472924645\n",
      "32 33 0.00010933591911710394 0.986514472924645 0.9866238088437621\n",
      "33 34 0.0001530436881554964 0.9866238088437621 0.9864707651556066\n",
      "34 35 0.0004505122016434937 0.9864707651556066 0.9860202529539631\n",
      "35 36 0.00047013913917970385 0.9860202529539631 0.9855501138147834\n",
      "36 37 0.0027688004209072137 0.9855501138147834 0.9827813133938762\n",
      "37 38 0.002182105936265444 0.9827813133938762 0.9805992074576108\n",
      "38 39 0.001559040316891136 0.9805992074576108 0.9790401671407196\n",
      "39 40 0.002517631921750363 0.9790401671407196 0.98155779906247\n",
      "40 41 0.0004663622067807571 0.98155779906247 0.9820241612692507\n",
      "41 42 0.0013322832614948155 0.9820241612692507 0.9833564445307456\n",
      "42 43 0.00022389641892717194 0.9833564445307456 0.9835803409496727\n",
      "43 44 0.0017677187730728017 0.9835803409496727 0.9818126221765999\n",
      "44 45 0.00028711213884147213 0.9818126221765999 0.9815255100377585\n",
      "45 46 0.0003289342529906314 0.9815255100377585 0.9811965757847678\n",
      "46 47 0.00024584203247635106 0.9811965757847678 0.9809507337522915\n",
      "47 48 0.002401031238692064 0.9809507337522915 0.9833517649909835\n",
      "48 49 8.599048751845029e-05 0.9833517649909835 0.983437755478502\n",
      "49 50 0.000280257416123475 0.983437755478502 0.9831574980623785\n",
      "50 51 0.0003800096698904909 0.9831574980623785 0.983537507732269\n",
      "51 52 7.261544216652371e-05 0.983537507732269 0.9834648922901025\n",
      "52 53 0.0007712429017201483 0.9834648922901025 0.9826936493883823\n",
      "53 54 0.0008461916306330419 0.9826936493883823 0.9818474577577493\n",
      "54 55 4.376272219941413e-06 0.9818474577577493 0.9818430814855293\n",
      "55 56 0.0027072832624863707 0.9818430814855293 0.9845503647480157\n",
      "56 57 0.0004511119886666526 0.9845503647480157 0.9840992527593491\n",
      "57 58 0.0008203195678087027 0.9840992527593491 0.9849195723271578\n",
      "58 59 0.001415127862672172 0.9849195723271578 0.9863347001898299\n",
      "59 60 0.0012912068999051396 0.9863347001898299 0.9876259070897351\n",
      "60 61 0.00013060503418693692 0.9876259070897351 0.987756512123922\n",
      "61 62 0.0003143444880069346 0.987756512123922 0.988070856611929\n",
      "62 63 0.000857534811761429 0.988070856611929 0.9889283914236904\n",
      "63 64 0.00096841064913189 0.9889283914236904 0.9898968020728223\n",
      "64 65 0.0024569901146954676 0.9898968020728223 0.9923537921875177\n",
      "65 66 5.126456946846769e-05 0.9923537921875177 0.9924050567569862\n"
     ]
    }
   ],
   "source": [
    "image_array = tifffile.imread(image_path)\n",
    "\n",
    "prv_corr = 0\n",
    "\n",
    "for i in range(len(image_array)):\n",
    "\n",
    "  if i+1 >= len(image_array):\n",
    "    break\n",
    "\n",
    "  else:\n",
    "    tdframe1 = image_array[i]\n",
    "    tdframe2 = image_array[i+1]\n",
    "    frame1 = np.reshape(tdframe1, (8847360))\n",
    "    frame2 = np.reshape(tdframe2, (8847360))\n",
    "\n",
    "    correlation = np.corrcoef(frame1, frame2)\n",
    "    corr = correlation[0][1]\n",
    "\n",
    "    if prv_corr == 0:\n",
    "        pass\n",
    "    else:\n",
    "        print(i+1, i+2, abs(prv_corr - corr), prv_corr, corr)\n",
    "        # if math.isclose(corr, prv_corr, rel_tol=0.01) == False:\n",
    "        #     print(i+1, i+2)\n",
    "        #     break\n",
    "        # else:\n",
    "        #     print(math.isclose(corr, prv_corr, rel_tol=0.01), prv_corr, corr)\n",
    "\n",
    "    prv_corr = corr"
   ]
  }
 ],
 "metadata": {
  "colab": {
   "provenance": []
  },
  "kernelspec": {
   "display_name": "Python 3",
   "name": "python3"
  },
  "language_info": {
   "name": "python"
  }
 },
 "nbformat": 4,
 "nbformat_minor": 0
}
