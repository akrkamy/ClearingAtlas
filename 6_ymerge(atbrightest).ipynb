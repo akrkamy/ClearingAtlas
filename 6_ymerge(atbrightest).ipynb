{
 "cells": [
  {
   "cell_type": "code",
   "execution_count": 39,
   "metadata": {},
   "outputs": [],
   "source": [
    "import reset\n",
    "from pathlib import Path\n",
    "import numpy as np\n",
    "import scipy as sp\n",
    "import tifffile\n",
    "import math\n",
    "import matplotlib.pyplot as plt"
   ]
  },
  {
   "cell_type": "code",
   "execution_count": 40,
   "metadata": {},
   "outputs": [],
   "source": [
    "# Assign variables from reset\n",
    "animal_loc = reset.animal_loc\n",
    "animal_id = reset.animal_id\n",
    "hemi = reset.hemi\n",
    "divisor = reset.divisor\n",
    "down_x = reset.down_x\n",
    "down_y = reset.down_y\n",
    "grid = reset.grid\n",
    "frame_len = reset.frame_len\n",
    "max_pos = reset.max_pos"
   ]
  },
  {
   "cell_type": "code",
   "execution_count": 41,
   "metadata": {},
   "outputs": [],
   "source": [
    "# Create list of locations as strings\n",
    "pos_list = [str(n+1) for n in range(max_pos)]\n",
    "\n",
    "# Define paths for input and output images\n",
    "image_loc = animal_loc / \"xmerged\" / hemi\n",
    "save_loc = animal_loc / \"ymerged\" / hemi\n",
    "\n",
    "# Ensure save location exists\n",
    "save_loc.mkdir(parents=True, exist_ok=True)\n",
    "\n",
    "image_path_list = [f\"{image_loc}/{animal_id}_{hemi}_{pos}.tif\" for pos in pos_list]"
   ]
  },
  {
   "cell_type": "code",
   "execution_count": 42,
   "metadata": {},
   "outputs": [],
   "source": [
    "def find_brightest_frame(path_num1, path_num2, path_num3):\n",
    "    global max_frame\n",
    "    \"\"\"\n",
    "    Find the brightest frame across three image sequences.\n",
    "    Returns the index of the brightest frame and the average brightness for each image.\n",
    "    \"\"\"\n",
    "    average_brightness = []\n",
    "    for path_num in [path_num1, path_num2, path_num3]:\n",
    "        brightness_list = []\n",
    "        for fn in range(frame_len):\n",
    "            im = tifffile.imread(image_path_list[path_num - 1])\n",
    "            im_f = im[fn, :, :]\n",
    "            brightness_list.append(np.average(im_f))\n",
    "        \n",
    "        max_brightness = max(brightness_list)\n",
    "        max_frame_index = np.argmax(brightness_list)\n",
    "        average_brightness.append((max_brightness, max_frame_index))\n",
    "\n",
    "    # Determine the maximum brightness and corresponding frame\n",
    "    max_brightness_values, max_frame_indices = zip(*average_brightness)\n",
    "    max_frame = max_frame_indices[np.argmax(max_brightness_values)]\n",
    "    \n",
    "    print(f\"Brightest frame across sections: {max_frame}\")\n",
    "    return max_frame"
   ]
  },
  {
   "cell_type": "code",
   "execution_count": 43,
   "metadata": {},
   "outputs": [],
   "source": [
    "def y_connector(path_num1, path_num2, rect_y, rect_y_move, rect_y_start):\n",
    "    global start_y\n",
    "    # Load and extract frames from both images\n",
    "    im1 = tifffile.imread(image_path_list[path_num1 - 1])\n",
    "    im1_f = im1[max_frame, :, :]\n",
    "    del im1\n",
    "\n",
    "    im2 = tifffile.imread(image_path_list[path_num2 - 1])\n",
    "    im2_f = im2[max_frame, :, :]\n",
    "    del im2\n",
    "\n",
    "    # Calculate correlations over specified range\n",
    "    cor = [\n",
    "        np.corrcoef(\n",
    "            im1_f[:rect_y, :].ravel(),\n",
    "            im2_f[i:i + rect_y, :].ravel()\n",
    "        )[0, 1]\n",
    "        for i in range(rect_y_start, rect_y_start + rect_y_move)\n",
    "    ]\n",
    "\n",
    "    start_y = np.argmax(cor) + rect_y\n",
    "\n",
    "# Main function to align three sections vertically\n",
    "def nine_sections(f1, f2, f3, frame_name, rect_y, rect_y_move, rect_y_start):\n",
    "    global target1_start_y, target2_start_y\n",
    "\n",
    "    y_connector(f1, f2, rect_y, rect_y_move, rect_y_start)\n",
    "    target1_start_y = start_y\n",
    "    y_connector(f2, f3, rect_y, rect_y_move, rect_y_start)\n",
    "    target2_start_y = start_y\n",
    "\n",
    "    print(\"First section target frame and start y:\", max_frame, target1_start_y)\n",
    "    print(\"Second section target frame and start y:\", max_frame, target2_start_y)\n",
    "\n",
    "    # Load images outside the loop to avoid repeated loading\n",
    "    im1 = tifffile.imread(image_path_list[f1 - 1])\n",
    "    im2 = tifffile.imread(image_path_list[f2 - 1])\n",
    "    im3 = tifffile.imread(image_path_list[f3 - 1])\n",
    "\n",
    "    width1 = im1.shape[2]\n",
    "    width2 = im2.shape[2]\n",
    "    width3 = im3.shape[2]\n",
    "\n",
    "    # Align frames for all frames in `frame_len`\n",
    "    for fn in range(frame_len):\n",
    "        frame_name[fn, :height, :width1] = im1[fn,:,:]\n",
    "        frame_name[fn, height:2 * height - target1_start_y, :width2] = im2[fn, target1_start_y:, :]\n",
    "        frame_name[fn, 2 * height - target1_start_y:3 * height - target1_start_y - target2_start_y, :width3] = im3[fn, target2_start_y:, :]\n",
    "\n",
    "    del im1, im2, im3"
   ]
  },
  {
   "cell_type": "code",
   "execution_count": null,
   "metadata": {},
   "outputs": [],
   "source": [
    "#Adjust as deeded\n",
    "rect_y = 20\n",
    "rect_y_move = 200\n",
    "rect_y_start = down_y - rect_y - rect_y_move"
   ]
  },
  {
   "cell_type": "code",
   "execution_count": null,
   "metadata": {},
   "outputs": [],
   "source": [
    "height = down_y\n",
    "\n",
    "frame_height = 3 * down_y\n",
    "frame_width = 3 * down_x\n",
    "\n",
    "# Initialize frames for top, middle, and bottom sections\n",
    "frame = np.zeros((frame_len, frame_height, frame_width))"
   ]
  },
  {
   "cell_type": "code",
   "execution_count": 47,
   "metadata": {},
   "outputs": [
    {
     "name": "stdout",
     "output_type": "stream",
     "text": [
      "Brightest frame across sections: 21\n",
      "First section target frame and start y: 21 219\n",
      "Second section target frame and start y: 21 153\n",
      "Aligned image saved to /Volumes/BaffaloSSDPUTU3C1TB/rbak_data/rbak006/ymerged/l/rbak006_l_1.tif\n"
     ]
    }
   ],
   "source": [
    "find_brightest_frame(1, 2, 3)\n",
    "# Run alignment on specified sections\n",
    "nine_sections(1, 2, 3, frame, rect_y, rect_y_move, rect_y_start)\n",
    "# Save the aligned image\n",
    "save_path = save_loc / f\"{animal_id}_{hemi}_1.tif\"\n",
    "tifffile.imwrite(save_path, frame)\n",
    "print(f\"Aligned image saved to {save_path}\")"
   ]
  },
  {
   "cell_type": "code",
   "execution_count": 48,
   "metadata": {},
   "outputs": [
    {
     "name": "stdout",
     "output_type": "stream",
     "text": [
      "Brightest frame across sections: 59\n",
      "First section target frame and start y: 59 100\n",
      "Second section target frame and start y: 59 138\n",
      "Aligned image saved to /Volumes/BaffaloSSDPUTU3C1TB/rbak_data/rbak006/ymerged/l/rbak006_l_2.tif\n"
     ]
    }
   ],
   "source": [
    "find_brightest_frame(4, 5, 6)\n",
    "# Run alignment on specified sections\n",
    "nine_sections(4, 5, 6, frame, rect_y, rect_y_move, rect_y_start)\n",
    "# Save the aligned image\n",
    "save_path = save_loc / f\"{animal_id}_{hemi}_2.tif\"\n",
    "tifffile.imwrite(save_path, frame)\n",
    "print(f\"Aligned image saved to {save_path}\")"
   ]
  }
 ],
 "metadata": {
  "kernelspec": {
   "display_name": "Long-Evans_Atlas",
   "language": "python",
   "name": "python3"
  },
  "language_info": {
   "codemirror_mode": {
    "name": "ipython",
    "version": 3
   },
   "file_extension": ".py",
   "mimetype": "text/x-python",
   "name": "python",
   "nbconvert_exporter": "python",
   "pygments_lexer": "ipython3",
   "version": "3.11.9"
  }
 },
 "nbformat": 4,
 "nbformat_minor": 2
}
