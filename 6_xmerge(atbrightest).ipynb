{
 "cells": [
  {
   "cell_type": "code",
   "execution_count": 1,
   "metadata": {},
   "outputs": [],
   "source": [
    "import reset\n",
    "from pathlib import Path\n",
    "import numpy as np\n",
    "import scipy as sp\n",
    "import tifffile\n",
    "import math\n",
    "import matplotlib.pyplot as plt"
   ]
  },
  {
   "cell_type": "code",
   "execution_count": 2,
   "metadata": {},
   "outputs": [],
   "source": [
    "# Assign variables from reset\n",
    "animal_loc = reset.animal_loc\n",
    "animal_id = reset.animal_id\n",
    "hemi = reset.hemi\n",
    "divisor = reset.divisor\n",
    "down_x = reset.down_x\n",
    "down_y = reset.down_y\n",
    "loc_max = reset.loc_max\n",
    "grid = reset.grid\n",
    "frame_len = reset.frame_len"
   ]
  },
  {
   "cell_type": "code",
   "execution_count": 3,
   "metadata": {},
   "outputs": [],
   "source": [
    "# Create list of locations as strings\n",
    "loc_list = [str(n+1) for n in range(loc_max)]\n",
    "\n",
    "# Define paths for input and output images\n",
    "image_loc = animal_loc / \"ffc\" / hemi\n",
    "save_loc = animal_loc / \"xmerged\" / hemi\n",
    "\n",
    "# Ensure save location exists\n",
    "save_loc.mkdir(parents=True, exist_ok=True)\n",
    "\n",
    "image_path_list = [f\"{image_loc}/{animal_id}_{hemi}_{loc}.tif\" for loc in loc_list]"
   ]
  },
  {
   "cell_type": "code",
   "execution_count": 4,
   "metadata": {},
   "outputs": [],
   "source": [
    "def find_brightest_frame(path_num1, path_num2, path_num3):\n",
    "    global max_frame\n",
    "    \"\"\"\n",
    "    Find the brightest frame across three image sequences.\n",
    "    Returns the index of the brightest frame and the average brightness for each image.\n",
    "    \"\"\"\n",
    "    average_brightness = []\n",
    "    for path_num in [path_num1, path_num2, path_num3]:\n",
    "        brightness_list = []\n",
    "        for fn in range(frame_len):\n",
    "            im = tifffile.imread(image_path_list[path_num - 1])\n",
    "            im_f = im[fn, :, :]\n",
    "            brightness_list.append(np.average(im_f))\n",
    "        \n",
    "        max_brightness = max(brightness_list)\n",
    "        max_frame_index = np.argmax(brightness_list)\n",
    "        average_brightness.append((max_brightness, max_frame_index))\n",
    "\n",
    "    # Determine the maximum brightness and corresponding frame\n",
    "    max_brightness_values, max_frame_indices = zip(*average_brightness)\n",
    "    max_frame = max_frame_indices[np.argmax(max_brightness_values)]\n",
    "    \n",
    "    print(f\"Brightest frame across sections: {max_frame}\")\n",
    "    return max_frame"
   ]
  },
  {
   "cell_type": "code",
   "execution_count": 5,
   "metadata": {},
   "outputs": [],
   "source": [
    "# Define function for aligning x positions based on maximum correlation\n",
    "def x_connector(path_num1, path_num2, rect_x, rect_x_move, rect_x_start):\n",
    "    global start_x\n",
    "    # Load and extract frames from both images\n",
    "    im1 = tifffile.imread(image_path_list[path_num1 - 1])\n",
    "    im1_f = im1[max_frame, :, :]\n",
    "    del im1\n",
    "\n",
    "    im2 = tifffile.imread(image_path_list[path_num2 - 1])\n",
    "    im2_f = im2[max_frame, :, :]\n",
    "    del im2\n",
    "\n",
    "    # Calculate correlations over specified range\n",
    "    cor = [\n",
    "        np.corrcoef(\n",
    "            im1_f[:, :rect_x].ravel(),\n",
    "            im2_f[:, i:i + rect_x].ravel()\n",
    "        )[0, 1]\n",
    "        for i in range(rect_x_start, rect_x_start + rect_x_move)\n",
    "    ]\n",
    "\n",
    "    # Determine start position with max correlation\n",
    "    start_x = np.argmax(cor) + rect_x\n",
    "\n",
    "def three_sections(f1, f2, f3, frame_name, rect_x, rect_x_move, rect_x_start):\n",
    "    global max1_list, max2_list, start_x1_list, start_x2_list\n",
    "\n",
    "    max1_list, max2_list = [], []\n",
    "    start_x1_list, start_x2_list = [], []\n",
    "\n",
    "    x_connector(f1, f2, rect_x, rect_x_move, rect_x_start)\n",
    "    target1_start_x = start_x\n",
    "    x_connector(f2, f3, rect_x, rect_x_move, rect_x_start)\n",
    "    target2_start_x = start_x\n",
    "\n",
    "    print(\"First section target frame and start x:\", max_frame, target1_start_x)\n",
    "    print(\"Second section target frame and start x:\", max_frame, target2_start_x)\n",
    "\n",
    "    # Load and align images in frame_name for all frames\n",
    "    for fn in range(frame_len):\n",
    "        im1 = tifffile.imread(image_path_list[f1 - 1])\n",
    "        rot_im1 = im1[fn, ::-1, ::-1]\n",
    "        frame_name[fn, :, :width] = rot_im1\n",
    "        del im1\n",
    "\n",
    "        im2 = tifffile.imread(image_path_list[f2 - 1])\n",
    "        rot_im2 = im2[fn, ::-1, ::-1]\n",
    "        frame_name[fn, :, width:2 * width - target1_start_x] = rot_im2[:, target1_start_x:]\n",
    "        del im2\n",
    "\n",
    "        im3 = tifffile.imread(image_path_list[f3 - 1])\n",
    "        rot_im3 = im3[fn, ::-1, ::-1]\n",
    "        frame_name[fn, :, 2 * width - target1_start_x:3 * width - target1_start_x - target2_start_x] = rot_im3[:, target2_start_x:]\n",
    "        del im3"
   ]
  },
  {
   "cell_type": "code",
   "execution_count": 6,
   "metadata": {},
   "outputs": [],
   "source": [
    "rect_x = 35\n",
    "rect_x_move = 100\n",
    "rect_x_start = down_x - rect_x - rect_x_move\n",
    "\n",
    "width = down_x\n",
    "frame_height = down_y\n",
    "frame_width = 3 * width\n",
    "\n",
    "# Initialize frames for top, middle, and bottom sections\n",
    "frame = np.zeros((frame_len, frame_height, frame_width))"
   ]
  },
  {
   "cell_type": "code",
   "execution_count": 7,
   "metadata": {},
   "outputs": [
    {
     "name": "stdout",
     "output_type": "stream",
     "text": [
      "Brightest frame across sections: 29\n",
      "First section target frame and start x: 29 125\n",
      "Second section target frame and start x: 29 35\n",
      "Aligned image saved to /Volumes/BaffaloSSDPUTU3C1TB/rbak_data/rbak006/xmerged/l/rbak006_l_1.tif\n"
     ]
    }
   ],
   "source": [
    "find_brightest_frame(1, 2, 3)\n",
    "three_sections(1, 2, 3, frame, rect_x, rect_x_move, rect_x_start)\n",
    "save_path = save_loc / f\"{animal_id}_{hemi}_1.tif\"\n",
    "tifffile.imwrite(save_path, frame)\n",
    "print(f\"Aligned image saved to {save_path}\")"
   ]
  },
  {
   "cell_type": "code",
   "execution_count": 8,
   "metadata": {},
   "outputs": [
    {
     "name": "stdout",
     "output_type": "stream",
     "text": [
      "Brightest frame across sections: 22\n",
      "First section target frame and start x: 22 72\n",
      "Second section target frame and start x: 22 134\n",
      "Aligned image saved to /Volumes/BaffaloSSDPUTU3C1TB/rbak_data/rbak006/xmerged/l/rbak006_l_2.tif\n"
     ]
    }
   ],
   "source": [
    "find_brightest_frame(6, 5, 4)\n",
    "three_sections(6, 5, 4, frame, rect_x, rect_x_move, rect_x_start)\n",
    "save_path = save_loc / f\"{animal_id}_{hemi}_2.tif\"\n",
    "tifffile.imwrite(save_path, frame)\n",
    "print(f\"Aligned image saved to {save_path}\")"
   ]
  },
  {
   "cell_type": "code",
   "execution_count": 9,
   "metadata": {},
   "outputs": [
    {
     "name": "stdout",
     "output_type": "stream",
     "text": [
      "Brightest frame across sections: 45\n",
      "First section target frame and start x: 45 122\n",
      "Second section target frame and start x: 45 90\n",
      "Aligned image saved to /Volumes/BaffaloSSDPUTU3C1TB/rbak_data/rbak006/xmerged/l/rbak006_l_4.tif\n"
     ]
    }
   ],
   "source": [
    "find_brightest_frame(7, 8, 9)\n",
    "# Run alignment on specified sections\n",
    "three_sections(7, 8, 9, frame, rect_x, rect_x_move, rect_x_start)\n",
    "# Save the aligned image\n",
    "save_path = save_loc / f\"{animal_id}_{hemi}_4.tif\"\n",
    "tifffile.imwrite(save_path, frame)\n",
    "print(f\"Aligned image saved to {save_path}\")"
   ]
  },
  {
   "cell_type": "code",
   "execution_count": 10,
   "metadata": {},
   "outputs": [
    {
     "name": "stdout",
     "output_type": "stream",
     "text": [
      "Brightest frame across sections: 60\n",
      "First section target frame and start x: 60 75\n",
      "Second section target frame and start x: 60 134\n",
      "Aligned image saved to /Volumes/BaffaloSSDPUTU3C1TB/rbak_data/rbak006/xmerged/l/rbak006_l_5.tif\n"
     ]
    }
   ],
   "source": [
    "find_brightest_frame(12, 11, 10)\n",
    "three_sections(12, 11, 10, frame, rect_x, rect_x_move, rect_x_start)\n",
    "save_path = save_loc / f\"{animal_id}_{hemi}_5.tif\"\n",
    "tifffile.imwrite(save_path, frame)\n",
    "print(f\"Aligned image saved to {save_path}\")"
   ]
  },
  {
   "cell_type": "code",
   "execution_count": 11,
   "metadata": {},
   "outputs": [
    {
     "name": "stdout",
     "output_type": "stream",
     "text": [
      "Brightest frame across sections: 32\n",
      "First section target frame and start x: 32 109\n",
      "Second section target frame and start x: 32 91\n",
      "Aligned image saved to /Volumes/BaffaloSSDPUTU3C1TB/rbak_data/rbak006/xmerged/l/rbak006_l_3.tif\n"
     ]
    }
   ],
   "source": [
    "find_brightest_frame(13, 14, 15)\n",
    "three_sections(13, 14, 15, frame, rect_x, rect_x_move, rect_x_start)\n",
    "save_path = save_loc / f\"{animal_id}_{hemi}_3.tif\"\n",
    "tifffile.imwrite(save_path, frame)\n",
    "print(f\"Aligned image saved to {save_path}\")"
   ]
  },
  {
   "cell_type": "code",
   "execution_count": 12,
   "metadata": {},
   "outputs": [
    {
     "name": "stdout",
     "output_type": "stream",
     "text": [
      "Brightest frame across sections: 58\n",
      "First section target frame and start x: 58 131\n",
      "Second section target frame and start x: 58 115\n",
      "Aligned image saved to /Volumes/BaffaloSSDPUTU3C1TB/rbak_data/rbak006/xmerged/l/rbak006_l_6.tif\n"
     ]
    }
   ],
   "source": [
    "find_brightest_frame(16, 17, 18)\n",
    "three_sections(16, 17, 18, frame, rect_x, rect_x_move, rect_x_start)\n",
    "save_path = save_loc / f\"{animal_id}_{hemi}_6.tif\"\n",
    "tifffile.imwrite(save_path, frame)\n",
    "print(f\"Aligned image saved to {save_path}\")"
   ]
  }
 ],
 "metadata": {
  "kernelspec": {
   "display_name": "Long-Evans_Atlas",
   "language": "python",
   "name": "python3"
  },
  "language_info": {
   "codemirror_mode": {
    "name": "ipython",
    "version": 3
   },
   "file_extension": ".py",
   "mimetype": "text/x-python",
   "name": "python",
   "nbconvert_exporter": "python",
   "pygments_lexer": "ipython3",
   "version": "3.11.9"
  }
 },
 "nbformat": 4,
 "nbformat_minor": 2
}
