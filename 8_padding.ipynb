{
 "cells": [
  {
   "cell_type": "code",
   "execution_count": 1,
   "metadata": {},
   "outputs": [],
   "source": [
    "import reset\n",
    "from pathlib import Path\n",
    "import numpy as np\n",
    "import tifffile"
   ]
  },
  {
   "cell_type": "code",
   "execution_count": 2,
   "metadata": {},
   "outputs": [],
   "source": [
    "# Assign variables from reset\n",
    "animal_loc = reset.animal_loc\n",
    "animal_id = reset.animal_id\n",
    "hemi = reset.hemi\n",
    "frame_len = reset.frame_len\n",
    "down_x = reset.down_x\n",
    "down_y = reset.down_y"
   ]
  },
  {
   "cell_type": "code",
   "execution_count": 21,
   "metadata": {},
   "outputs": [],
   "source": [
    "# Define paths for input and output images\n",
    "image_loc = animal_loc / \"ffc\" / hemi\n",
    "save_loc = animal_loc / \"addblank\" / hemi\n",
    "\n",
    "# Ensure save location exists\n",
    "save_loc.mkdir(parents=True, exist_ok=True)\n",
    "\n",
    "image_path_list = [f\"{image_loc}/{animal_id}_{hemi}_{n}.tif\" for n in range(1,3)]"
   ]
  },
  {
   "cell_type": "code",
   "execution_count": 22,
   "metadata": {},
   "outputs": [],
   "source": [
    "image1 = tifffile.imread(image_path_list[0])\n",
    "zero = np.zeros((frame_len, 3*down_y, down_x))"
   ]
  },
  {
   "cell_type": "code",
   "execution_count": 23,
   "metadata": {},
   "outputs": [],
   "source": [
    "image2 = tifffile.imread(image_path_list[1])\n",
    "image2 = image2[::-1, :, ::-1]"
   ]
  },
  {
   "cell_type": "code",
   "execution_count": null,
   "metadata": {},
   "outputs": [],
   "source": [
    "img1 = np.concatenate((zero, image1), axis=2)\n",
    "img2 = np.concatenate((zero, image2), axis=2)\n",
    "\n",
    "img1 = img1.astype('uint8')\n",
    "img2 = img2.astype('uint8')"
   ]
  },
  {
   "cell_type": "code",
   "execution_count": 25,
   "metadata": {},
   "outputs": [
    {
     "name": "stdout",
     "output_type": "stream",
     "text": [
      "Saved image: /Volumes/BaffaloSSDPUTU3C1TB/rbak_data/rbak006/addblank/l/rbak006_l_1.tif\n",
      "Saved image: /Volumes/BaffaloSSDPUTU3C1TB/rbak_data/rbak006/addblank/l/rbak006_l_2.tif\n"
     ]
    }
   ],
   "source": [
    "save_path = save_loc / f\"{animal_id}_{hemi}_1.tif\"\n",
    "tifffile.imwrite(save_path, img1)\n",
    "print(f\"Saved image: {save_path}\")\n",
    "\n",
    "save_path = save_loc / f\"{animal_id}_{hemi}_2.tif\"\n",
    "tifffile.imwrite(save_path, img2)\n",
    "print(f\"Saved image: {save_path}\")"
   ]
  }
 ],
 "metadata": {
  "kernelspec": {
   "display_name": "Long-Evans_Atlas",
   "language": "python",
   "name": "python3"
  },
  "language_info": {
   "codemirror_mode": {
    "name": "ipython",
    "version": 3
   },
   "file_extension": ".py",
   "mimetype": "text/x-python",
   "name": "python",
   "nbconvert_exporter": "python",
   "pygments_lexer": "ipython3",
   "version": "3.11.9"
  }
 },
 "nbformat": 4,
 "nbformat_minor": 2
}
