{
 "cells": [
  {
   "cell_type": "code",
   "execution_count": 1,
   "metadata": {},
   "outputs": [],
   "source": [
    "import numpy as np\n",
    "import tifffile\n",
    "from scipy.interpolate import RBFInterpolator\n",
    "from scipy.ndimage import map_coordinates\n",
    "import matplotlib.pyplot as plt"
   ]
  },
  {
   "cell_type": "code",
   "execution_count": 2,
   "metadata": {},
   "outputs": [],
   "source": [
    "# --- 1. 画像読み込み ---\n",
    "pathA = '/Volumes/BaffaloSSDPUTU3C1TB/rbak_data/scaled/rbak006_l.tif'\n",
    "pathB = '/Volumes/BaffaloSSDPUTU3C1TB/rbak_data/scaled/rbak002_l.tif'\n",
    "A = tifffile.imread(pathA)  # 画像A (shape: Z, Y, X)\n",
    "B = tifffile.imread(pathB)  # 画像B (shape: Z, Y, X)"
   ]
  },
  {
   "cell_type": "code",
   "execution_count": 3,
   "metadata": {},
   "outputs": [],
   "source": [
    "# --- 2. キーポイント設定 ---\n",
    "# npyファイルからキーポイントを読み込む\n",
    "points_A_file = \"/Volumes/BaffaloSSDPUTU3C1TB/rbak_data/keypoints/rbak006_l.npy\"\n",
    "points_B_file = \"/Volumes/BaffaloSSDPUTU3C1TB/rbak_data/keypoints/rbak002_l.npy\"\n",
    "\n",
    "points_A = np.load(points_A_file)  # .npyファイルからAのキーポイントを読み込み\n",
    "points_B = np.load(points_B_file)  # .npyファイルからBのキーポイントを読み込み\n",
    "\n",
    "if points_A.shape != points_B.shape or points_A.shape[1] != 3:\n",
    "    raise ValueError(\"Keypoints in A and B must have the same shape and each point must have 3 coordinates (z, y, x).\")"
   ]
  },
  {
   "cell_type": "code",
   "execution_count": 4,
   "metadata": {},
   "outputs": [],
   "source": [
    "# --- 3. 変位ベクトル計算 ---\n",
    "displacements = points_A - points_B  # A上でのBのズレ (shape: N, 3)"
   ]
  },
  {
   "cell_type": "code",
   "execution_count": 5,
   "metadata": {},
   "outputs": [],
   "source": [
    "# --- 4. RBF補間で変形場を作成 ---\n",
    "rbf = RBFInterpolator(points_A, displacements, smoothing=0.0, kernel='thin_plate_spline')"
   ]
  },
  {
   "cell_type": "code",
   "execution_count": 6,
   "metadata": {},
   "outputs": [],
   "source": [
    "# ---- Step 5: Process Image in Chunks to Handle Large Data ----\n",
    "Z, Y, X = A.shape\n",
    "warped_B = np.zeros_like(A, dtype=B.dtype)  # Output image with the same shape as A\n",
    "\n",
    "chunk_size = 10  # Number of Z slices to process in each chunk (adjust based on memory)\n",
    "\n",
    "for z_start in range(0, Z, chunk_size):\n",
    "    z_end = min(z_start + chunk_size, Z)\n",
    "\n",
    "    # Generate coordinates for the current chunk\n",
    "    zz, yy, xx = np.meshgrid(\n",
    "        np.arange(z_start, z_end),  # Z range for this chunk\n",
    "        np.arange(Y),               # Y range for the entire image\n",
    "        np.arange(X),               # X range for the entire image\n",
    "        indexing='ij'\n",
    "    )\n",
    "    coords_A_chunk = np.stack([zz.ravel(), yy.ravel(), xx.ravel()], axis=1)  # Shape: (chunk_size * Y * X, 3)\n",
    "\n",
    "    # Compute displacement field for the current chunk\n",
    "    displacement_field = rbf(coords_A_chunk)  # Shape: (chunk_size * Y * X, 3)\n",
    "\n",
    "    # Calculate B's coordinates corresponding to A's coordinates\n",
    "    coords_B_chunk = coords_A_chunk - displacement_field\n",
    "\n",
    "    # Reshape coordinates to 3D for `map_coordinates`\n",
    "    coords_B_z = coords_B_chunk[:, 0].reshape(z_end - z_start, Y, X)\n",
    "    coords_B_y = coords_B_chunk[:, 1].reshape(z_end - z_start, Y, X)\n",
    "    coords_B_x = coords_B_chunk[:, 2].reshape(z_end - z_start, Y, X)\n",
    "\n",
    "    # Warp B using the calculated deformation field\n",
    "    warped_B[z_start:z_end, :, :] = map_coordinates(\n",
    "        B, [coords_B_z, coords_B_y, coords_B_x],\n",
    "        order=1, mode='nearest'  # Linear interpolation, nearest boundary mode\n",
    "    )"
   ]
  },
  {
   "cell_type": "code",
   "execution_count": null,
   "metadata": {},
   "outputs": [
    {
     "name": "stdout",
     "output_type": "stream",
     "text": [
      "Warped image saved\n"
     ]
    }
   ],
   "source": [
    "# ---- Step 6: Save the Result ----\n",
    "tifffile.imwrite(\"/Volumes/BaffaloSSDPUTU3C1TB/rbak_data/kptransformed/rbak002_l.tif\", warped_B.astype('uint8'))\n",
    "print(\"Warped image saved\")"
   ]
  }
 ],
 "metadata": {
  "kernelspec": {
   "display_name": "Long-Evans_Atlas",
   "language": "python",
   "name": "python3"
  },
  "language_info": {
   "codemirror_mode": {
    "name": "ipython",
    "version": 3
   },
   "file_extension": ".py",
   "mimetype": "text/x-python",
   "name": "python",
   "nbconvert_exporter": "python",
   "pygments_lexer": "ipython3",
   "version": "3.11.9"
  }
 },
 "nbformat": 4,
 "nbformat_minor": 2
}
